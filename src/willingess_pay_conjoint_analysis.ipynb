{
 "cells": [
  {
   "cell_type": "markdown",
   "id": "464d22a0-e0ab-4d77-a015-197d4dea872b",
   "metadata": {},
   "source": [
    "- @author: Artometrix\n",
    "- `keywords`: Pricing strategy , Measure customer preferences\n",
    "\n",
    "\n",
    "## Wilingness to pay from conjoint analysis \n",
    "\n",
    "\n",
    "### Conjoint analysis \n",
    "\n",
    "- Sellers objective is to increase profits by providing cost effective products that consumers value\n",
    "- First step: Determine the trade-offs consumers are willing to make among various attributes"
   ]
  },
  {
   "cell_type": "code",
   "execution_count": null,
   "id": "a5025e24-ad66-468f-8286-2ab6bcc5f09f",
   "metadata": {},
   "outputs": [],
   "source": [
    "### Results\n",
    "attributes = {\n",
    "    \"RIM_DEPTH\": [18, 24, 30, 36],\n",
    "    \"MAX_TIRE_PRESSURE\": [25, 32, 45, 50],\n",
    "    \"WEIGHT\": [1530, 700, ],\n",
    "    \"Hub width\": []\t\n",
    "    \"product_name\": [f'product_{i}' for i in range(1,5)]\n",
    "}"
   ]
  },
  {
   "cell_type": "code",
   "execution_count": null,
   "id": "0a2a5e75-6a95-433a-9fd2-5313867a26b1",
   "metadata": {},
   "outputs": [],
   "source": [
    "# Define attributes and levels\n",
    "attributes = {\n",
    "    \"capacity_oz\": [18, 24, 30, 36],\n",
    "    \"cost_dollar\": [25, 32, 45, 50],\n",
    "    \"cold_retention_h\": [6, 12, 18, 24],\n",
    "    \"product_name\": [f'product_{i}' for i in range(1,5)]\n",
    "}\n",
    "\n",
    "# Create a list of all possible product profiles\n",
    "product_profiles = pd.DataFrame(attributes\n",
    ")\n",
    "\n",
    "\n",
    "product_profiles"
   ]
  },
  {
   "cell_type": "code",
   "execution_count": null,
   "id": "4cf24e55-6fbf-4e4f-a3c2-294fa2ee9807",
   "metadata": {},
   "outputs": [],
   "source": [
    "###  Collect preference data \n",
    "\n",
    "- synthethic data : Generate integer preference data on a scale of 1 to 5 for 100 respondents\n"
   ]
  },
  {
   "cell_type": "code",
   "execution_count": null,
   "id": "0b96373f-ecf1-4fd8-975a-04ae58a9a4b3",
   "metadata": {},
   "outputs": [],
   "source": [
    "num_respondents = 100\n",
    "\n",
    "preferences = pd.DataFrame(\n",
    "    np.random.randint(1, 6, size=(num_respondents, len(product_profiles))),\n",
    "    columns=product_profiles['product_name'].unique()\n",
    ")\n",
    "display(preferences)\n"
   ]
  },
  {
   "cell_type": "code",
   "execution_count": null,
   "id": "892ed376-05be-4f4c-bed7-fba5b3b279cd",
   "metadata": {},
   "outputs": [],
   "source": [
    "# Reshape the preferences data for analysis\n",
    "preferences_long = preferences.melt(var_name='profile', value_name='preference')\n",
    "preferences_long = preferences_long.sort_values(by='profile').reset_index(drop=True)\n",
    "\n",
    "# Merge the preferences with the product profiles\n",
    "preferences_long = preferences_long.merge(\n",
    "    product_profiles, left_on='profile', \n",
    "    right_on='product_name'\n",
    ")\n",
    "\n",
    "display(preferences_long)\n"
   ]
  },
  {
   "cell_type": "code",
   "execution_count": null,
   "id": "ec056b68-737e-4cfc-8080-9d2ce8b5f82c",
   "metadata": {},
   "outputs": [],
   "source": [
    "# One-hot encode the attributes\n",
    "preferences_encoded = pd.get_dummies(preferences_long.drop(columns=['profile','product_name']))\n",
    "preferences_encoded\n"
   ]
  },
  {
   "cell_type": "markdown",
   "id": "1c3b1b38-42cf-48ba-a6bd-46e20dc0ad79",
   "metadata": {},
   "source": [
    "### Estimates utility values \n",
    "\n",
    "> To find the increased willingness to pay for extending the heat retention time from 12 hours to 18 hours, we calculate the utility difference and convert it into monetary terms:"
   ]
  },
  {
   "cell_type": "code",
   "execution_count": null,
   "id": "f58e1396-e7cc-44b5-9a68-399c0dc69594",
   "metadata": {},
   "outputs": [],
   "source": [
    "\n",
    "# Fit a linear regression model to estimate utility values\n",
    "X = preferences_encoded.drop(columns=['preference'])\n",
    "y = preferences_encoded['preference']\n",
    "model = LinearRegression()\n",
    "model.fit(X, y)\n",
    "\n",
    "# Extract the utility values\n",
    "utility_values = pd.Series(model.coef_, index=X.columns)\n",
    "utility_values\n",
    "\n",
    "# Print utility values for each attribute level\n",
    "print(\"Utility Values:\")\n",
    "print(utility_values)\n",
    "\n",
    "# # Summarize the utility values by attribute\n",
    "# utility_summary = utility_values.groupby(lambda x: x.split('_')[0]).mean()\n",
    "# print(\"\\nUtility summary:\")\n",
    "# print(utility_summary)\n"
   ]
  }
 ],
 "metadata": {
  "kernelspec": {
   "display_name": "Python 3 (ipykernel)",
   "language": "python",
   "name": "python3"
  },
  "language_info": {
   "codemirror_mode": {
    "name": "ipython",
    "version": 3
   },
   "file_extension": ".py",
   "mimetype": "text/x-python",
   "name": "python",
   "nbconvert_exporter": "python",
   "pygments_lexer": "ipython3",
   "version": "3.8.17"
  }
 },
 "nbformat": 4,
 "nbformat_minor": 5
}
