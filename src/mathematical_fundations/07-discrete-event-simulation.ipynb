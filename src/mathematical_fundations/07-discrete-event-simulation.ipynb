{
 "cells": [
  {
   "cell_type": "markdown",
   "id": "30cce303-8231-48fd-b88a-8205d796da52",
   "metadata": {},
   "source": [
    "## Discrete event simulation"
   ]
  },
  {
   "cell_type": "code",
   "execution_count": null,
   "id": "2ac09769-e9bc-4bb5-98f2-deee9c40310e",
   "metadata": {},
   "outputs": [],
   "source": [
    "import numpy as np"
   ]
  }
 ],
 "metadata": {
  "kernelspec": {
   "display_name": "Python 3 (ipykernel)",
   "language": "python",
   "name": "python3"
  },
  "language_info": {
   "codemirror_mode": {
    "name": "ipython",
    "version": 3
   },
   "file_extension": ".py",
   "mimetype": "text/x-python",
   "name": "python",
   "nbconvert_exporter": "python",
   "pygments_lexer": "ipython3",
   "version": "3.10.12"
  }
 },
 "nbformat": 4,
 "nbformat_minor": 5
}
