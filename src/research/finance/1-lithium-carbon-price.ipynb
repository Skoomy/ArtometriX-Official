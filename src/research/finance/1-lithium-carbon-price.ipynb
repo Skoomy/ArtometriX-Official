{
 "cells": [
  {
   "cell_type": "markdown",
   "id": "07327f0a-fdc2-4d71-9169-a6e91ca32a91",
   "metadata": {},
   "source": [
    "Lithium carbonate prices \n",
    "https://tradingeconomics.com/commodity/lithium\n",
    "\n",
    "\n",
    "\n",
    "> Lithium is used predominantly for developing lithium-ion batteries.\n",
    "\n",
    "\n",
    "## References \n",
    "\n",
    "https://www.oecd.org/tax/tax-global/public-consultation-document-determining-the-price-of-minerals-a-transfer-pricing-framework-for-lithium.pdf"
   ]
  },
  {
   "cell_type": "code",
   "execution_count": null,
   "id": "30e50cbb-14e5-4942-be0d-c3f49a563754",
   "metadata": {},
   "outputs": [],
   "source": []
  }
 ],
 "metadata": {
  "kernelspec": {
   "display_name": "Python 3 (ipykernel)",
   "language": "python",
   "name": "python3"
  },
  "language_info": {
   "codemirror_mode": {
    "name": "ipython",
    "version": 3
   },
   "file_extension": ".py",
   "mimetype": "text/x-python",
   "name": "python",
   "nbconvert_exporter": "python",
   "pygments_lexer": "ipython3",
   "version": "3.10.12"
  }
 },
 "nbformat": 4,
 "nbformat_minor": 5
}
