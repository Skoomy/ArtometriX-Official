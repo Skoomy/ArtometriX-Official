{
 "cells": [
  {
   "cell_type": "markdown",
   "id": "259044a7-4fe9-4d42-b87c-62c7c1cfd8c4",
   "metadata": {},
   "source": [
    "# From Travel to Finance: How Airbnb Leverages Guest Payments\n",
    "\n",
    "\n",
    "> What is Interest Income? Interest income is the amount paid to an entity for lending its money or letting another entity use its funds. On a larger scale, interest income is the amount earned by an investor's money that he places in an investment or project.\n",
    "\n",
    "- Data sources \n",
    "\n",
    "https://airbnb2020ipo.q4web.com/files/doc_financials/2024/q1/Airbnb_Q1-2024-Shareholder-Letter_Final-1.pdf"
   ]
  },
  {
   "cell_type": "code",
   "execution_count": null,
   "id": "2eacf0bd-0d2f-45d7-ac6c-5e7f60b519c0",
   "metadata": {},
   "outputs": [],
   "source": []
  },
  {
   "cell_type": "code",
   "execution_count": 96,
   "id": "4c0466ec-b859-4c14-b0a7-cdb5fa476a15",
   "metadata": {},
   "outputs": [],
   "source": [
    "import yfinance as yf\n",
    "import plotly.graph_objects as go\n",
    "from plotly.subplots import make_subplots\n",
    "import pandas as pd\n",
    "import numpy as np"
   ]
  },
  {
   "cell_type": "code",
   "execution_count": 20,
   "id": "115be640-62dd-42a6-908b-b22d2edac572",
   "metadata": {},
   "outputs": [],
   "source": [
    "ticker = yf.Ticker(\"ABNB\")"
   ]
  },
  {
   "cell_type": "code",
   "execution_count": 21,
   "id": "08ae1264-bc73-4f68-9784-faadf5eea113",
   "metadata": {},
   "outputs": [],
   "source": [
    "# get historical market data\n",
    "hist = ticker.history(period=\"max\")\n",
    "dt_financials_0 = ticker.financials\n",
    "key = \"Interest Income Non Operating\"\n",
    "\n",
    "\n"
   ]
  },
  {
   "cell_type": "code",
   "execution_count": 22,
   "id": "a1e4cb6a-5c41-4195-a07f-2908e095fcd9",
   "metadata": {},
   "outputs": [
    {
     "data": {
      "text/plain": [
       "2023-12-31    721000000.0\n",
       "2022-12-31    186000000.0\n",
       "2021-12-31     13000000.0\n",
       "2020-12-31     27117000.0\n",
       "Name: Interest Income Non Operating, dtype: object"
      ]
     },
     "execution_count": 22,
     "metadata": {},
     "output_type": "execute_result"
    }
   ],
   "source": [
    "dt_financials_0.loc[key]"
   ]
  },
  {
   "cell_type": "code",
   "execution_count": 3,
   "id": "6c4f0ac7-2277-4b93-8ac8-6934c92f0b82",
   "metadata": {},
   "outputs": [],
   "source": [
    "# ticker.info\n",
    "\n",
    "data_history = ticker.history(period=\"max\")"
   ]
  },
  {
   "cell_type": "code",
   "execution_count": 41,
   "id": "9a710527-1b82-4090-bdec-d87aed708490",
   "metadata": {},
   "outputs": [],
   "source": [
    "dt_financials = yf.Ticker('ABNB').get_income_stmt(freq='yearly')"
   ]
  },
  {
   "cell_type": "code",
   "execution_count": 73,
   "id": "d5231b9c-918e-41f5-b72e-bb8df2fa5091",
   "metadata": {},
   "outputs": [],
   "source": [
    "key = 'InterestIncomeNonOperating'\n",
    "result = dt_financials.loc[key]\n",
    "result.loc[pd.Timestamp('2024-04-30')] = 777_000_000\n",
    "result = pd.DataFrame(result).reset_index()\n",
    "result = result.sort_values(by='index')"
   ]
  },
  {
   "cell_type": "code",
   "execution_count": 69,
   "id": "7598dafc-d7d2-4cf5-9c28-336e0e1766db",
   "metadata": {},
   "outputs": [
    {
     "data": {
      "text/html": [
       "<div>\n",
       "<style scoped>\n",
       "    .dataframe tbody tr th:only-of-type {\n",
       "        vertical-align: middle;\n",
       "    }\n",
       "\n",
       "    .dataframe tbody tr th {\n",
       "        vertical-align: top;\n",
       "    }\n",
       "\n",
       "    .dataframe thead th {\n",
       "        text-align: right;\n",
       "    }\n",
       "</style>\n",
       "<table border=\"1\" class=\"dataframe\">\n",
       "  <thead>\n",
       "    <tr style=\"text-align: right;\">\n",
       "      <th></th>\n",
       "      <th>InterestIncomeNonOperating</th>\n",
       "    </tr>\n",
       "  </thead>\n",
       "  <tbody>\n",
       "    <tr>\n",
       "      <th>2023-12-31</th>\n",
       "      <td>721000000.0</td>\n",
       "    </tr>\n",
       "    <tr>\n",
       "      <th>2022-12-31</th>\n",
       "      <td>186000000.0</td>\n",
       "    </tr>\n",
       "    <tr>\n",
       "      <th>2021-12-31</th>\n",
       "      <td>13000000.0</td>\n",
       "    </tr>\n",
       "    <tr>\n",
       "      <th>2020-12-31</th>\n",
       "      <td>27117000.0</td>\n",
       "    </tr>\n",
       "    <tr>\n",
       "      <th>2024-04-30</th>\n",
       "      <td>777000000</td>\n",
       "    </tr>\n",
       "  </tbody>\n",
       "</table>\n",
       "</div>"
      ],
      "text/plain": [
       "           InterestIncomeNonOperating\n",
       "2023-12-31                721000000.0\n",
       "2022-12-31                186000000.0\n",
       "2021-12-31                 13000000.0\n",
       "2020-12-31                 27117000.0\n",
       "2024-04-30                  777000000"
      ]
     },
     "execution_count": 69,
     "metadata": {},
     "output_type": "execute_result"
    }
   ],
   "source": []
  },
  {
   "cell_type": "code",
   "execution_count": null,
   "id": "d87f7e13-174f-491c-9e81-4183a787ebc8",
   "metadata": {},
   "outputs": [],
   "source": []
  },
  {
   "cell_type": "markdown",
   "id": "eba49b42-f5df-4307-9831-b5cbeaf8bac7",
   "metadata": {},
   "source": [
    "- Total Expenses (Cash) metric represents the sum of all costs and expenditures incurred by a business over a specific period, calculated based on actual cash payments made.\n",
    "- Revenue: This is the classic comparison. By looking at interest income as a percentage of total revenue, you can see how significant it is relative to Airbnb's core business of booking travel. For example, if Airbnb's total revenue is $10 billion and interest income is $777 million, then interest income represents 7.77% of total revenue."
   ]
  },
  {
   "cell_type": "code",
   "execution_count": 124,
   "id": "2a83b336-cb3d-498d-9959-951621e6c051",
   "metadata": {},
   "outputs": [],
   "source": [
    "tmp = yf.Ticker('ABNB').get_balancesheet(freq='yearly')\n"
   ]
  },
  {
   "cell_type": "code",
   "execution_count": 131,
   "id": "fbb4d7ee-ffa2-4886-b477-c82e656dfe07",
   "metadata": {},
   "outputs": [],
   "source": [
    "tmp = yf.Ticker('ABNB').get_financials(freq='yearly')"
   ]
  },
  {
   "cell_type": "code",
   "execution_count": 129,
   "id": "a3fb2d55-9f26-4fa9-a70c-0d81350f350d",
   "metadata": {},
   "outputs": [
    {
     "data": {
      "text/plain": [
       "2023-12-31    2304000000.0\n",
       "2022-12-31    2341000000.0\n",
       "2021-12-31    2418000000.0\n",
       "2020-12-31    2329808000.0\n",
       "2019-12-31             NaN\n",
       "Name: TotalDebt, dtype: object"
      ]
     },
     "execution_count": 129,
     "metadata": {},
     "output_type": "execute_result"
    }
   ],
   "source": [
    "tmp.loc['TotalDebt']\n",
    "4,939,000"
   ]
  },
  {
   "cell_type": "code",
   "execution_count": 143,
   "id": "9bf01f2d-4910-46db-bd5b-d5f35f660c95",
   "metadata": {},
   "outputs": [],
   "source": [
    "\n",
    "key = 'TotalRevenue'\n",
    "\n",
    "# key = 'NetIncome'\n",
    "def get_key(data,key):\n",
    "    '''\n",
    "    '''\n",
    "    return   data.loc[key]\n",
    "\n",
    "\n",
    "def add_entry(result:pd.DataFrame,new_entry):\n",
    "    '''\n",
    "    '''\n",
    "    result = dt_financials.loc[key]\n",
    "    result.loc[new_entry[0]] = new_entry[1]\n",
    "    result = pd.DataFrame(result).reset_index()\n",
    "    result = result.sort_values(by='index')\n",
    "\n",
    "    return result "
   ]
  },
  {
   "cell_type": "code",
   "execution_count": 136,
   "id": "3193a64a-a155-4d45-a315-f382f2952cac",
   "metadata": {},
   "outputs": [],
   "source": [
    "tmp = yf.Ticker('ABNB').get_financials(freq='yearly')"
   ]
  },
  {
   "cell_type": "code",
   "execution_count": 162,
   "id": "182be8bc-8a96-43ff-8af9-c54c64fdcc94",
   "metadata": {},
   "outputs": [
    {
     "data": {
      "text/html": [
       "<div>\n",
       "<style scoped>\n",
       "    .dataframe tbody tr th:only-of-type {\n",
       "        vertical-align: middle;\n",
       "    }\n",
       "\n",
       "    .dataframe tbody tr th {\n",
       "        vertical-align: top;\n",
       "    }\n",
       "\n",
       "    .dataframe thead th {\n",
       "        text-align: right;\n",
       "    }\n",
       "</style>\n",
       "<table border=\"1\" class=\"dataframe\">\n",
       "  <thead>\n",
       "    <tr style=\"text-align: right;\">\n",
       "      <th></th>\n",
       "      <th>index</th>\n",
       "      <th>TotalRevenue</th>\n",
       "    </tr>\n",
       "  </thead>\n",
       "  <tbody>\n",
       "    <tr>\n",
       "      <th>3</th>\n",
       "      <td>2020-12-31</td>\n",
       "      <td>3378199000.0</td>\n",
       "    </tr>\n",
       "    <tr>\n",
       "      <th>2</th>\n",
       "      <td>2021-12-31</td>\n",
       "      <td>5992000000.0</td>\n",
       "    </tr>\n",
       "    <tr>\n",
       "      <th>1</th>\n",
       "      <td>2022-12-31</td>\n",
       "      <td>8399000000.0</td>\n",
       "    </tr>\n",
       "    <tr>\n",
       "      <th>0</th>\n",
       "      <td>2023-12-31</td>\n",
       "      <td>9917000000.0</td>\n",
       "    </tr>\n",
       "    <tr>\n",
       "      <th>4</th>\n",
       "      <td>2024-04-30</td>\n",
       "      <td>10241000000.0</td>\n",
       "    </tr>\n",
       "  </tbody>\n",
       "</table>\n",
       "</div>"
      ],
      "text/plain": [
       "       index   TotalRevenue\n",
       "3 2020-12-31   3378199000.0\n",
       "2 2021-12-31   5992000000.0\n",
       "1 2022-12-31   8399000000.0\n",
       "0 2023-12-31   9917000000.0\n",
       "4 2024-04-30  10241000000.0"
      ]
     },
     "metadata": {},
     "output_type": "display_data"
    }
   ],
   "source": [
    "key = 'TotalRevenue'\n",
    "res = get_key(tmp,key)\n",
    "data_tot_revenue = add_entry(res,new_entry=(pd.Timestamp('2024-04-30'),10_241_000_000.0))\n",
    "display(data_tot_revenue )"
   ]
  },
  {
   "cell_type": "code",
   "execution_count": 167,
   "id": "ead6b38d-1a53-459a-9246-5ba1dc535f26",
   "metadata": {},
   "outputs": [
    {
     "data": {
      "text/html": [
       "<div>\n",
       "<style scoped>\n",
       "    .dataframe tbody tr th:only-of-type {\n",
       "        vertical-align: middle;\n",
       "    }\n",
       "\n",
       "    .dataframe tbody tr th {\n",
       "        vertical-align: top;\n",
       "    }\n",
       "\n",
       "    .dataframe thead th {\n",
       "        text-align: right;\n",
       "    }\n",
       "</style>\n",
       "<table border=\"1\" class=\"dataframe\">\n",
       "  <thead>\n",
       "    <tr style=\"text-align: right;\">\n",
       "      <th></th>\n",
       "      <th>index</th>\n",
       "      <th>InterestIncomeNonOperating</th>\n",
       "    </tr>\n",
       "  </thead>\n",
       "  <tbody>\n",
       "    <tr>\n",
       "      <th>3</th>\n",
       "      <td>2020-12-31</td>\n",
       "      <td>27117000.0</td>\n",
       "    </tr>\n",
       "    <tr>\n",
       "      <th>2</th>\n",
       "      <td>2021-12-31</td>\n",
       "      <td>13000000.0</td>\n",
       "    </tr>\n",
       "    <tr>\n",
       "      <th>1</th>\n",
       "      <td>2022-12-31</td>\n",
       "      <td>186000000.0</td>\n",
       "    </tr>\n",
       "    <tr>\n",
       "      <th>0</th>\n",
       "      <td>2023-12-31</td>\n",
       "      <td>721000000.0</td>\n",
       "    </tr>\n",
       "    <tr>\n",
       "      <th>4</th>\n",
       "      <td>2024-04-30</td>\n",
       "      <td>777000000.0</td>\n",
       "    </tr>\n",
       "  </tbody>\n",
       "</table>\n",
       "</div>"
      ],
      "text/plain": [
       "       index InterestIncomeNonOperating\n",
       "3 2020-12-31                 27117000.0\n",
       "2 2021-12-31                 13000000.0\n",
       "1 2022-12-31                186000000.0\n",
       "0 2023-12-31                721000000.0\n",
       "4 2024-04-30                777000000.0"
      ]
     },
     "metadata": {},
     "output_type": "display_data"
    }
   ],
   "source": [
    "key = 'InterestIncomeNonOperating'\n",
    "result = dt_financials.loc[key]\n",
    "# result.loc[pd.Timestamp('2024-04-30')] = 777_000_000\n",
    "# result = pd.DataFrame(result).reset_index()\n",
    "\n",
    "res = get_key(tmp,key)\n",
    "data_interest_income = add_entry(res,new_entry=(pd.Timestamp('2024-04-30'),777_000_000.0))\n",
    "display(data_interest_income)"
   ]
  },
  {
   "cell_type": "code",
   "execution_count": 168,
   "id": "8933d989-ff5d-461e-a3bc-fbfd67811552",
   "metadata": {},
   "outputs": [
    {
     "data": {
      "text/html": [
       "<div>\n",
       "<style scoped>\n",
       "    .dataframe tbody tr th:only-of-type {\n",
       "        vertical-align: middle;\n",
       "    }\n",
       "\n",
       "    .dataframe tbody tr th {\n",
       "        vertical-align: top;\n",
       "    }\n",
       "\n",
       "    .dataframe thead th {\n",
       "        text-align: right;\n",
       "    }\n",
       "</style>\n",
       "<table border=\"1\" class=\"dataframe\">\n",
       "  <thead>\n",
       "    <tr style=\"text-align: right;\">\n",
       "      <th></th>\n",
       "      <th>index</th>\n",
       "      <th>NetIncome</th>\n",
       "    </tr>\n",
       "  </thead>\n",
       "  <tbody>\n",
       "    <tr>\n",
       "      <th>3</th>\n",
       "      <td>2020-12-31</td>\n",
       "      <td>-4584716000.0</td>\n",
       "    </tr>\n",
       "    <tr>\n",
       "      <th>2</th>\n",
       "      <td>2021-12-31</td>\n",
       "      <td>-352000000.0</td>\n",
       "    </tr>\n",
       "    <tr>\n",
       "      <th>1</th>\n",
       "      <td>2022-12-31</td>\n",
       "      <td>1893000000.0</td>\n",
       "    </tr>\n",
       "    <tr>\n",
       "      <th>0</th>\n",
       "      <td>2023-12-31</td>\n",
       "      <td>4792000000.0</td>\n",
       "    </tr>\n",
       "    <tr>\n",
       "      <th>4</th>\n",
       "      <td>2024-04-30</td>\n",
       "      <td>4939000000.0</td>\n",
       "    </tr>\n",
       "  </tbody>\n",
       "</table>\n",
       "</div>"
      ],
      "text/plain": [
       "       index     NetIncome\n",
       "3 2020-12-31 -4584716000.0\n",
       "2 2021-12-31  -352000000.0\n",
       "1 2022-12-31  1893000000.0\n",
       "0 2023-12-31  4792000000.0\n",
       "4 2024-04-30  4939000000.0"
      ]
     },
     "metadata": {},
     "output_type": "display_data"
    }
   ],
   "source": [
    "key = 'NetIncome'\n",
    "res = get_key(tmp,key)\n",
    "data_netincome= add_entry(res,new_entry=(pd.Timestamp('2024-04-30'),4_939_000_000.0))\n",
    "display(data_netincome )"
   ]
  },
  {
   "cell_type": "code",
   "execution_count": 169,
   "id": "cf065e35-236e-41f9-845f-604bbc1e582e",
   "metadata": {},
   "outputs": [
    {
     "data": {
      "text/html": [
       "<div>\n",
       "<style scoped>\n",
       "    .dataframe tbody tr th:only-of-type {\n",
       "        vertical-align: middle;\n",
       "    }\n",
       "\n",
       "    .dataframe tbody tr th {\n",
       "        vertical-align: top;\n",
       "    }\n",
       "\n",
       "    .dataframe thead th {\n",
       "        text-align: right;\n",
       "    }\n",
       "</style>\n",
       "<table border=\"1\" class=\"dataframe\">\n",
       "  <thead>\n",
       "    <tr style=\"text-align: right;\">\n",
       "      <th></th>\n",
       "      <th>index</th>\n",
       "      <th>InterestIncomeNonOperating</th>\n",
       "      <th>TotalRevenue</th>\n",
       "      <th>NetIncome</th>\n",
       "      <th>int_per_revenue</th>\n",
       "      <th>interestIncome_per_netIncome</th>\n",
       "    </tr>\n",
       "  </thead>\n",
       "  <tbody>\n",
       "    <tr>\n",
       "      <th>0</th>\n",
       "      <td>2020-12-31</td>\n",
       "      <td>27117000.0</td>\n",
       "      <td>3378199000.0</td>\n",
       "      <td>-4584716000.0</td>\n",
       "      <td>0.802706</td>\n",
       "      <td>-0.591465</td>\n",
       "    </tr>\n",
       "    <tr>\n",
       "      <th>1</th>\n",
       "      <td>2021-12-31</td>\n",
       "      <td>13000000.0</td>\n",
       "      <td>5992000000.0</td>\n",
       "      <td>-352000000.0</td>\n",
       "      <td>0.216956</td>\n",
       "      <td>-3.693182</td>\n",
       "    </tr>\n",
       "    <tr>\n",
       "      <th>2</th>\n",
       "      <td>2022-12-31</td>\n",
       "      <td>186000000.0</td>\n",
       "      <td>8399000000.0</td>\n",
       "      <td>1893000000.0</td>\n",
       "      <td>2.214549</td>\n",
       "      <td>9.825674</td>\n",
       "    </tr>\n",
       "    <tr>\n",
       "      <th>3</th>\n",
       "      <td>2023-12-31</td>\n",
       "      <td>721000000.0</td>\n",
       "      <td>9917000000.0</td>\n",
       "      <td>4792000000.0</td>\n",
       "      <td>7.270344</td>\n",
       "      <td>15.04591</td>\n",
       "    </tr>\n",
       "    <tr>\n",
       "      <th>4</th>\n",
       "      <td>2024-04-30</td>\n",
       "      <td>777000000.0</td>\n",
       "      <td>10241000000.0</td>\n",
       "      <td>4939000000.0</td>\n",
       "      <td>7.58715</td>\n",
       "      <td>15.73193</td>\n",
       "    </tr>\n",
       "  </tbody>\n",
       "</table>\n",
       "</div>"
      ],
      "text/plain": [
       "       index InterestIncomeNonOperating   TotalRevenue     NetIncome  \\\n",
       "0 2020-12-31                 27117000.0   3378199000.0 -4584716000.0   \n",
       "1 2021-12-31                 13000000.0   5992000000.0  -352000000.0   \n",
       "2 2022-12-31                186000000.0   8399000000.0  1893000000.0   \n",
       "3 2023-12-31                721000000.0   9917000000.0  4792000000.0   \n",
       "4 2024-04-30                777000000.0  10241000000.0  4939000000.0   \n",
       "\n",
       "  int_per_revenue interestIncome_per_netIncome  \n",
       "0        0.802706                    -0.591465  \n",
       "1        0.216956                    -3.693182  \n",
       "2        2.214549                     9.825674  \n",
       "3        7.270344                     15.04591  \n",
       "4         7.58715                     15.73193  "
      ]
     },
     "execution_count": 169,
     "metadata": {},
     "output_type": "execute_result"
    }
   ],
   "source": [
    "data_ratio = data_interest_income.merge(data_tot_revenue ).merge(data_netincome)\n",
    "data_ratio['int_per_revenue'] = (data_ratio['InterestIncomeNonOperating']/data_ratio['TotalRevenue']) *100\n",
    "data_ratio['interestIncome_per_netIncome'] = (data_ratio['InterestIncomeNonOperating']/data_ratio['NetIncome']) *100\n",
    "\n",
    "data_ratio\n",
    "\n"
   ]
  },
  {
   "cell_type": "markdown",
   "id": "971b1955-e426-47ec-a346-f5a4753f5643",
   "metadata": {},
   "source": [
    "Interest income represents 7.5% of total revenue."
   ]
  },
  {
   "cell_type": "code",
   "execution_count": 172,
   "id": "7a0ad337-15ad-45c5-abf2-2c9819665725",
   "metadata": {},
   "outputs": [
    {
     "name": "stderr",
     "output_type": "stream",
     "text": [
      "/tmp/ipykernel_4782/2650089746.py:18: FutureWarning:\n",
      "\n",
      "Downcasting object dtype arrays on .fillna, .ffill, .bfill is deprecated and will change in a future version. Call result.infer_objects(copy=False) instead. To opt-in to the future behavior, set `pd.set_option('future.no_silent_downcasting', True)`\n",
      "\n"
     ]
    },
    {
     "data": {
      "application/vnd.plotly.v1+json": {
       "config": {
        "plotlyServerURL": "https://plot.ly"
       },
       "data": [
        {
         "line": {
          "color": "firebrick",
          "width": 1.3
         },
         "mode": "lines+markers",
         "name": "Interest income",
         "text": [
          27117000,
          13000000,
          186000000,
          721000000,
          777000000
         ],
         "type": "scatter",
         "x": [
          "2020-12-31T00:00:00",
          "2021-12-31T00:00:00",
          "2022-12-31T00:00:00",
          "2023-12-31T00:00:00",
          "2024-04-30T00:00:00"
         ],
         "y": [
          27117000,
          13000000,
          186000000,
          721000000,
          777000000
         ],
         "yaxis": "y"
        },
        {
         "marker": {
          "color": "blue"
         },
         "name": "Percentage Change",
         "opacity": 0.3,
         "text": [
          "nan%",
          "-0.5%",
          "13.3%",
          "2.9%",
          "0.1%"
         ],
         "textfont": {
          "color": "black"
         },
         "textposition": "outside",
         "type": "bar",
         "x": [
          "2020-12-31T00:00:00",
          "2021-12-31T00:00:00",
          "2022-12-31T00:00:00",
          "2023-12-31T00:00:00",
          "2024-04-30T00:00:00"
         ],
         "y": [
          null,
          -0.5205959361286279,
          13.307692307692308,
          2.8763440860215055,
          0.07766990291262132
         ],
         "yaxis": "y2"
        }
       ],
       "layout": {
        "height": 500,
        "template": {
         "data": {
          "bar": [
           {
            "error_x": {
             "color": "#2a3f5f"
            },
            "error_y": {
             "color": "#2a3f5f"
            },
            "marker": {
             "line": {
              "color": "white",
              "width": 0.5
             },
             "pattern": {
              "fillmode": "overlay",
              "size": 10,
              "solidity": 0.2
             }
            },
            "type": "bar"
           }
          ],
          "barpolar": [
           {
            "marker": {
             "line": {
              "color": "white",
              "width": 0.5
             },
             "pattern": {
              "fillmode": "overlay",
              "size": 10,
              "solidity": 0.2
             }
            },
            "type": "barpolar"
           }
          ],
          "carpet": [
           {
            "aaxis": {
             "endlinecolor": "#2a3f5f",
             "gridcolor": "#C8D4E3",
             "linecolor": "#C8D4E3",
             "minorgridcolor": "#C8D4E3",
             "startlinecolor": "#2a3f5f"
            },
            "baxis": {
             "endlinecolor": "#2a3f5f",
             "gridcolor": "#C8D4E3",
             "linecolor": "#C8D4E3",
             "minorgridcolor": "#C8D4E3",
             "startlinecolor": "#2a3f5f"
            },
            "type": "carpet"
           }
          ],
          "choropleth": [
           {
            "colorbar": {
             "outlinewidth": 0,
             "ticks": ""
            },
            "type": "choropleth"
           }
          ],
          "contour": [
           {
            "colorbar": {
             "outlinewidth": 0,
             "ticks": ""
            },
            "colorscale": [
             [
              0,
              "#0d0887"
             ],
             [
              0.1111111111111111,
              "#46039f"
             ],
             [
              0.2222222222222222,
              "#7201a8"
             ],
             [
              0.3333333333333333,
              "#9c179e"
             ],
             [
              0.4444444444444444,
              "#bd3786"
             ],
             [
              0.5555555555555556,
              "#d8576b"
             ],
             [
              0.6666666666666666,
              "#ed7953"
             ],
             [
              0.7777777777777778,
              "#fb9f3a"
             ],
             [
              0.8888888888888888,
              "#fdca26"
             ],
             [
              1,
              "#f0f921"
             ]
            ],
            "type": "contour"
           }
          ],
          "contourcarpet": [
           {
            "colorbar": {
             "outlinewidth": 0,
             "ticks": ""
            },
            "type": "contourcarpet"
           }
          ],
          "heatmap": [
           {
            "colorbar": {
             "outlinewidth": 0,
             "ticks": ""
            },
            "colorscale": [
             [
              0,
              "#0d0887"
             ],
             [
              0.1111111111111111,
              "#46039f"
             ],
             [
              0.2222222222222222,
              "#7201a8"
             ],
             [
              0.3333333333333333,
              "#9c179e"
             ],
             [
              0.4444444444444444,
              "#bd3786"
             ],
             [
              0.5555555555555556,
              "#d8576b"
             ],
             [
              0.6666666666666666,
              "#ed7953"
             ],
             [
              0.7777777777777778,
              "#fb9f3a"
             ],
             [
              0.8888888888888888,
              "#fdca26"
             ],
             [
              1,
              "#f0f921"
             ]
            ],
            "type": "heatmap"
           }
          ],
          "heatmapgl": [
           {
            "colorbar": {
             "outlinewidth": 0,
             "ticks": ""
            },
            "colorscale": [
             [
              0,
              "#0d0887"
             ],
             [
              0.1111111111111111,
              "#46039f"
             ],
             [
              0.2222222222222222,
              "#7201a8"
             ],
             [
              0.3333333333333333,
              "#9c179e"
             ],
             [
              0.4444444444444444,
              "#bd3786"
             ],
             [
              0.5555555555555556,
              "#d8576b"
             ],
             [
              0.6666666666666666,
              "#ed7953"
             ],
             [
              0.7777777777777778,
              "#fb9f3a"
             ],
             [
              0.8888888888888888,
              "#fdca26"
             ],
             [
              1,
              "#f0f921"
             ]
            ],
            "type": "heatmapgl"
           }
          ],
          "histogram": [
           {
            "marker": {
             "pattern": {
              "fillmode": "overlay",
              "size": 10,
              "solidity": 0.2
             }
            },
            "type": "histogram"
           }
          ],
          "histogram2d": [
           {
            "colorbar": {
             "outlinewidth": 0,
             "ticks": ""
            },
            "colorscale": [
             [
              0,
              "#0d0887"
             ],
             [
              0.1111111111111111,
              "#46039f"
             ],
             [
              0.2222222222222222,
              "#7201a8"
             ],
             [
              0.3333333333333333,
              "#9c179e"
             ],
             [
              0.4444444444444444,
              "#bd3786"
             ],
             [
              0.5555555555555556,
              "#d8576b"
             ],
             [
              0.6666666666666666,
              "#ed7953"
             ],
             [
              0.7777777777777778,
              "#fb9f3a"
             ],
             [
              0.8888888888888888,
              "#fdca26"
             ],
             [
              1,
              "#f0f921"
             ]
            ],
            "type": "histogram2d"
           }
          ],
          "histogram2dcontour": [
           {
            "colorbar": {
             "outlinewidth": 0,
             "ticks": ""
            },
            "colorscale": [
             [
              0,
              "#0d0887"
             ],
             [
              0.1111111111111111,
              "#46039f"
             ],
             [
              0.2222222222222222,
              "#7201a8"
             ],
             [
              0.3333333333333333,
              "#9c179e"
             ],
             [
              0.4444444444444444,
              "#bd3786"
             ],
             [
              0.5555555555555556,
              "#d8576b"
             ],
             [
              0.6666666666666666,
              "#ed7953"
             ],
             [
              0.7777777777777778,
              "#fb9f3a"
             ],
             [
              0.8888888888888888,
              "#fdca26"
             ],
             [
              1,
              "#f0f921"
             ]
            ],
            "type": "histogram2dcontour"
           }
          ],
          "mesh3d": [
           {
            "colorbar": {
             "outlinewidth": 0,
             "ticks": ""
            },
            "type": "mesh3d"
           }
          ],
          "parcoords": [
           {
            "line": {
             "colorbar": {
              "outlinewidth": 0,
              "ticks": ""
             }
            },
            "type": "parcoords"
           }
          ],
          "pie": [
           {
            "automargin": true,
            "type": "pie"
           }
          ],
          "scatter": [
           {
            "fillpattern": {
             "fillmode": "overlay",
             "size": 10,
             "solidity": 0.2
            },
            "type": "scatter"
           }
          ],
          "scatter3d": [
           {
            "line": {
             "colorbar": {
              "outlinewidth": 0,
              "ticks": ""
             }
            },
            "marker": {
             "colorbar": {
              "outlinewidth": 0,
              "ticks": ""
             }
            },
            "type": "scatter3d"
           }
          ],
          "scattercarpet": [
           {
            "marker": {
             "colorbar": {
              "outlinewidth": 0,
              "ticks": ""
             }
            },
            "type": "scattercarpet"
           }
          ],
          "scattergeo": [
           {
            "marker": {
             "colorbar": {
              "outlinewidth": 0,
              "ticks": ""
             }
            },
            "type": "scattergeo"
           }
          ],
          "scattergl": [
           {
            "marker": {
             "colorbar": {
              "outlinewidth": 0,
              "ticks": ""
             }
            },
            "type": "scattergl"
           }
          ],
          "scattermapbox": [
           {
            "marker": {
             "colorbar": {
              "outlinewidth": 0,
              "ticks": ""
             }
            },
            "type": "scattermapbox"
           }
          ],
          "scatterpolar": [
           {
            "marker": {
             "colorbar": {
              "outlinewidth": 0,
              "ticks": ""
             }
            },
            "type": "scatterpolar"
           }
          ],
          "scatterpolargl": [
           {
            "marker": {
             "colorbar": {
              "outlinewidth": 0,
              "ticks": ""
             }
            },
            "type": "scatterpolargl"
           }
          ],
          "scatterternary": [
           {
            "marker": {
             "colorbar": {
              "outlinewidth": 0,
              "ticks": ""
             }
            },
            "type": "scatterternary"
           }
          ],
          "surface": [
           {
            "colorbar": {
             "outlinewidth": 0,
             "ticks": ""
            },
            "colorscale": [
             [
              0,
              "#0d0887"
             ],
             [
              0.1111111111111111,
              "#46039f"
             ],
             [
              0.2222222222222222,
              "#7201a8"
             ],
             [
              0.3333333333333333,
              "#9c179e"
             ],
             [
              0.4444444444444444,
              "#bd3786"
             ],
             [
              0.5555555555555556,
              "#d8576b"
             ],
             [
              0.6666666666666666,
              "#ed7953"
             ],
             [
              0.7777777777777778,
              "#fb9f3a"
             ],
             [
              0.8888888888888888,
              "#fdca26"
             ],
             [
              1,
              "#f0f921"
             ]
            ],
            "type": "surface"
           }
          ],
          "table": [
           {
            "cells": {
             "fill": {
              "color": "#EBF0F8"
             },
             "line": {
              "color": "white"
             }
            },
            "header": {
             "fill": {
              "color": "#C8D4E3"
             },
             "line": {
              "color": "white"
             }
            },
            "type": "table"
           }
          ]
         },
         "layout": {
          "annotationdefaults": {
           "arrowcolor": "#2a3f5f",
           "arrowhead": 0,
           "arrowwidth": 1
          },
          "autotypenumbers": "strict",
          "coloraxis": {
           "colorbar": {
            "outlinewidth": 0,
            "ticks": ""
           }
          },
          "colorscale": {
           "diverging": [
            [
             0,
             "#8e0152"
            ],
            [
             0.1,
             "#c51b7d"
            ],
            [
             0.2,
             "#de77ae"
            ],
            [
             0.3,
             "#f1b6da"
            ],
            [
             0.4,
             "#fde0ef"
            ],
            [
             0.5,
             "#f7f7f7"
            ],
            [
             0.6,
             "#e6f5d0"
            ],
            [
             0.7,
             "#b8e186"
            ],
            [
             0.8,
             "#7fbc41"
            ],
            [
             0.9,
             "#4d9221"
            ],
            [
             1,
             "#276419"
            ]
           ],
           "sequential": [
            [
             0,
             "#0d0887"
            ],
            [
             0.1111111111111111,
             "#46039f"
            ],
            [
             0.2222222222222222,
             "#7201a8"
            ],
            [
             0.3333333333333333,
             "#9c179e"
            ],
            [
             0.4444444444444444,
             "#bd3786"
            ],
            [
             0.5555555555555556,
             "#d8576b"
            ],
            [
             0.6666666666666666,
             "#ed7953"
            ],
            [
             0.7777777777777778,
             "#fb9f3a"
            ],
            [
             0.8888888888888888,
             "#fdca26"
            ],
            [
             1,
             "#f0f921"
            ]
           ],
           "sequentialminus": [
            [
             0,
             "#0d0887"
            ],
            [
             0.1111111111111111,
             "#46039f"
            ],
            [
             0.2222222222222222,
             "#7201a8"
            ],
            [
             0.3333333333333333,
             "#9c179e"
            ],
            [
             0.4444444444444444,
             "#bd3786"
            ],
            [
             0.5555555555555556,
             "#d8576b"
            ],
            [
             0.6666666666666666,
             "#ed7953"
            ],
            [
             0.7777777777777778,
             "#fb9f3a"
            ],
            [
             0.8888888888888888,
             "#fdca26"
            ],
            [
             1,
             "#f0f921"
            ]
           ]
          },
          "colorway": [
           "#636efa",
           "#EF553B",
           "#00cc96",
           "#ab63fa",
           "#FFA15A",
           "#19d3f3",
           "#FF6692",
           "#B6E880",
           "#FF97FF",
           "#FECB52"
          ],
          "font": {
           "color": "#2a3f5f"
          },
          "geo": {
           "bgcolor": "white",
           "lakecolor": "white",
           "landcolor": "white",
           "showlakes": true,
           "showland": true,
           "subunitcolor": "#C8D4E3"
          },
          "hoverlabel": {
           "align": "left"
          },
          "hovermode": "closest",
          "mapbox": {
           "style": "light"
          },
          "paper_bgcolor": "white",
          "plot_bgcolor": "white",
          "polar": {
           "angularaxis": {
            "gridcolor": "#EBF0F8",
            "linecolor": "#EBF0F8",
            "ticks": ""
           },
           "bgcolor": "white",
           "radialaxis": {
            "gridcolor": "#EBF0F8",
            "linecolor": "#EBF0F8",
            "ticks": ""
           }
          },
          "scene": {
           "xaxis": {
            "backgroundcolor": "white",
            "gridcolor": "#DFE8F3",
            "gridwidth": 2,
            "linecolor": "#EBF0F8",
            "showbackground": true,
            "ticks": "",
            "zerolinecolor": "#EBF0F8"
           },
           "yaxis": {
            "backgroundcolor": "white",
            "gridcolor": "#DFE8F3",
            "gridwidth": 2,
            "linecolor": "#EBF0F8",
            "showbackground": true,
            "ticks": "",
            "zerolinecolor": "#EBF0F8"
           },
           "zaxis": {
            "backgroundcolor": "white",
            "gridcolor": "#DFE8F3",
            "gridwidth": 2,
            "linecolor": "#EBF0F8",
            "showbackground": true,
            "ticks": "",
            "zerolinecolor": "#EBF0F8"
           }
          },
          "shapedefaults": {
           "line": {
            "color": "#2a3f5f"
           }
          },
          "ternary": {
           "aaxis": {
            "gridcolor": "#DFE8F3",
            "linecolor": "#A2B1C6",
            "ticks": ""
           },
           "baxis": {
            "gridcolor": "#DFE8F3",
            "linecolor": "#A2B1C6",
            "ticks": ""
           },
           "bgcolor": "white",
           "caxis": {
            "gridcolor": "#DFE8F3",
            "linecolor": "#A2B1C6",
            "ticks": ""
           }
          },
          "title": {
           "x": 0.05
          },
          "xaxis": {
           "automargin": true,
           "gridcolor": "#EBF0F8",
           "linecolor": "#EBF0F8",
           "ticks": "",
           "title": {
            "standoff": 15
           },
           "zerolinecolor": "#EBF0F8",
           "zerolinewidth": 2
          },
          "yaxis": {
           "automargin": true,
           "gridcolor": "#EBF0F8",
           "linecolor": "#EBF0F8",
           "ticks": "",
           "title": {
            "standoff": 15
           },
           "zerolinecolor": "#EBF0F8",
           "zerolinewidth": 2
          }
         }
        },
        "title": {
         "text": "Airbnb | ABNB - Interest Income"
        },
        "width": 1000,
        "xaxis": {
         "autorange": true,
         "range": [
          "2020-10-16 15:42:17.2694",
          "2024-07-14 08:17:42.7306"
         ],
         "title": {
          "text": "date"
         },
         "type": "date"
        },
        "yaxis": {
         "autorange": true,
         "range": [
          -40793226.38146168,
          830793226.3814616
         ],
         "side": "left",
         "tickfont": {
          "color": "firebrick"
         },
         "title": {
          "font": {
           "color": "firebrick"
          },
          "text": "InterestIncomeNonOperating"
         },
         "type": "linear"
        },
        "yaxis2": {
         "autorange": true,
         "overlaying": "y",
         "range": [
          -1.2888341718964575,
          14.075930543460139
         ],
         "side": "right",
         "tickfont": {
          "color": "blue"
         },
         "title": {
          "font": {
           "color": "blue"
          },
          "text": "Percentage Change (%)"
         },
         "type": "linear"
        }
       }
      },
      "image/png": "[encoded data removed]",
      "text/html": [
       "<div>                            <div id=\"6979ed90-a61e-4f7e-b64b-3e2a9a8264ec\" class=\"plotly-graph-div\" style=\"height:500px; width:1000px;\"></div>            <script type=\"text/javascript\">                require([\"plotly\"], function(Plotly) {                    window.PLOTLYENV=window.PLOTLYENV || {};                                    if (document.getElementById(\"6979ed90-a61e-4f7e-b64b-3e2a9a8264ec\")) {                    Plotly.newPlot(                        \"6979ed90-a61e-4f7e-b64b-3e2a9a8264ec\",                        [{\"line\":{\"color\":\"firebrick\",\"width\":1.3},\"mode\":\"lines+markers\",\"name\":\"Interest income\",\"text\":[27117000.0,13000000.0,186000000.0,721000000.0,777000000.0],\"x\":[\"2020-12-31T00:00:00\",\"2021-12-31T00:00:00\",\"2022-12-31T00:00:00\",\"2023-12-31T00:00:00\",\"2024-04-30T00:00:00\"],\"y\":[27117000.0,13000000.0,186000000.0,721000000.0,777000000.0],\"yaxis\":\"y\",\"type\":\"scatter\"},{\"marker\":{\"color\":\"blue\"},\"name\":\"Percentage Change\",\"opacity\":0.3,\"text\":[\"nan%\",\"-0.5%\",\"13.3%\",\"2.9%\",\"0.1%\"],\"textfont\":{\"color\":\"black\"},\"textposition\":\"outside\",\"x\":[\"2020-12-31T00:00:00\",\"2021-12-31T00:00:00\",\"2022-12-31T00:00:00\",\"2023-12-31T00:00:00\",\"2024-04-30T00:00:00\"],\"y\":[null,-0.5205959361286279,13.307692307692308,2.8763440860215055,0.07766990291262132],\"yaxis\":\"y2\",\"type\":\"bar\"}],                        {\"height\":500,\"width\":1000,\"template\":{\"data\":{\"barpolar\":[{\"marker\":{\"line\":{\"color\":\"white\",\"width\":0.5},\"pattern\":{\"fillmode\":\"overlay\",\"size\":10,\"solidity\":0.2}},\"type\":\"barpolar\"}],\"bar\":[{\"error_x\":{\"color\":\"#2a3f5f\"},\"error_y\":{\"color\":\"#2a3f5f\"},\"marker\":{\"line\":{\"color\":\"white\",\"width\":0.5},\"pattern\":{\"fillmode\":\"overlay\",\"size\":10,\"solidity\":0.2}},\"type\":\"bar\"}],\"carpet\":[{\"aaxis\":{\"endlinecolor\":\"#2a3f5f\",\"gridcolor\":\"#C8D4E3\",\"linecolor\":\"#C8D4E3\",\"minorgridcolor\":\"#C8D4E3\",\"startlinecolor\":\"#2a3f5f\"},\"baxis\":{\"endlinecolor\":\"#2a3f5f\",\"gridcolor\":\"#C8D4E3\",\"linecolor\":\"#C8D4E3\",\"minorgridcolor\":\"#C8D4E3\",\"startlinecolor\":\"#2a3f5f\"},\"type\":\"carpet\"}],\"choropleth\":[{\"colorbar\":{\"outlinewidth\":0,\"ticks\":\"\"},\"type\":\"choropleth\"}],\"contourcarpet\":[{\"colorbar\":{\"outlinewidth\":0,\"ticks\":\"\"},\"type\":\"contourcarpet\"}],\"contour\":[{\"colorbar\":{\"outlinewidth\":0,\"ticks\":\"\"},\"colorscale\":[[0.0,\"#0d0887\"],[0.1111111111111111,\"#46039f\"],[0.2222222222222222,\"#7201a8\"],[0.3333333333333333,\"#9c179e\"],[0.4444444444444444,\"#bd3786\"],[0.5555555555555556,\"#d8576b\"],[0.6666666666666666,\"#ed7953\"],[0.7777777777777778,\"#fb9f3a\"],[0.8888888888888888,\"#fdca26\"],[1.0,\"#f0f921\"]],\"type\":\"contour\"}],\"heatmapgl\":[{\"colorbar\":{\"outlinewidth\":0,\"ticks\":\"\"},\"colorscale\":[[0.0,\"#0d0887\"],[0.1111111111111111,\"#46039f\"],[0.2222222222222222,\"#7201a8\"],[0.3333333333333333,\"#9c179e\"],[0.4444444444444444,\"#bd3786\"],[0.5555555555555556,\"#d8576b\"],[0.6666666666666666,\"#ed7953\"],[0.7777777777777778,\"#fb9f3a\"],[0.8888888888888888,\"#fdca26\"],[1.0,\"#f0f921\"]],\"type\":\"heatmapgl\"}],\"heatmap\":[{\"colorbar\":{\"outlinewidth\":0,\"ticks\":\"\"},\"colorscale\":[[0.0,\"#0d0887\"],[0.1111111111111111,\"#46039f\"],[0.2222222222222222,\"#7201a8\"],[0.3333333333333333,\"#9c179e\"],[0.4444444444444444,\"#bd3786\"],[0.5555555555555556,\"#d8576b\"],[0.6666666666666666,\"#ed7953\"],[0.7777777777777778,\"#fb9f3a\"],[0.8888888888888888,\"#fdca26\"],[1.0,\"#f0f921\"]],\"type\":\"heatmap\"}],\"histogram2dcontour\":[{\"colorbar\":{\"outlinewidth\":0,\"ticks\":\"\"},\"colorscale\":[[0.0,\"#0d0887\"],[0.1111111111111111,\"#46039f\"],[0.2222222222222222,\"#7201a8\"],[0.3333333333333333,\"#9c179e\"],[0.4444444444444444,\"#bd3786\"],[0.5555555555555556,\"#d8576b\"],[0.6666666666666666,\"#ed7953\"],[0.7777777777777778,\"#fb9f3a\"],[0.8888888888888888,\"#fdca26\"],[1.0,\"#f0f921\"]],\"type\":\"histogram2dcontour\"}],\"histogram2d\":[{\"colorbar\":{\"outlinewidth\":0,\"ticks\":\"\"},\"colorscale\":[[0.0,\"#0d0887\"],[0.1111111111111111,\"#46039f\"],[0.2222222222222222,\"#7201a8\"],[0.3333333333333333,\"#9c179e\"],[0.4444444444444444,\"#bd3786\"],[0.5555555555555556,\"#d8576b\"],[0.6666666666666666,\"#ed7953\"],[0.7777777777777778,\"#fb9f3a\"],[0.8888888888888888,\"#fdca26\"],[1.0,\"#f0f921\"]],\"type\":\"histogram2d\"}],\"histogram\":[{\"marker\":{\"pattern\":{\"fillmode\":\"overlay\",\"size\":10,\"solidity\":0.2}},\"type\":\"histogram\"}],\"mesh3d\":[{\"colorbar\":{\"outlinewidth\":0,\"ticks\":\"\"},\"type\":\"mesh3d\"}],\"parcoords\":[{\"line\":{\"colorbar\":{\"outlinewidth\":0,\"ticks\":\"\"}},\"type\":\"parcoords\"}],\"pie\":[{\"automargin\":true,\"type\":\"pie\"}],\"scatter3d\":[{\"line\":{\"colorbar\":{\"outlinewidth\":0,\"ticks\":\"\"}},\"marker\":{\"colorbar\":{\"outlinewidth\":0,\"ticks\":\"\"}},\"type\":\"scatter3d\"}],\"scattercarpet\":[{\"marker\":{\"colorbar\":{\"outlinewidth\":0,\"ticks\":\"\"}},\"type\":\"scattercarpet\"}],\"scattergeo\":[{\"marker\":{\"colorbar\":{\"outlinewidth\":0,\"ticks\":\"\"}},\"type\":\"scattergeo\"}],\"scattergl\":[{\"marker\":{\"colorbar\":{\"outlinewidth\":0,\"ticks\":\"\"}},\"type\":\"scattergl\"}],\"scattermapbox\":[{\"marker\":{\"colorbar\":{\"outlinewidth\":0,\"ticks\":\"\"}},\"type\":\"scattermapbox\"}],\"scatterpolargl\":[{\"marker\":{\"colorbar\":{\"outlinewidth\":0,\"ticks\":\"\"}},\"type\":\"scatterpolargl\"}],\"scatterpolar\":[{\"marker\":{\"colorbar\":{\"outlinewidth\":0,\"ticks\":\"\"}},\"type\":\"scatterpolar\"}],\"scatter\":[{\"fillpattern\":{\"fillmode\":\"overlay\",\"size\":10,\"solidity\":0.2},\"type\":\"scatter\"}],\"scatterternary\":[{\"marker\":{\"colorbar\":{\"outlinewidth\":0,\"ticks\":\"\"}},\"type\":\"scatterternary\"}],\"surface\":[{\"colorbar\":{\"outlinewidth\":0,\"ticks\":\"\"},\"colorscale\":[[0.0,\"#0d0887\"],[0.1111111111111111,\"#46039f\"],[0.2222222222222222,\"#7201a8\"],[0.3333333333333333,\"#9c179e\"],[0.4444444444444444,\"#bd3786\"],[0.5555555555555556,\"#d8576b\"],[0.6666666666666666,\"#ed7953\"],[0.7777777777777778,\"#fb9f3a\"],[0.8888888888888888,\"#fdca26\"],[1.0,\"#f0f921\"]],\"type\":\"surface\"}],\"table\":[{\"cells\":{\"fill\":{\"color\":\"#EBF0F8\"},\"line\":{\"color\":\"white\"}},\"header\":{\"fill\":{\"color\":\"#C8D4E3\"},\"line\":{\"color\":\"white\"}},\"type\":\"table\"}]},\"layout\":{\"annotationdefaults\":{\"arrowcolor\":\"#2a3f5f\",\"arrowhead\":0,\"arrowwidth\":1},\"autotypenumbers\":\"strict\",\"coloraxis\":{\"colorbar\":{\"outlinewidth\":0,\"ticks\":\"\"}},\"colorscale\":{\"diverging\":[[0,\"#8e0152\"],[0.1,\"#c51b7d\"],[0.2,\"#de77ae\"],[0.3,\"#f1b6da\"],[0.4,\"#fde0ef\"],[0.5,\"#f7f7f7\"],[0.6,\"#e6f5d0\"],[0.7,\"#b8e186\"],[0.8,\"#7fbc41\"],[0.9,\"#4d9221\"],[1,\"#276419\"]],\"sequential\":[[0.0,\"#0d0887\"],[0.1111111111111111,\"#46039f\"],[0.2222222222222222,\"#7201a8\"],[0.3333333333333333,\"#9c179e\"],[0.4444444444444444,\"#bd3786\"],[0.5555555555555556,\"#d8576b\"],[0.6666666666666666,\"#ed7953\"],[0.7777777777777778,\"#fb9f3a\"],[0.8888888888888888,\"#fdca26\"],[1.0,\"#f0f921\"]],\"sequentialminus\":[[0.0,\"#0d0887\"],[0.1111111111111111,\"#46039f\"],[0.2222222222222222,\"#7201a8\"],[0.3333333333333333,\"#9c179e\"],[0.4444444444444444,\"#bd3786\"],[0.5555555555555556,\"#d8576b\"],[0.6666666666666666,\"#ed7953\"],[0.7777777777777778,\"#fb9f3a\"],[0.8888888888888888,\"#fdca26\"],[1.0,\"#f0f921\"]]},\"colorway\":[\"#636efa\",\"#EF553B\",\"#00cc96\",\"#ab63fa\",\"#FFA15A\",\"#19d3f3\",\"#FF6692\",\"#B6E880\",\"#FF97FF\",\"#FECB52\"],\"font\":{\"color\":\"#2a3f5f\"},\"geo\":{\"bgcolor\":\"white\",\"lakecolor\":\"white\",\"landcolor\":\"white\",\"showlakes\":true,\"showland\":true,\"subunitcolor\":\"#C8D4E3\"},\"hoverlabel\":{\"align\":\"left\"},\"hovermode\":\"closest\",\"mapbox\":{\"style\":\"light\"},\"paper_bgcolor\":\"white\",\"plot_bgcolor\":\"white\",\"polar\":{\"angularaxis\":{\"gridcolor\":\"#EBF0F8\",\"linecolor\":\"#EBF0F8\",\"ticks\":\"\"},\"bgcolor\":\"white\",\"radialaxis\":{\"gridcolor\":\"#EBF0F8\",\"linecolor\":\"#EBF0F8\",\"ticks\":\"\"}},\"scene\":{\"xaxis\":{\"backgroundcolor\":\"white\",\"gridcolor\":\"#DFE8F3\",\"gridwidth\":2,\"linecolor\":\"#EBF0F8\",\"showbackground\":true,\"ticks\":\"\",\"zerolinecolor\":\"#EBF0F8\"},\"yaxis\":{\"backgroundcolor\":\"white\",\"gridcolor\":\"#DFE8F3\",\"gridwidth\":2,\"linecolor\":\"#EBF0F8\",\"showbackground\":true,\"ticks\":\"\",\"zerolinecolor\":\"#EBF0F8\"},\"zaxis\":{\"backgroundcolor\":\"white\",\"gridcolor\":\"#DFE8F3\",\"gridwidth\":2,\"linecolor\":\"#EBF0F8\",\"showbackground\":true,\"ticks\":\"\",\"zerolinecolor\":\"#EBF0F8\"}},\"shapedefaults\":{\"line\":{\"color\":\"#2a3f5f\"}},\"ternary\":{\"aaxis\":{\"gridcolor\":\"#DFE8F3\",\"linecolor\":\"#A2B1C6\",\"ticks\":\"\"},\"baxis\":{\"gridcolor\":\"#DFE8F3\",\"linecolor\":\"#A2B1C6\",\"ticks\":\"\"},\"bgcolor\":\"white\",\"caxis\":{\"gridcolor\":\"#DFE8F3\",\"linecolor\":\"#A2B1C6\",\"ticks\":\"\"}},\"title\":{\"x\":0.05},\"xaxis\":{\"automargin\":true,\"gridcolor\":\"#EBF0F8\",\"linecolor\":\"#EBF0F8\",\"ticks\":\"\",\"title\":{\"standoff\":15},\"zerolinecolor\":\"#EBF0F8\",\"zerolinewidth\":2},\"yaxis\":{\"automargin\":true,\"gridcolor\":\"#EBF0F8\",\"linecolor\":\"#EBF0F8\",\"ticks\":\"\",\"title\":{\"standoff\":15},\"zerolinecolor\":\"#EBF0F8\",\"zerolinewidth\":2}}},\"yaxis\":{\"title\":{\"text\":\"InterestIncomeNonOperating\",\"font\":{\"color\":\"firebrick\"}},\"tickfont\":{\"color\":\"firebrick\"},\"side\":\"left\"},\"yaxis2\":{\"title\":{\"text\":\"Percentage Change (%)\",\"font\":{\"color\":\"blue\"}},\"tickfont\":{\"color\":\"blue\"},\"overlaying\":\"y\",\"side\":\"right\"},\"title\":{\"text\":\"Airbnb | ABNB - Interest Income\"},\"xaxis\":{\"title\":{\"text\":\"date\"}}},                        {\"responsive\": true}                    ).then(function(){\n",
       "                            \n",
       "var gd = document.getElementById('6979ed90-a61e-4f7e-b64b-3e2a9a8264ec');\n",
       "var x = new MutationObserver(function (mutations, observer) {{\n",
       "        var display = window.getComputedStyle(gd).display;\n",
       "        if (!display || display === 'none') {{\n",
       "            console.log([gd, 'removed!']);\n",
       "            Plotly.purge(gd);\n",
       "            observer.disconnect();\n",
       "        }}\n",
       "}});\n",
       "\n",
       "// Listen for the removal of the full notebook cells\n",
       "var notebookContainer = gd.closest('#notebook-container');\n",
       "if (notebookContainer) {{\n",
       "    x.observe(notebookContainer, {childList: true});\n",
       "}}\n",
       "\n",
       "// Listen for the clearing of the current output cell\n",
       "var outputEl = gd.closest('.output');\n",
       "if (outputEl) {{\n",
       "    x.observe(outputEl, {childList: true});\n",
       "}}\n",
       "\n",
       "                        })                };                });            </script>        </div>"
      ]
     },
     "metadata": {},
     "output_type": "display_data"
    }
   ],
   "source": [
    "key = 'InterestIncomeNonOperating'\n",
    "x_val = data_ratio['index']\n",
    "y_val =data_ratio[key].values\n",
    "\n",
    "fig = go.Figure(layout=go.Layout(\n",
    "     \n",
    "        width=1000,\n",
    "        height=500,\n",
    "    ))\n",
    "\n",
    "fig.add_trace(go.Scatter(x=x_val, y=y_val,\n",
    "                    mode='lines+markers',\n",
    "                            text=y_val,\n",
    "                         line=dict(color='firebrick', width=1.3),\n",
    "                    name='Interest income' ,yaxis='y1'))\n",
    "\n",
    "\n",
    "y_val_pct_change = pd.Series(y_val).pct_change()  # converting to percentage\n",
    "fig.add_trace(go.Bar(x=x_val, \n",
    "                         y=y_val_pct_change,\n",
    "                         # mode='lines+markers',\n",
    "                     marker_color='blue', \n",
    "                     opacity=0.3,\n",
    "                         name='Percentage Change',                     \n",
    "                     textposition='outside',  # Position text above the bars\n",
    "\n",
    "                                              text=[f\"{np.round(val, 1)}%\" for val in y_val_pct_change],  # Convert to percentage, round and add %,\n",
    "                                          textfont=dict(color='black'),  # Set text color to green\n",
    "\n",
    "\n",
    "                         yaxis='y2'))\n",
    "\n",
    "\n",
    "# Edit the layout\n",
    "fig.update_layout(title='Airbnb | ABNB - Interest Income',\n",
    "                  template=\"plotly_white\",\n",
    "                   xaxis_title='date',\n",
    "                  yaxis1=dict(\n",
    "        title=key,\n",
    "                      titlefont=dict(color='firebrick'),    # Set the title font color to blue\n",
    "        tickfont=dict(color='firebrick'), \n",
    "        side='left'     \n",
    "    ),\n",
    "                  yaxis2=dict(\n",
    "        title='Percentage Change (%)',\n",
    "                      titlefont=dict(color='blue'),    \n",
    "        tickfont=dict(color='blue'), \n",
    "        overlaying='y',  \n",
    "        side='right'     \n",
    "    )\n",
    "                 \n",
    "                 \n",
    "                 )\n",
    "\n",
    "fig.show()"
   ]
  },
  {
   "cell_type": "code",
   "execution_count": null,
   "id": "d56845d8-083e-4e42-8477-1a7ca3665dbd",
   "metadata": {},
   "outputs": [],
   "source": [
    "\n",
    "\n",
    "# Example Data - Replace with your actual data\n",
    "dates = ['2020-12-31', '2021-12-31', '2022-12-31', '2023-12-31', '2024-04-30']\n",
    "interest_income = [27117000.0, 13000000.0, 186000000.0, 721000000.0, 777000000.0]\n",
    "total_revenue = [3378199000.0, 5992000000.0, 8399000000.0, 9917000000.0, 10241000000.0]\n",
    "net_income = [-458471600.0, -352000000.0, 1893000000.0, 4792000000.0, 4939000000.0]\n",
    "int_per_revenue = [0.8207, 0.21696, 2.214549, 7.270344, 7.58715]\n",
    "interest_income_per_net_income = [-0.591465, -3.693182, 9.826574, 15.04591, 15.73193]"
   ]
  },
  {
   "cell_type": "code",
   "execution_count": 184,
   "id": "0814b2d6-51a3-46ec-8d8e-63810c85f3eb",
   "metadata": {},
   "outputs": [
    {
     "data": {
      "application/vnd.plotly.v1+json": {
       "config": {
        "plotlyServerURL": "https://plot.ly"
       },
       "data": [
        {
         "line": {
          "color": "firebrick",
          "width": 1.3
         },
         "mode": "lines+markers",
         "name": "Interest Income",
         "type": "scatter",
         "x": [
          "2020-12-31",
          "2021-12-31",
          "2022-12-31",
          "2023-12-31",
          "2024-04-30"
         ],
         "xaxis": "x",
         "y": [
          27117000,
          13000000,
          186000000,
          721000000,
          777000000
         ],
         "yaxis": "y"
        },
        {
         "line": {
          "color": "#f1c40f",
          "width": 1.3
         },
         "mode": "lines+markers",
         "name": "Total Revenue",
         "type": "scatter",
         "x": [
          "2020-12-31",
          "2021-12-31",
          "2022-12-31",
          "2023-12-31",
          "2024-04-30"
         ],
         "xaxis": "x",
         "y": [
          3378199000,
          5992000000,
          8399000000,
          9917000000,
          10241000000
         ],
         "yaxis": "y"
        },
        {
         "line": {
          "color": "#3498db",
          "width": 1.3
         },
         "mode": "lines+markers",
         "name": "Net Income",
         "type": "scatter",
         "x": [
          "2020-12-31",
          "2021-12-31",
          "2022-12-31",
          "2023-12-31",
          "2024-04-30"
         ],
         "xaxis": "x",
         "y": [
          -458471600,
          -352000000,
          1893000000,
          4792000000,
          4939000000
         ],
         "yaxis": "y"
        }
       ],
       "layout": {
        "annotations": [
         {
          "font": {
           "size": 16
          },
          "showarrow": false,
          "text": "Interest Income, Total Revenue, and Net Income",
          "x": 0.5,
          "xanchor": "center",
          "xref": "paper",
          "y": 1,
          "yanchor": "bottom",
          "yref": "paper"
         }
        ],
        "height": 500,
        "template": {
         "data": {
          "bar": [
           {
            "error_x": {
             "color": "#2a3f5f"
            },
            "error_y": {
             "color": "#2a3f5f"
            },
            "marker": {
             "line": {
              "color": "white",
              "width": 0.5
             },
             "pattern": {
              "fillmode": "overlay",
              "size": 10,
              "solidity": 0.2
             }
            },
            "type": "bar"
           }
          ],
          "barpolar": [
           {
            "marker": {
             "line": {
              "color": "white",
              "width": 0.5
             },
             "pattern": {
              "fillmode": "overlay",
              "size": 10,
              "solidity": 0.2
             }
            },
            "type": "barpolar"
           }
          ],
          "carpet": [
           {
            "aaxis": {
             "endlinecolor": "#2a3f5f",
             "gridcolor": "#C8D4E3",
             "linecolor": "#C8D4E3",
             "minorgridcolor": "#C8D4E3",
             "startlinecolor": "#2a3f5f"
            },
            "baxis": {
             "endlinecolor": "#2a3f5f",
             "gridcolor": "#C8D4E3",
             "linecolor": "#C8D4E3",
             "minorgridcolor": "#C8D4E3",
             "startlinecolor": "#2a3f5f"
            },
            "type": "carpet"
           }
          ],
          "choropleth": [
           {
            "colorbar": {
             "outlinewidth": 0,
             "ticks": ""
            },
            "type": "choropleth"
           }
          ],
          "contour": [
           {
            "colorbar": {
             "outlinewidth": 0,
             "ticks": ""
            },
            "colorscale": [
             [
              0,
              "#0d0887"
             ],
             [
              0.1111111111111111,
              "#46039f"
             ],
             [
              0.2222222222222222,
              "#7201a8"
             ],
             [
              0.3333333333333333,
              "#9c179e"
             ],
             [
              0.4444444444444444,
              "#bd3786"
             ],
             [
              0.5555555555555556,
              "#d8576b"
             ],
             [
              0.6666666666666666,
              "#ed7953"
             ],
             [
              0.7777777777777778,
              "#fb9f3a"
             ],
             [
              0.8888888888888888,
              "#fdca26"
             ],
             [
              1,
              "#f0f921"
             ]
            ],
            "type": "contour"
           }
          ],
          "contourcarpet": [
           {
            "colorbar": {
             "outlinewidth": 0,
             "ticks": ""
            },
            "type": "contourcarpet"
           }
          ],
          "heatmap": [
           {
            "colorbar": {
             "outlinewidth": 0,
             "ticks": ""
            },
            "colorscale": [
             [
              0,
              "#0d0887"
             ],
             [
              0.1111111111111111,
              "#46039f"
             ],
             [
              0.2222222222222222,
              "#7201a8"
             ],
             [
              0.3333333333333333,
              "#9c179e"
             ],
             [
              0.4444444444444444,
              "#bd3786"
             ],
             [
              0.5555555555555556,
              "#d8576b"
             ],
             [
              0.6666666666666666,
              "#ed7953"
             ],
             [
              0.7777777777777778,
              "#fb9f3a"
             ],
             [
              0.8888888888888888,
              "#fdca26"
             ],
             [
              1,
              "#f0f921"
             ]
            ],
            "type": "heatmap"
           }
          ],
          "heatmapgl": [
           {
            "colorbar": {
             "outlinewidth": 0,
             "ticks": ""
            },
            "colorscale": [
             [
              0,
              "#0d0887"
             ],
             [
              0.1111111111111111,
              "#46039f"
             ],
             [
              0.2222222222222222,
              "#7201a8"
             ],
             [
              0.3333333333333333,
              "#9c179e"
             ],
             [
              0.4444444444444444,
              "#bd3786"
             ],
             [
              0.5555555555555556,
              "#d8576b"
             ],
             [
              0.6666666666666666,
              "#ed7953"
             ],
             [
              0.7777777777777778,
              "#fb9f3a"
             ],
             [
              0.8888888888888888,
              "#fdca26"
             ],
             [
              1,
              "#f0f921"
             ]
            ],
            "type": "heatmapgl"
           }
          ],
          "histogram": [
           {
            "marker": {
             "pattern": {
              "fillmode": "overlay",
              "size": 10,
              "solidity": 0.2
             }
            },
            "type": "histogram"
           }
          ],
          "histogram2d": [
           {
            "colorbar": {
             "outlinewidth": 0,
             "ticks": ""
            },
            "colorscale": [
             [
              0,
              "#0d0887"
             ],
             [
              0.1111111111111111,
              "#46039f"
             ],
             [
              0.2222222222222222,
              "#7201a8"
             ],
             [
              0.3333333333333333,
              "#9c179e"
             ],
             [
              0.4444444444444444,
              "#bd3786"
             ],
             [
              0.5555555555555556,
              "#d8576b"
             ],
             [
              0.6666666666666666,
              "#ed7953"
             ],
             [
              0.7777777777777778,
              "#fb9f3a"
             ],
             [
              0.8888888888888888,
              "#fdca26"
             ],
             [
              1,
              "#f0f921"
             ]
            ],
            "type": "histogram2d"
           }
          ],
          "histogram2dcontour": [
           {
            "colorbar": {
             "outlinewidth": 0,
             "ticks": ""
            },
            "colorscale": [
             [
              0,
              "#0d0887"
             ],
             [
              0.1111111111111111,
              "#46039f"
             ],
             [
              0.2222222222222222,
              "#7201a8"
             ],
             [
              0.3333333333333333,
              "#9c179e"
             ],
             [
              0.4444444444444444,
              "#bd3786"
             ],
             [
              0.5555555555555556,
              "#d8576b"
             ],
             [
              0.6666666666666666,
              "#ed7953"
             ],
             [
              0.7777777777777778,
              "#fb9f3a"
             ],
             [
              0.8888888888888888,
              "#fdca26"
             ],
             [
              1,
              "#f0f921"
             ]
            ],
            "type": "histogram2dcontour"
           }
          ],
          "mesh3d": [
           {
            "colorbar": {
             "outlinewidth": 0,
             "ticks": ""
            },
            "type": "mesh3d"
           }
          ],
          "parcoords": [
           {
            "line": {
             "colorbar": {
              "outlinewidth": 0,
              "ticks": ""
             }
            },
            "type": "parcoords"
           }
          ],
          "pie": [
           {
            "automargin": true,
            "type": "pie"
           }
          ],
          "scatter": [
           {
            "fillpattern": {
             "fillmode": "overlay",
             "size": 10,
             "solidity": 0.2
            },
            "type": "scatter"
           }
          ],
          "scatter3d": [
           {
            "line": {
             "colorbar": {
              "outlinewidth": 0,
              "ticks": ""
             }
            },
            "marker": {
             "colorbar": {
              "outlinewidth": 0,
              "ticks": ""
             }
            },
            "type": "scatter3d"
           }
          ],
          "scattercarpet": [
           {
            "marker": {
             "colorbar": {
              "outlinewidth": 0,
              "ticks": ""
             }
            },
            "type": "scattercarpet"
           }
          ],
          "scattergeo": [
           {
            "marker": {
             "colorbar": {
              "outlinewidth": 0,
              "ticks": ""
             }
            },
            "type": "scattergeo"
           }
          ],
          "scattergl": [
           {
            "marker": {
             "colorbar": {
              "outlinewidth": 0,
              "ticks": ""
             }
            },
            "type": "scattergl"
           }
          ],
          "scattermapbox": [
           {
            "marker": {
             "colorbar": {
              "outlinewidth": 0,
              "ticks": ""
             }
            },
            "type": "scattermapbox"
           }
          ],
          "scatterpolar": [
           {
            "marker": {
             "colorbar": {
              "outlinewidth": 0,
              "ticks": ""
             }
            },
            "type": "scatterpolar"
           }
          ],
          "scatterpolargl": [
           {
            "marker": {
             "colorbar": {
              "outlinewidth": 0,
              "ticks": ""
             }
            },
            "type": "scatterpolargl"
           }
          ],
          "scatterternary": [
           {
            "marker": {
             "colorbar": {
              "outlinewidth": 0,
              "ticks": ""
             }
            },
            "type": "scatterternary"
           }
          ],
          "surface": [
           {
            "colorbar": {
             "outlinewidth": 0,
             "ticks": ""
            },
            "colorscale": [
             [
              0,
              "#0d0887"
             ],
             [
              0.1111111111111111,
              "#46039f"
             ],
             [
              0.2222222222222222,
              "#7201a8"
             ],
             [
              0.3333333333333333,
              "#9c179e"
             ],
             [
              0.4444444444444444,
              "#bd3786"
             ],
             [
              0.5555555555555556,
              "#d8576b"
             ],
             [
              0.6666666666666666,
              "#ed7953"
             ],
             [
              0.7777777777777778,
              "#fb9f3a"
             ],
             [
              0.8888888888888888,
              "#fdca26"
             ],
             [
              1,
              "#f0f921"
             ]
            ],
            "type": "surface"
           }
          ],
          "table": [
           {
            "cells": {
             "fill": {
              "color": "#EBF0F8"
             },
             "line": {
              "color": "white"
             }
            },
            "header": {
             "fill": {
              "color": "#C8D4E3"
             },
             "line": {
              "color": "white"
             }
            },
            "type": "table"
           }
          ]
         },
         "layout": {
          "annotationdefaults": {
           "arrowcolor": "#2a3f5f",
           "arrowhead": 0,
           "arrowwidth": 1
          },
          "autotypenumbers": "strict",
          "coloraxis": {
           "colorbar": {
            "outlinewidth": 0,
            "ticks": ""
           }
          },
          "colorscale": {
           "diverging": [
            [
             0,
             "#8e0152"
            ],
            [
             0.1,
             "#c51b7d"
            ],
            [
             0.2,
             "#de77ae"
            ],
            [
             0.3,
             "#f1b6da"
            ],
            [
             0.4,
             "#fde0ef"
            ],
            [
             0.5,
             "#f7f7f7"
            ],
            [
             0.6,
             "#e6f5d0"
            ],
            [
             0.7,
             "#b8e186"
            ],
            [
             0.8,
             "#7fbc41"
            ],
            [
             0.9,
             "#4d9221"
            ],
            [
             1,
             "#276419"
            ]
           ],
           "sequential": [
            [
             0,
             "#0d0887"
            ],
            [
             0.1111111111111111,
             "#46039f"
            ],
            [
             0.2222222222222222,
             "#7201a8"
            ],
            [
             0.3333333333333333,
             "#9c179e"
            ],
            [
             0.4444444444444444,
             "#bd3786"
            ],
            [
             0.5555555555555556,
             "#d8576b"
            ],
            [
             0.6666666666666666,
             "#ed7953"
            ],
            [
             0.7777777777777778,
             "#fb9f3a"
            ],
            [
             0.8888888888888888,
             "#fdca26"
            ],
            [
             1,
             "#f0f921"
            ]
           ],
           "sequentialminus": [
            [
             0,
             "#0d0887"
            ],
            [
             0.1111111111111111,
             "#46039f"
            ],
            [
             0.2222222222222222,
             "#7201a8"
            ],
            [
             0.3333333333333333,
             "#9c179e"
            ],
            [
             0.4444444444444444,
             "#bd3786"
            ],
            [
             0.5555555555555556,
             "#d8576b"
            ],
            [
             0.6666666666666666,
             "#ed7953"
            ],
            [
             0.7777777777777778,
             "#fb9f3a"
            ],
            [
             0.8888888888888888,
             "#fdca26"
            ],
            [
             1,
             "#f0f921"
            ]
           ]
          },
          "colorway": [
           "#636efa",
           "#EF553B",
           "#00cc96",
           "#ab63fa",
           "#FFA15A",
           "#19d3f3",
           "#FF6692",
           "#B6E880",
           "#FF97FF",
           "#FECB52"
          ],
          "font": {
           "color": "#2a3f5f"
          },
          "geo": {
           "bgcolor": "white",
           "lakecolor": "white",
           "landcolor": "white",
           "showlakes": true,
           "showland": true,
           "subunitcolor": "#C8D4E3"
          },
          "hoverlabel": {
           "align": "left"
          },
          "hovermode": "closest",
          "mapbox": {
           "style": "light"
          },
          "paper_bgcolor": "white",
          "plot_bgcolor": "white",
          "polar": {
           "angularaxis": {
            "gridcolor": "#EBF0F8",
            "linecolor": "#EBF0F8",
            "ticks": ""
           },
           "bgcolor": "white",
           "radialaxis": {
            "gridcolor": "#EBF0F8",
            "linecolor": "#EBF0F8",
            "ticks": ""
           }
          },
          "scene": {
           "xaxis": {
            "backgroundcolor": "white",
            "gridcolor": "#DFE8F3",
            "gridwidth": 2,
            "linecolor": "#EBF0F8",
            "showbackground": true,
            "ticks": "",
            "zerolinecolor": "#EBF0F8"
           },
           "yaxis": {
            "backgroundcolor": "white",
            "gridcolor": "#DFE8F3",
            "gridwidth": 2,
            "linecolor": "#EBF0F8",
            "showbackground": true,
            "ticks": "",
            "zerolinecolor": "#EBF0F8"
           },
           "zaxis": {
            "backgroundcolor": "white",
            "gridcolor": "#DFE8F3",
            "gridwidth": 2,
            "linecolor": "#EBF0F8",
            "showbackground": true,
            "ticks": "",
            "zerolinecolor": "#EBF0F8"
           }
          },
          "shapedefaults": {
           "line": {
            "color": "#2a3f5f"
           }
          },
          "ternary": {
           "aaxis": {
            "gridcolor": "#DFE8F3",
            "linecolor": "#A2B1C6",
            "ticks": ""
           },
           "baxis": {
            "gridcolor": "#DFE8F3",
            "linecolor": "#A2B1C6",
            "ticks": ""
           },
           "bgcolor": "white",
           "caxis": {
            "gridcolor": "#DFE8F3",
            "linecolor": "#A2B1C6",
            "ticks": ""
           }
          },
          "title": {
           "x": 0.05
          },
          "xaxis": {
           "automargin": true,
           "gridcolor": "#EBF0F8",
           "linecolor": "#EBF0F8",
           "ticks": "",
           "title": {
            "standoff": 15
           },
           "zerolinecolor": "#EBF0F8",
           "zerolinewidth": 2
          },
          "yaxis": {
           "automargin": true,
           "gridcolor": "#EBF0F8",
           "linecolor": "#EBF0F8",
           "ticks": "",
           "title": {
            "standoff": 15
           },
           "zerolinecolor": "#EBF0F8",
           "zerolinewidth": 2
          }
         }
        },
        "title": {
         "text": "Airbnb financial analysis over time"
        },
        "width": 1000,
        "xaxis": {
         "anchor": "y",
         "autorange": true,
         "domain": [
          0,
          1
         ],
         "range": [
          "2020-10-16 20:44:22.8366",
          "2024-07-14 03:15:37.1634"
         ],
         "type": "date"
        },
        "yaxis": {
         "anchor": "x",
         "autorange": true,
         "domain": [
          0,
          1
         ],
         "range": [
          -1211821204.634581,
          10994349604.63458
         ],
         "title": {
          "text": "USD"
         },
         "type": "linear"
        }
       }
      },
      "image/png": "[encoded data removed]",
      "text/html": [
       "<div>                            <div id=\"52049b5e-c51e-4a52-baf6-17dabb699f83\" class=\"plotly-graph-div\" style=\"height:500px; width:1000px;\"></div>            <script type=\"text/javascript\">                require([\"plotly\"], function(Plotly) {                    window.PLOTLYENV=window.PLOTLYENV || {};                                    if (document.getElementById(\"52049b5e-c51e-4a52-baf6-17dabb699f83\")) {                    Plotly.newPlot(                        \"52049b5e-c51e-4a52-baf6-17dabb699f83\",                        [{\"line\":{\"color\":\"firebrick\",\"width\":1.3},\"mode\":\"lines+markers\",\"name\":\"Interest Income\",\"x\":[\"2020-12-31\",\"2021-12-31\",\"2022-12-31\",\"2023-12-31\",\"2024-04-30\"],\"y\":[27117000.0,13000000.0,186000000.0,721000000.0,777000000.0],\"type\":\"scatter\",\"xaxis\":\"x\",\"yaxis\":\"y\"},{\"line\":{\"color\":\"#f1c40f\",\"width\":1.3},\"mode\":\"lines+markers\",\"name\":\"Total Revenue\",\"x\":[\"2020-12-31\",\"2021-12-31\",\"2022-12-31\",\"2023-12-31\",\"2024-04-30\"],\"y\":[3378199000.0,5992000000.0,8399000000.0,9917000000.0,10241000000.0],\"type\":\"scatter\",\"xaxis\":\"x\",\"yaxis\":\"y\"},{\"line\":{\"color\":\"#3498db\",\"width\":1.3},\"mode\":\"lines+markers\",\"name\":\"Net Income\",\"x\":[\"2020-12-31\",\"2021-12-31\",\"2022-12-31\",\"2023-12-31\",\"2024-04-30\"],\"y\":[-458471600.0,-352000000.0,1893000000.0,4792000000.0,4939000000.0],\"type\":\"scatter\",\"xaxis\":\"x\",\"yaxis\":\"y\"}],                        {\"template\":{\"data\":{\"barpolar\":[{\"marker\":{\"line\":{\"color\":\"white\",\"width\":0.5},\"pattern\":{\"fillmode\":\"overlay\",\"size\":10,\"solidity\":0.2}},\"type\":\"barpolar\"}],\"bar\":[{\"error_x\":{\"color\":\"#2a3f5f\"},\"error_y\":{\"color\":\"#2a3f5f\"},\"marker\":{\"line\":{\"color\":\"white\",\"width\":0.5},\"pattern\":{\"fillmode\":\"overlay\",\"size\":10,\"solidity\":0.2}},\"type\":\"bar\"}],\"carpet\":[{\"aaxis\":{\"endlinecolor\":\"#2a3f5f\",\"gridcolor\":\"#C8D4E3\",\"linecolor\":\"#C8D4E3\",\"minorgridcolor\":\"#C8D4E3\",\"startlinecolor\":\"#2a3f5f\"},\"baxis\":{\"endlinecolor\":\"#2a3f5f\",\"gridcolor\":\"#C8D4E3\",\"linecolor\":\"#C8D4E3\",\"minorgridcolor\":\"#C8D4E3\",\"startlinecolor\":\"#2a3f5f\"},\"type\":\"carpet\"}],\"choropleth\":[{\"colorbar\":{\"outlinewidth\":0,\"ticks\":\"\"},\"type\":\"choropleth\"}],\"contourcarpet\":[{\"colorbar\":{\"outlinewidth\":0,\"ticks\":\"\"},\"type\":\"contourcarpet\"}],\"contour\":[{\"colorbar\":{\"outlinewidth\":0,\"ticks\":\"\"},\"colorscale\":[[0.0,\"#0d0887\"],[0.1111111111111111,\"#46039f\"],[0.2222222222222222,\"#7201a8\"],[0.3333333333333333,\"#9c179e\"],[0.4444444444444444,\"#bd3786\"],[0.5555555555555556,\"#d8576b\"],[0.6666666666666666,\"#ed7953\"],[0.7777777777777778,\"#fb9f3a\"],[0.8888888888888888,\"#fdca26\"],[1.0,\"#f0f921\"]],\"type\":\"contour\"}],\"heatmapgl\":[{\"colorbar\":{\"outlinewidth\":0,\"ticks\":\"\"},\"colorscale\":[[0.0,\"#0d0887\"],[0.1111111111111111,\"#46039f\"],[0.2222222222222222,\"#7201a8\"],[0.3333333333333333,\"#9c179e\"],[0.4444444444444444,\"#bd3786\"],[0.5555555555555556,\"#d8576b\"],[0.6666666666666666,\"#ed7953\"],[0.7777777777777778,\"#fb9f3a\"],[0.8888888888888888,\"#fdca26\"],[1.0,\"#f0f921\"]],\"type\":\"heatmapgl\"}],\"heatmap\":[{\"colorbar\":{\"outlinewidth\":0,\"ticks\":\"\"},\"colorscale\":[[0.0,\"#0d0887\"],[0.1111111111111111,\"#46039f\"],[0.2222222222222222,\"#7201a8\"],[0.3333333333333333,\"#9c179e\"],[0.4444444444444444,\"#bd3786\"],[0.5555555555555556,\"#d8576b\"],[0.6666666666666666,\"#ed7953\"],[0.7777777777777778,\"#fb9f3a\"],[0.8888888888888888,\"#fdca26\"],[1.0,\"#f0f921\"]],\"type\":\"heatmap\"}],\"histogram2dcontour\":[{\"colorbar\":{\"outlinewidth\":0,\"ticks\":\"\"},\"colorscale\":[[0.0,\"#0d0887\"],[0.1111111111111111,\"#46039f\"],[0.2222222222222222,\"#7201a8\"],[0.3333333333333333,\"#9c179e\"],[0.4444444444444444,\"#bd3786\"],[0.5555555555555556,\"#d8576b\"],[0.6666666666666666,\"#ed7953\"],[0.7777777777777778,\"#fb9f3a\"],[0.8888888888888888,\"#fdca26\"],[1.0,\"#f0f921\"]],\"type\":\"histogram2dcontour\"}],\"histogram2d\":[{\"colorbar\":{\"outlinewidth\":0,\"ticks\":\"\"},\"colorscale\":[[0.0,\"#0d0887\"],[0.1111111111111111,\"#46039f\"],[0.2222222222222222,\"#7201a8\"],[0.3333333333333333,\"#9c179e\"],[0.4444444444444444,\"#bd3786\"],[0.5555555555555556,\"#d8576b\"],[0.6666666666666666,\"#ed7953\"],[0.7777777777777778,\"#fb9f3a\"],[0.8888888888888888,\"#fdca26\"],[1.0,\"#f0f921\"]],\"type\":\"histogram2d\"}],\"histogram\":[{\"marker\":{\"pattern\":{\"fillmode\":\"overlay\",\"size\":10,\"solidity\":0.2}},\"type\":\"histogram\"}],\"mesh3d\":[{\"colorbar\":{\"outlinewidth\":0,\"ticks\":\"\"},\"type\":\"mesh3d\"}],\"parcoords\":[{\"line\":{\"colorbar\":{\"outlinewidth\":0,\"ticks\":\"\"}},\"type\":\"parcoords\"}],\"pie\":[{\"automargin\":true,\"type\":\"pie\"}],\"scatter3d\":[{\"line\":{\"colorbar\":{\"outlinewidth\":0,\"ticks\":\"\"}},\"marker\":{\"colorbar\":{\"outlinewidth\":0,\"ticks\":\"\"}},\"type\":\"scatter3d\"}],\"scattercarpet\":[{\"marker\":{\"colorbar\":{\"outlinewidth\":0,\"ticks\":\"\"}},\"type\":\"scattercarpet\"}],\"scattergeo\":[{\"marker\":{\"colorbar\":{\"outlinewidth\":0,\"ticks\":\"\"}},\"type\":\"scattergeo\"}],\"scattergl\":[{\"marker\":{\"colorbar\":{\"outlinewidth\":0,\"ticks\":\"\"}},\"type\":\"scattergl\"}],\"scattermapbox\":[{\"marker\":{\"colorbar\":{\"outlinewidth\":0,\"ticks\":\"\"}},\"type\":\"scattermapbox\"}],\"scatterpolargl\":[{\"marker\":{\"colorbar\":{\"outlinewidth\":0,\"ticks\":\"\"}},\"type\":\"scatterpolargl\"}],\"scatterpolar\":[{\"marker\":{\"colorbar\":{\"outlinewidth\":0,\"ticks\":\"\"}},\"type\":\"scatterpolar\"}],\"scatter\":[{\"fillpattern\":{\"fillmode\":\"overlay\",\"size\":10,\"solidity\":0.2},\"type\":\"scatter\"}],\"scatterternary\":[{\"marker\":{\"colorbar\":{\"outlinewidth\":0,\"ticks\":\"\"}},\"type\":\"scatterternary\"}],\"surface\":[{\"colorbar\":{\"outlinewidth\":0,\"ticks\":\"\"},\"colorscale\":[[0.0,\"#0d0887\"],[0.1111111111111111,\"#46039f\"],[0.2222222222222222,\"#7201a8\"],[0.3333333333333333,\"#9c179e\"],[0.4444444444444444,\"#bd3786\"],[0.5555555555555556,\"#d8576b\"],[0.6666666666666666,\"#ed7953\"],[0.7777777777777778,\"#fb9f3a\"],[0.8888888888888888,\"#fdca26\"],[1.0,\"#f0f921\"]],\"type\":\"surface\"}],\"table\":[{\"cells\":{\"fill\":{\"color\":\"#EBF0F8\"},\"line\":{\"color\":\"white\"}},\"header\":{\"fill\":{\"color\":\"#C8D4E3\"},\"line\":{\"color\":\"white\"}},\"type\":\"table\"}]},\"layout\":{\"annotationdefaults\":{\"arrowcolor\":\"#2a3f5f\",\"arrowhead\":0,\"arrowwidth\":1},\"autotypenumbers\":\"strict\",\"coloraxis\":{\"colorbar\":{\"outlinewidth\":0,\"ticks\":\"\"}},\"colorscale\":{\"diverging\":[[0,\"#8e0152\"],[0.1,\"#c51b7d\"],[0.2,\"#de77ae\"],[0.3,\"#f1b6da\"],[0.4,\"#fde0ef\"],[0.5,\"#f7f7f7\"],[0.6,\"#e6f5d0\"],[0.7,\"#b8e186\"],[0.8,\"#7fbc41\"],[0.9,\"#4d9221\"],[1,\"#276419\"]],\"sequential\":[[0.0,\"#0d0887\"],[0.1111111111111111,\"#46039f\"],[0.2222222222222222,\"#7201a8\"],[0.3333333333333333,\"#9c179e\"],[0.4444444444444444,\"#bd3786\"],[0.5555555555555556,\"#d8576b\"],[0.6666666666666666,\"#ed7953\"],[0.7777777777777778,\"#fb9f3a\"],[0.8888888888888888,\"#fdca26\"],[1.0,\"#f0f921\"]],\"sequentialminus\":[[0.0,\"#0d0887\"],[0.1111111111111111,\"#46039f\"],[0.2222222222222222,\"#7201a8\"],[0.3333333333333333,\"#9c179e\"],[0.4444444444444444,\"#bd3786\"],[0.5555555555555556,\"#d8576b\"],[0.6666666666666666,\"#ed7953\"],[0.7777777777777778,\"#fb9f3a\"],[0.8888888888888888,\"#fdca26\"],[1.0,\"#f0f921\"]]},\"colorway\":[\"#636efa\",\"#EF553B\",\"#00cc96\",\"#ab63fa\",\"#FFA15A\",\"#19d3f3\",\"#FF6692\",\"#B6E880\",\"#FF97FF\",\"#FECB52\"],\"font\":{\"color\":\"#2a3f5f\"},\"geo\":{\"bgcolor\":\"white\",\"lakecolor\":\"white\",\"landcolor\":\"white\",\"showlakes\":true,\"showland\":true,\"subunitcolor\":\"#C8D4E3\"},\"hoverlabel\":{\"align\":\"left\"},\"hovermode\":\"closest\",\"mapbox\":{\"style\":\"light\"},\"paper_bgcolor\":\"white\",\"plot_bgcolor\":\"white\",\"polar\":{\"angularaxis\":{\"gridcolor\":\"#EBF0F8\",\"linecolor\":\"#EBF0F8\",\"ticks\":\"\"},\"bgcolor\":\"white\",\"radialaxis\":{\"gridcolor\":\"#EBF0F8\",\"linecolor\":\"#EBF0F8\",\"ticks\":\"\"}},\"scene\":{\"xaxis\":{\"backgroundcolor\":\"white\",\"gridcolor\":\"#DFE8F3\",\"gridwidth\":2,\"linecolor\":\"#EBF0F8\",\"showbackground\":true,\"ticks\":\"\",\"zerolinecolor\":\"#EBF0F8\"},\"yaxis\":{\"backgroundcolor\":\"white\",\"gridcolor\":\"#DFE8F3\",\"gridwidth\":2,\"linecolor\":\"#EBF0F8\",\"showbackground\":true,\"ticks\":\"\",\"zerolinecolor\":\"#EBF0F8\"},\"zaxis\":{\"backgroundcolor\":\"white\",\"gridcolor\":\"#DFE8F3\",\"gridwidth\":2,\"linecolor\":\"#EBF0F8\",\"showbackground\":true,\"ticks\":\"\",\"zerolinecolor\":\"#EBF0F8\"}},\"shapedefaults\":{\"line\":{\"color\":\"#2a3f5f\"}},\"ternary\":{\"aaxis\":{\"gridcolor\":\"#DFE8F3\",\"linecolor\":\"#A2B1C6\",\"ticks\":\"\"},\"baxis\":{\"gridcolor\":\"#DFE8F3\",\"linecolor\":\"#A2B1C6\",\"ticks\":\"\"},\"bgcolor\":\"white\",\"caxis\":{\"gridcolor\":\"#DFE8F3\",\"linecolor\":\"#A2B1C6\",\"ticks\":\"\"}},\"title\":{\"x\":0.05},\"xaxis\":{\"automargin\":true,\"gridcolor\":\"#EBF0F8\",\"linecolor\":\"#EBF0F8\",\"ticks\":\"\",\"title\":{\"standoff\":15},\"zerolinecolor\":\"#EBF0F8\",\"zerolinewidth\":2},\"yaxis\":{\"automargin\":true,\"gridcolor\":\"#EBF0F8\",\"linecolor\":\"#EBF0F8\",\"ticks\":\"\",\"title\":{\"standoff\":15},\"zerolinecolor\":\"#EBF0F8\",\"zerolinewidth\":2}}},\"xaxis\":{\"anchor\":\"y\",\"domain\":[0.0,1.0]},\"yaxis\":{\"anchor\":\"x\",\"domain\":[0.0,1.0],\"title\":{\"text\":\"USD\"}},\"annotations\":[{\"font\":{\"size\":16},\"showarrow\":false,\"text\":\"Interest Income, Total Revenue, and Net Income\",\"x\":0.5,\"xanchor\":\"center\",\"xref\":\"paper\",\"y\":1.0,\"yanchor\":\"bottom\",\"yref\":\"paper\"}],\"title\":{\"text\":\"Airbnb financial analysis over time\"},\"height\":500,\"width\":1000},                        {\"responsive\": true}                    ).then(function(){\n",
       "                            \n",
       "var gd = document.getElementById('52049b5e-c51e-4a52-baf6-17dabb699f83');\n",
       "var x = new MutationObserver(function (mutations, observer) {{\n",
       "        var display = window.getComputedStyle(gd).display;\n",
       "        if (!display || display === 'none') {{\n",
       "            console.log([gd, 'removed!']);\n",
       "            Plotly.purge(gd);\n",
       "            observer.disconnect();\n",
       "        }}\n",
       "}});\n",
       "\n",
       "// Listen for the removal of the full notebook cells\n",
       "var notebookContainer = gd.closest('#notebook-container');\n",
       "if (notebookContainer) {{\n",
       "    x.observe(notebookContainer, {childList: true});\n",
       "}}\n",
       "\n",
       "// Listen for the clearing of the current output cell\n",
       "var outputEl = gd.closest('.output');\n",
       "if (outputEl) {{\n",
       "    x.observe(outputEl, {childList: true});\n",
       "}}\n",
       "\n",
       "                        })                };                });            </script>        </div>"
      ]
     },
     "metadata": {},
     "output_type": "display_data"
    }
   ],
   "source": [
    "fig = make_subplots(rows=1, cols=1, \n",
    "                    shared_xaxes=True, \n",
    "                    vertical_spacing=0.1,\n",
    "                    subplot_titles=(\"Interest Income, Total Revenue, and Net Income\",\n",
    "                                    # \"Interest Income to Total Revenue Ratio (%)\",\n",
    "                                    # \"Interest Income to Net Income Ratio (%)\"\n",
    "                                   )\n",
    "                   )\n",
    "\n",
    "#f1c40f\n",
    "#9b59b6\n",
    "fig.add_trace(go.Scatter(x=dates, y=interest_income, mode='lines+markers',     line=dict(color='firebrick', width=1.3), name='Interest Income'), row=1, col=1)\n",
    "fig.add_trace(go.Scatter(x=dates, y=total_revenue, mode='lines+markers',line=dict(color='#f1c40f', width=1.3), name='Total Revenue'), row=1, col=1)\n",
    "fig.add_trace(go.Scatter(x=dates, y=net_income, mode='lines+markers', name='Net Income',line=dict(color='#3498db', width=1.3)), row=1, col=1)\n",
    "\n",
    "fig.update_yaxes(title_text=\"USD\", row=1, col=1)\n",
    "# Update layout and aesthetics\n",
    "fig.update_layout(height=500, width=1000, title_text=\"Airbnb financial analysis over time\", template=\"plotly_white\")\n",
    "fig.show()"
   ]
  },
  {
   "cell_type": "code",
   "execution_count": 193,
   "id": "ea7a58ea-0515-45a8-8813-54298a14fa26",
   "metadata": {},
   "outputs": [
    {
     "data": {
      "application/vnd.plotly.v1+json": {
       "config": {
        "plotlyServerURL": "https://plot.ly"
       },
       "data": [
        {
         "marker": {
          "color": "#34495e"
         },
         "name": "Interest Income to Total Revenue (%)",
         "text": [
          "0.8%",
          "0.2%",
          "2.2%",
          "7.3%",
          "7.6%"
         ],
         "textposition": "outside",
         "type": "bar",
         "x": [
          "2020-12-31",
          "2021-12-31",
          "2022-12-31",
          "2023-12-31",
          "2024-04-30"
         ],
         "xaxis": "x",
         "y": [
          0.8207,
          0.21696,
          2.214549,
          7.270344,
          7.58715
         ],
         "yaxis": "y"
        }
       ],
       "layout": {
        "height": 500,
        "template": {
         "data": {
          "bar": [
           {
            "error_x": {
             "color": "#2a3f5f"
            },
            "error_y": {
             "color": "#2a3f5f"
            },
            "marker": {
             "line": {
              "color": "white",
              "width": 0.5
             },
             "pattern": {
              "fillmode": "overlay",
              "size": 10,
              "solidity": 0.2
             }
            },
            "type": "bar"
           }
          ],
          "barpolar": [
           {
            "marker": {
             "line": {
              "color": "white",
              "width": 0.5
             },
             "pattern": {
              "fillmode": "overlay",
              "size": 10,
              "solidity": 0.2
             }
            },
            "type": "barpolar"
           }
          ],
          "carpet": [
           {
            "aaxis": {
             "endlinecolor": "#2a3f5f",
             "gridcolor": "#C8D4E3",
             "linecolor": "#C8D4E3",
             "minorgridcolor": "#C8D4E3",
             "startlinecolor": "#2a3f5f"
            },
            "baxis": {
             "endlinecolor": "#2a3f5f",
             "gridcolor": "#C8D4E3",
             "linecolor": "#C8D4E3",
             "minorgridcolor": "#C8D4E3",
             "startlinecolor": "#2a3f5f"
            },
            "type": "carpet"
           }
          ],
          "choropleth": [
           {
            "colorbar": {
             "outlinewidth": 0,
             "ticks": ""
            },
            "type": "choropleth"
           }
          ],
          "contour": [
           {
            "colorbar": {
             "outlinewidth": 0,
             "ticks": ""
            },
            "colorscale": [
             [
              0,
              "#0d0887"
             ],
             [
              0.1111111111111111,
              "#46039f"
             ],
             [
              0.2222222222222222,
              "#7201a8"
             ],
             [
              0.3333333333333333,
              "#9c179e"
             ],
             [
              0.4444444444444444,
              "#bd3786"
             ],
             [
              0.5555555555555556,
              "#d8576b"
             ],
             [
              0.6666666666666666,
              "#ed7953"
             ],
             [
              0.7777777777777778,
              "#fb9f3a"
             ],
             [
              0.8888888888888888,
              "#fdca26"
             ],
             [
              1,
              "#f0f921"
             ]
            ],
            "type": "contour"
           }
          ],
          "contourcarpet": [
           {
            "colorbar": {
             "outlinewidth": 0,
             "ticks": ""
            },
            "type": "contourcarpet"
           }
          ],
          "heatmap": [
           {
            "colorbar": {
             "outlinewidth": 0,
             "ticks": ""
            },
            "colorscale": [
             [
              0,
              "#0d0887"
             ],
             [
              0.1111111111111111,
              "#46039f"
             ],
             [
              0.2222222222222222,
              "#7201a8"
             ],
             [
              0.3333333333333333,
              "#9c179e"
             ],
             [
              0.4444444444444444,
              "#bd3786"
             ],
             [
              0.5555555555555556,
              "#d8576b"
             ],
             [
              0.6666666666666666,
              "#ed7953"
             ],
             [
              0.7777777777777778,
              "#fb9f3a"
             ],
             [
              0.8888888888888888,
              "#fdca26"
             ],
             [
              1,
              "#f0f921"
             ]
            ],
            "type": "heatmap"
           }
          ],
          "heatmapgl": [
           {
            "colorbar": {
             "outlinewidth": 0,
             "ticks": ""
            },
            "colorscale": [
             [
              0,
              "#0d0887"
             ],
             [
              0.1111111111111111,
              "#46039f"
             ],
             [
              0.2222222222222222,
              "#7201a8"
             ],
             [
              0.3333333333333333,
              "#9c179e"
             ],
             [
              0.4444444444444444,
              "#bd3786"
             ],
             [
              0.5555555555555556,
              "#d8576b"
             ],
             [
              0.6666666666666666,
              "#ed7953"
             ],
             [
              0.7777777777777778,
              "#fb9f3a"
             ],
             [
              0.8888888888888888,
              "#fdca26"
             ],
             [
              1,
              "#f0f921"
             ]
            ],
            "type": "heatmapgl"
           }
          ],
          "histogram": [
           {
            "marker": {
             "pattern": {
              "fillmode": "overlay",
              "size": 10,
              "solidity": 0.2
             }
            },
            "type": "histogram"
           }
          ],
          "histogram2d": [
           {
            "colorbar": {
             "outlinewidth": 0,
             "ticks": ""
            },
            "colorscale": [
             [
              0,
              "#0d0887"
             ],
             [
              0.1111111111111111,
              "#46039f"
             ],
             [
              0.2222222222222222,
              "#7201a8"
             ],
             [
              0.3333333333333333,
              "#9c179e"
             ],
             [
              0.4444444444444444,
              "#bd3786"
             ],
             [
              0.5555555555555556,
              "#d8576b"
             ],
             [
              0.6666666666666666,
              "#ed7953"
             ],
             [
              0.7777777777777778,
              "#fb9f3a"
             ],
             [
              0.8888888888888888,
              "#fdca26"
             ],
             [
              1,
              "#f0f921"
             ]
            ],
            "type": "histogram2d"
           }
          ],
          "histogram2dcontour": [
           {
            "colorbar": {
             "outlinewidth": 0,
             "ticks": ""
            },
            "colorscale": [
             [
              0,
              "#0d0887"
             ],
             [
              0.1111111111111111,
              "#46039f"
             ],
             [
              0.2222222222222222,
              "#7201a8"
             ],
             [
              0.3333333333333333,
              "#9c179e"
             ],
             [
              0.4444444444444444,
              "#bd3786"
             ],
             [
              0.5555555555555556,
              "#d8576b"
             ],
             [
              0.6666666666666666,
              "#ed7953"
             ],
             [
              0.7777777777777778,
              "#fb9f3a"
             ],
             [
              0.8888888888888888,
              "#fdca26"
             ],
             [
              1,
              "#f0f921"
             ]
            ],
            "type": "histogram2dcontour"
           }
          ],
          "mesh3d": [
           {
            "colorbar": {
             "outlinewidth": 0,
             "ticks": ""
            },
            "type": "mesh3d"
           }
          ],
          "parcoords": [
           {
            "line": {
             "colorbar": {
              "outlinewidth": 0,
              "ticks": ""
             }
            },
            "type": "parcoords"
           }
          ],
          "pie": [
           {
            "automargin": true,
            "type": "pie"
           }
          ],
          "scatter": [
           {
            "fillpattern": {
             "fillmode": "overlay",
             "size": 10,
             "solidity": 0.2
            },
            "type": "scatter"
           }
          ],
          "scatter3d": [
           {
            "line": {
             "colorbar": {
              "outlinewidth": 0,
              "ticks": ""
             }
            },
            "marker": {
             "colorbar": {
              "outlinewidth": 0,
              "ticks": ""
             }
            },
            "type": "scatter3d"
           }
          ],
          "scattercarpet": [
           {
            "marker": {
             "colorbar": {
              "outlinewidth": 0,
              "ticks": ""
             }
            },
            "type": "scattercarpet"
           }
          ],
          "scattergeo": [
           {
            "marker": {
             "colorbar": {
              "outlinewidth": 0,
              "ticks": ""
             }
            },
            "type": "scattergeo"
           }
          ],
          "scattergl": [
           {
            "marker": {
             "colorbar": {
              "outlinewidth": 0,
              "ticks": ""
             }
            },
            "type": "scattergl"
           }
          ],
          "scattermapbox": [
           {
            "marker": {
             "colorbar": {
              "outlinewidth": 0,
              "ticks": ""
             }
            },
            "type": "scattermapbox"
           }
          ],
          "scatterpolar": [
           {
            "marker": {
             "colorbar": {
              "outlinewidth": 0,
              "ticks": ""
             }
            },
            "type": "scatterpolar"
           }
          ],
          "scatterpolargl": [
           {
            "marker": {
             "colorbar": {
              "outlinewidth": 0,
              "ticks": ""
             }
            },
            "type": "scatterpolargl"
           }
          ],
          "scatterternary": [
           {
            "marker": {
             "colorbar": {
              "outlinewidth": 0,
              "ticks": ""
             }
            },
            "type": "scatterternary"
           }
          ],
          "surface": [
           {
            "colorbar": {
             "outlinewidth": 0,
             "ticks": ""
            },
            "colorscale": [
             [
              0,
              "#0d0887"
             ],
             [
              0.1111111111111111,
              "#46039f"
             ],
             [
              0.2222222222222222,
              "#7201a8"
             ],
             [
              0.3333333333333333,
              "#9c179e"
             ],
             [
              0.4444444444444444,
              "#bd3786"
             ],
             [
              0.5555555555555556,
              "#d8576b"
             ],
             [
              0.6666666666666666,
              "#ed7953"
             ],
             [
              0.7777777777777778,
              "#fb9f3a"
             ],
             [
              0.8888888888888888,
              "#fdca26"
             ],
             [
              1,
              "#f0f921"
             ]
            ],
            "type": "surface"
           }
          ],
          "table": [
           {
            "cells": {
             "fill": {
              "color": "#EBF0F8"
             },
             "line": {
              "color": "white"
             }
            },
            "header": {
             "fill": {
              "color": "#C8D4E3"
             },
             "line": {
              "color": "white"
             }
            },
            "type": "table"
           }
          ]
         },
         "layout": {
          "annotationdefaults": {
           "arrowcolor": "#2a3f5f",
           "arrowhead": 0,
           "arrowwidth": 1
          },
          "autotypenumbers": "strict",
          "coloraxis": {
           "colorbar": {
            "outlinewidth": 0,
            "ticks": ""
           }
          },
          "colorscale": {
           "diverging": [
            [
             0,
             "#8e0152"
            ],
            [
             0.1,
             "#c51b7d"
            ],
            [
             0.2,
             "#de77ae"
            ],
            [
             0.3,
             "#f1b6da"
            ],
            [
             0.4,
             "#fde0ef"
            ],
            [
             0.5,
             "#f7f7f7"
            ],
            [
             0.6,
             "#e6f5d0"
            ],
            [
             0.7,
             "#b8e186"
            ],
            [
             0.8,
             "#7fbc41"
            ],
            [
             0.9,
             "#4d9221"
            ],
            [
             1,
             "#276419"
            ]
           ],
           "sequential": [
            [
             0,
             "#0d0887"
            ],
            [
             0.1111111111111111,
             "#46039f"
            ],
            [
             0.2222222222222222,
             "#7201a8"
            ],
            [
             0.3333333333333333,
             "#9c179e"
            ],
            [
             0.4444444444444444,
             "#bd3786"
            ],
            [
             0.5555555555555556,
             "#d8576b"
            ],
            [
             0.6666666666666666,
             "#ed7953"
            ],
            [
             0.7777777777777778,
             "#fb9f3a"
            ],
            [
             0.8888888888888888,
             "#fdca26"
            ],
            [
             1,
             "#f0f921"
            ]
           ],
           "sequentialminus": [
            [
             0,
             "#0d0887"
            ],
            [
             0.1111111111111111,
             "#46039f"
            ],
            [
             0.2222222222222222,
             "#7201a8"
            ],
            [
             0.3333333333333333,
             "#9c179e"
            ],
            [
             0.4444444444444444,
             "#bd3786"
            ],
            [
             0.5555555555555556,
             "#d8576b"
            ],
            [
             0.6666666666666666,
             "#ed7953"
            ],
            [
             0.7777777777777778,
             "#fb9f3a"
            ],
            [
             0.8888888888888888,
             "#fdca26"
            ],
            [
             1,
             "#f0f921"
            ]
           ]
          },
          "colorway": [
           "#636efa",
           "#EF553B",
           "#00cc96",
           "#ab63fa",
           "#FFA15A",
           "#19d3f3",
           "#FF6692",
           "#B6E880",
           "#FF97FF",
           "#FECB52"
          ],
          "font": {
           "color": "#2a3f5f"
          },
          "geo": {
           "bgcolor": "white",
           "lakecolor": "white",
           "landcolor": "white",
           "showlakes": true,
           "showland": true,
           "subunitcolor": "#C8D4E3"
          },
          "hoverlabel": {
           "align": "left"
          },
          "hovermode": "closest",
          "mapbox": {
           "style": "light"
          },
          "paper_bgcolor": "white",
          "plot_bgcolor": "white",
          "polar": {
           "angularaxis": {
            "gridcolor": "#EBF0F8",
            "linecolor": "#EBF0F8",
            "ticks": ""
           },
           "bgcolor": "white",
           "radialaxis": {
            "gridcolor": "#EBF0F8",
            "linecolor": "#EBF0F8",
            "ticks": ""
           }
          },
          "scene": {
           "xaxis": {
            "backgroundcolor": "white",
            "gridcolor": "#DFE8F3",
            "gridwidth": 2,
            "linecolor": "#EBF0F8",
            "showbackground": true,
            "ticks": "",
            "zerolinecolor": "#EBF0F8"
           },
           "yaxis": {
            "backgroundcolor": "white",
            "gridcolor": "#DFE8F3",
            "gridwidth": 2,
            "linecolor": "#EBF0F8",
            "showbackground": true,
            "ticks": "",
            "zerolinecolor": "#EBF0F8"
           },
           "zaxis": {
            "backgroundcolor": "white",
            "gridcolor": "#DFE8F3",
            "gridwidth": 2,
            "linecolor": "#EBF0F8",
            "showbackground": true,
            "ticks": "",
            "zerolinecolor": "#EBF0F8"
           }
          },
          "shapedefaults": {
           "line": {
            "color": "#2a3f5f"
           }
          },
          "ternary": {
           "aaxis": {
            "gridcolor": "#DFE8F3",
            "linecolor": "#A2B1C6",
            "ticks": ""
           },
           "baxis": {
            "gridcolor": "#DFE8F3",
            "linecolor": "#A2B1C6",
            "ticks": ""
           },
           "bgcolor": "white",
           "caxis": {
            "gridcolor": "#DFE8F3",
            "linecolor": "#A2B1C6",
            "ticks": ""
           }
          },
          "title": {
           "x": 0.05
          },
          "xaxis": {
           "automargin": true,
           "gridcolor": "#EBF0F8",
           "linecolor": "#EBF0F8",
           "ticks": "",
           "title": {
            "standoff": 15
           },
           "zerolinecolor": "#EBF0F8",
           "zerolinewidth": 2
          },
          "yaxis": {
           "automargin": true,
           "gridcolor": "#EBF0F8",
           "linecolor": "#EBF0F8",
           "ticks": "",
           "title": {
            "standoff": 15
           },
           "zerolinecolor": "#EBF0F8",
           "zerolinewidth": 2
          }
         }
        },
        "title": {
         "text": "ABNB| Interest Income to Total Revenue Ratio (%)"
        },
        "width": 1000,
        "xaxis": {
         "anchor": "y",
         "autorange": true,
         "domain": [
          0,
          1
         ],
         "range": [
          "2020-10-31 12:00",
          "2024-06-29 12:00"
         ],
         "type": "date"
        },
        "yaxis": {
         "anchor": "x",
         "autorange": true,
         "domain": [
          0,
          1
         ],
         "range": [
          0,
          7.986473684210527
         ],
         "title": {
          "text": "%"
         },
         "type": "linear"
        }
       }
      },
      "image/png": "[encoded data removed]",
      "text/html": [
       "<div>                            <div id=\"ccef2651-5275-4ba7-a860-e04360e6a73b\" class=\"plotly-graph-div\" style=\"height:500px; width:1000px;\"></div>            <script type=\"text/javascript\">                require([\"plotly\"], function(Plotly) {                    window.PLOTLYENV=window.PLOTLYENV || {};                                    if (document.getElementById(\"ccef2651-5275-4ba7-a860-e04360e6a73b\")) {                    Plotly.newPlot(                        \"ccef2651-5275-4ba7-a860-e04360e6a73b\",                        [{\"marker\":{\"color\":\"#34495e\"},\"name\":\"Interest Income to Total Revenue (%)\",\"text\":[\"0.8%\",\"0.2%\",\"2.2%\",\"7.3%\",\"7.6%\"],\"textposition\":\"outside\",\"x\":[\"2020-12-31\",\"2021-12-31\",\"2022-12-31\",\"2023-12-31\",\"2024-04-30\"],\"y\":[0.8207,0.21696,2.214549,7.270344,7.58715],\"type\":\"bar\",\"xaxis\":\"x\",\"yaxis\":\"y\"}],                        {\"template\":{\"data\":{\"barpolar\":[{\"marker\":{\"line\":{\"color\":\"white\",\"width\":0.5},\"pattern\":{\"fillmode\":\"overlay\",\"size\":10,\"solidity\":0.2}},\"type\":\"barpolar\"}],\"bar\":[{\"error_x\":{\"color\":\"#2a3f5f\"},\"error_y\":{\"color\":\"#2a3f5f\"},\"marker\":{\"line\":{\"color\":\"white\",\"width\":0.5},\"pattern\":{\"fillmode\":\"overlay\",\"size\":10,\"solidity\":0.2}},\"type\":\"bar\"}],\"carpet\":[{\"aaxis\":{\"endlinecolor\":\"#2a3f5f\",\"gridcolor\":\"#C8D4E3\",\"linecolor\":\"#C8D4E3\",\"minorgridcolor\":\"#C8D4E3\",\"startlinecolor\":\"#2a3f5f\"},\"baxis\":{\"endlinecolor\":\"#2a3f5f\",\"gridcolor\":\"#C8D4E3\",\"linecolor\":\"#C8D4E3\",\"minorgridcolor\":\"#C8D4E3\",\"startlinecolor\":\"#2a3f5f\"},\"type\":\"carpet\"}],\"choropleth\":[{\"colorbar\":{\"outlinewidth\":0,\"ticks\":\"\"},\"type\":\"choropleth\"}],\"contourcarpet\":[{\"colorbar\":{\"outlinewidth\":0,\"ticks\":\"\"},\"type\":\"contourcarpet\"}],\"contour\":[{\"colorbar\":{\"outlinewidth\":0,\"ticks\":\"\"},\"colorscale\":[[0.0,\"#0d0887\"],[0.1111111111111111,\"#46039f\"],[0.2222222222222222,\"#7201a8\"],[0.3333333333333333,\"#9c179e\"],[0.4444444444444444,\"#bd3786\"],[0.5555555555555556,\"#d8576b\"],[0.6666666666666666,\"#ed7953\"],[0.7777777777777778,\"#fb9f3a\"],[0.8888888888888888,\"#fdca26\"],[1.0,\"#f0f921\"]],\"type\":\"contour\"}],\"heatmapgl\":[{\"colorbar\":{\"outlinewidth\":0,\"ticks\":\"\"},\"colorscale\":[[0.0,\"#0d0887\"],[0.1111111111111111,\"#46039f\"],[0.2222222222222222,\"#7201a8\"],[0.3333333333333333,\"#9c179e\"],[0.4444444444444444,\"#bd3786\"],[0.5555555555555556,\"#d8576b\"],[0.6666666666666666,\"#ed7953\"],[0.7777777777777778,\"#fb9f3a\"],[0.8888888888888888,\"#fdca26\"],[1.0,\"#f0f921\"]],\"type\":\"heatmapgl\"}],\"heatmap\":[{\"colorbar\":{\"outlinewidth\":0,\"ticks\":\"\"},\"colorscale\":[[0.0,\"#0d0887\"],[0.1111111111111111,\"#46039f\"],[0.2222222222222222,\"#7201a8\"],[0.3333333333333333,\"#9c179e\"],[0.4444444444444444,\"#bd3786\"],[0.5555555555555556,\"#d8576b\"],[0.6666666666666666,\"#ed7953\"],[0.7777777777777778,\"#fb9f3a\"],[0.8888888888888888,\"#fdca26\"],[1.0,\"#f0f921\"]],\"type\":\"heatmap\"}],\"histogram2dcontour\":[{\"colorbar\":{\"outlinewidth\":0,\"ticks\":\"\"},\"colorscale\":[[0.0,\"#0d0887\"],[0.1111111111111111,\"#46039f\"],[0.2222222222222222,\"#7201a8\"],[0.3333333333333333,\"#9c179e\"],[0.4444444444444444,\"#bd3786\"],[0.5555555555555556,\"#d8576b\"],[0.6666666666666666,\"#ed7953\"],[0.7777777777777778,\"#fb9f3a\"],[0.8888888888888888,\"#fdca26\"],[1.0,\"#f0f921\"]],\"type\":\"histogram2dcontour\"}],\"histogram2d\":[{\"colorbar\":{\"outlinewidth\":0,\"ticks\":\"\"},\"colorscale\":[[0.0,\"#0d0887\"],[0.1111111111111111,\"#46039f\"],[0.2222222222222222,\"#7201a8\"],[0.3333333333333333,\"#9c179e\"],[0.4444444444444444,\"#bd3786\"],[0.5555555555555556,\"#d8576b\"],[0.6666666666666666,\"#ed7953\"],[0.7777777777777778,\"#fb9f3a\"],[0.8888888888888888,\"#fdca26\"],[1.0,\"#f0f921\"]],\"type\":\"histogram2d\"}],\"histogram\":[{\"marker\":{\"pattern\":{\"fillmode\":\"overlay\",\"size\":10,\"solidity\":0.2}},\"type\":\"histogram\"}],\"mesh3d\":[{\"colorbar\":{\"outlinewidth\":0,\"ticks\":\"\"},\"type\":\"mesh3d\"}],\"parcoords\":[{\"line\":{\"colorbar\":{\"outlinewidth\":0,\"ticks\":\"\"}},\"type\":\"parcoords\"}],\"pie\":[{\"automargin\":true,\"type\":\"pie\"}],\"scatter3d\":[{\"line\":{\"colorbar\":{\"outlinewidth\":0,\"ticks\":\"\"}},\"marker\":{\"colorbar\":{\"outlinewidth\":0,\"ticks\":\"\"}},\"type\":\"scatter3d\"}],\"scattercarpet\":[{\"marker\":{\"colorbar\":{\"outlinewidth\":0,\"ticks\":\"\"}},\"type\":\"scattercarpet\"}],\"scattergeo\":[{\"marker\":{\"colorbar\":{\"outlinewidth\":0,\"ticks\":\"\"}},\"type\":\"scattergeo\"}],\"scattergl\":[{\"marker\":{\"colorbar\":{\"outlinewidth\":0,\"ticks\":\"\"}},\"type\":\"scattergl\"}],\"scattermapbox\":[{\"marker\":{\"colorbar\":{\"outlinewidth\":0,\"ticks\":\"\"}},\"type\":\"scattermapbox\"}],\"scatterpolargl\":[{\"marker\":{\"colorbar\":{\"outlinewidth\":0,\"ticks\":\"\"}},\"type\":\"scatterpolargl\"}],\"scatterpolar\":[{\"marker\":{\"colorbar\":{\"outlinewidth\":0,\"ticks\":\"\"}},\"type\":\"scatterpolar\"}],\"scatter\":[{\"fillpattern\":{\"fillmode\":\"overlay\",\"size\":10,\"solidity\":0.2},\"type\":\"scatter\"}],\"scatterternary\":[{\"marker\":{\"colorbar\":{\"outlinewidth\":0,\"ticks\":\"\"}},\"type\":\"scatterternary\"}],\"surface\":[{\"colorbar\":{\"outlinewidth\":0,\"ticks\":\"\"},\"colorscale\":[[0.0,\"#0d0887\"],[0.1111111111111111,\"#46039f\"],[0.2222222222222222,\"#7201a8\"],[0.3333333333333333,\"#9c179e\"],[0.4444444444444444,\"#bd3786\"],[0.5555555555555556,\"#d8576b\"],[0.6666666666666666,\"#ed7953\"],[0.7777777777777778,\"#fb9f3a\"],[0.8888888888888888,\"#fdca26\"],[1.0,\"#f0f921\"]],\"type\":\"surface\"}],\"table\":[{\"cells\":{\"fill\":{\"color\":\"#EBF0F8\"},\"line\":{\"color\":\"white\"}},\"header\":{\"fill\":{\"color\":\"#C8D4E3\"},\"line\":{\"color\":\"white\"}},\"type\":\"table\"}]},\"layout\":{\"annotationdefaults\":{\"arrowcolor\":\"#2a3f5f\",\"arrowhead\":0,\"arrowwidth\":1},\"autotypenumbers\":\"strict\",\"coloraxis\":{\"colorbar\":{\"outlinewidth\":0,\"ticks\":\"\"}},\"colorscale\":{\"diverging\":[[0,\"#8e0152\"],[0.1,\"#c51b7d\"],[0.2,\"#de77ae\"],[0.3,\"#f1b6da\"],[0.4,\"#fde0ef\"],[0.5,\"#f7f7f7\"],[0.6,\"#e6f5d0\"],[0.7,\"#b8e186\"],[0.8,\"#7fbc41\"],[0.9,\"#4d9221\"],[1,\"#276419\"]],\"sequential\":[[0.0,\"#0d0887\"],[0.1111111111111111,\"#46039f\"],[0.2222222222222222,\"#7201a8\"],[0.3333333333333333,\"#9c179e\"],[0.4444444444444444,\"#bd3786\"],[0.5555555555555556,\"#d8576b\"],[0.6666666666666666,\"#ed7953\"],[0.7777777777777778,\"#fb9f3a\"],[0.8888888888888888,\"#fdca26\"],[1.0,\"#f0f921\"]],\"sequentialminus\":[[0.0,\"#0d0887\"],[0.1111111111111111,\"#46039f\"],[0.2222222222222222,\"#7201a8\"],[0.3333333333333333,\"#9c179e\"],[0.4444444444444444,\"#bd3786\"],[0.5555555555555556,\"#d8576b\"],[0.6666666666666666,\"#ed7953\"],[0.7777777777777778,\"#fb9f3a\"],[0.8888888888888888,\"#fdca26\"],[1.0,\"#f0f921\"]]},\"colorway\":[\"#636efa\",\"#EF553B\",\"#00cc96\",\"#ab63fa\",\"#FFA15A\",\"#19d3f3\",\"#FF6692\",\"#B6E880\",\"#FF97FF\",\"#FECB52\"],\"font\":{\"color\":\"#2a3f5f\"},\"geo\":{\"bgcolor\":\"white\",\"lakecolor\":\"white\",\"landcolor\":\"white\",\"showlakes\":true,\"showland\":true,\"subunitcolor\":\"#C8D4E3\"},\"hoverlabel\":{\"align\":\"left\"},\"hovermode\":\"closest\",\"mapbox\":{\"style\":\"light\"},\"paper_bgcolor\":\"white\",\"plot_bgcolor\":\"white\",\"polar\":{\"angularaxis\":{\"gridcolor\":\"#EBF0F8\",\"linecolor\":\"#EBF0F8\",\"ticks\":\"\"},\"bgcolor\":\"white\",\"radialaxis\":{\"gridcolor\":\"#EBF0F8\",\"linecolor\":\"#EBF0F8\",\"ticks\":\"\"}},\"scene\":{\"xaxis\":{\"backgroundcolor\":\"white\",\"gridcolor\":\"#DFE8F3\",\"gridwidth\":2,\"linecolor\":\"#EBF0F8\",\"showbackground\":true,\"ticks\":\"\",\"zerolinecolor\":\"#EBF0F8\"},\"yaxis\":{\"backgroundcolor\":\"white\",\"gridcolor\":\"#DFE8F3\",\"gridwidth\":2,\"linecolor\":\"#EBF0F8\",\"showbackground\":true,\"ticks\":\"\",\"zerolinecolor\":\"#EBF0F8\"},\"zaxis\":{\"backgroundcolor\":\"white\",\"gridcolor\":\"#DFE8F3\",\"gridwidth\":2,\"linecolor\":\"#EBF0F8\",\"showbackground\":true,\"ticks\":\"\",\"zerolinecolor\":\"#EBF0F8\"}},\"shapedefaults\":{\"line\":{\"color\":\"#2a3f5f\"}},\"ternary\":{\"aaxis\":{\"gridcolor\":\"#DFE8F3\",\"linecolor\":\"#A2B1C6\",\"ticks\":\"\"},\"baxis\":{\"gridcolor\":\"#DFE8F3\",\"linecolor\":\"#A2B1C6\",\"ticks\":\"\"},\"bgcolor\":\"white\",\"caxis\":{\"gridcolor\":\"#DFE8F3\",\"linecolor\":\"#A2B1C6\",\"ticks\":\"\"}},\"title\":{\"x\":0.05},\"xaxis\":{\"automargin\":true,\"gridcolor\":\"#EBF0F8\",\"linecolor\":\"#EBF0F8\",\"ticks\":\"\",\"title\":{\"standoff\":15},\"zerolinecolor\":\"#EBF0F8\",\"zerolinewidth\":2},\"yaxis\":{\"automargin\":true,\"gridcolor\":\"#EBF0F8\",\"linecolor\":\"#EBF0F8\",\"ticks\":\"\",\"title\":{\"standoff\":15},\"zerolinecolor\":\"#EBF0F8\",\"zerolinewidth\":2}}},\"xaxis\":{\"anchor\":\"y\",\"domain\":[0.0,1.0]},\"yaxis\":{\"anchor\":\"x\",\"domain\":[0.0,1.0],\"title\":{\"text\":\"%\"}},\"title\":{\"text\":\"ABNB| Interest Income to Total Revenue Ratio (%)\"},\"height\":500,\"width\":1000},                        {\"responsive\": true}                    ).then(function(){\n",
       "                            \n",
       "var gd = document.getElementById('ccef2651-5275-4ba7-a860-e04360e6a73b');\n",
       "var x = new MutationObserver(function (mutations, observer) {{\n",
       "        var display = window.getComputedStyle(gd).display;\n",
       "        if (!display || display === 'none') {{\n",
       "            console.log([gd, 'removed!']);\n",
       "            Plotly.purge(gd);\n",
       "            observer.disconnect();\n",
       "        }}\n",
       "}});\n",
       "\n",
       "// Listen for the removal of the full notebook cells\n",
       "var notebookContainer = gd.closest('#notebook-container');\n",
       "if (notebookContainer) {{\n",
       "    x.observe(notebookContainer, {childList: true});\n",
       "}}\n",
       "\n",
       "// Listen for the clearing of the current output cell\n",
       "var outputEl = gd.closest('.output');\n",
       "if (outputEl) {{\n",
       "    x.observe(outputEl, {childList: true});\n",
       "}}\n",
       "\n",
       "                        })                };                });            </script>        </div>"
      ]
     },
     "metadata": {},
     "output_type": "display_data"
    }
   ],
   "source": [
    "fig = make_subplots(rows=1, cols=1, \n",
    "                    shared_xaxes=True, \n",
    "                    vertical_spacing=0.1,\n",
    "                    subplot_titles=(\n",
    "                        # \"Interest Income, Total Revenue, and Net Income\",\n",
    "                                    # \"Interest Income to Total Revenue Ratio (%)\",\n",
    "                                    # \"Interest Income to Net Income Ratio (%)\"\n",
    "                                   )\n",
    "                   )\n",
    "\n",
    "\n",
    "fig.add_trace(go.Bar(x=[str(e) for e in dates], \n",
    "                     y=int_per_revenue, \n",
    "                     name='Interest Income to Total Revenue (%)',\n",
    "                          textposition='outside',  # Position text above the bars\n",
    "                     text=[f\"{np.round(val, 1)}%\" for val in int_per_revenue],  # Convert to percentage, round and add %,\n",
    "                     marker_color='#34495e'), row=1, col=1)\n",
    "fig.update_yaxes(title_text=\"%\", row=1, col=1)\n",
    "# Update layout and aesthetics\n",
    "fig.update_layout(height=500, width=1000, \n",
    "                  title_text=\"ABNB| Interest Income to Total Revenue Ratio (%)\", \n",
    "                  template=\"plotly_white\")\n",
    "fig.show()"
   ]
  },
  {
   "cell_type": "code",
   "execution_count": 196,
   "id": "a428a46d-7a76-4399-b897-0ff91af4d831",
   "metadata": {},
   "outputs": [
    {
     "data": {
      "application/vnd.plotly.v1+json": {
       "config": {
        "plotlyServerURL": "https://plot.ly"
       },
       "data": [
        {
         "marker": {
          "color": "#e67e22"
         },
         "name": "Interest Income to Net Income Ratio (%)",
         "text": [
          "-0.6%",
          "-3.7%",
          "9.8%",
          "15.0%",
          "15.7%"
         ],
         "textposition": "outside",
         "type": "bar",
         "x": [
          "2020-12-31",
          "2021-12-31",
          "2022-12-31",
          "2023-12-31",
          "2024-04-30"
         ],
         "xaxis": "x",
         "y": [
          -0.591465,
          -3.693182,
          9.826574,
          15.04591,
          15.73193
         ],
         "yaxis": "y"
        }
       ],
       "layout": {
        "height": 500,
        "template": {
         "data": {
          "bar": [
           {
            "error_x": {
             "color": "#2a3f5f"
            },
            "error_y": {
             "color": "#2a3f5f"
            },
            "marker": {
             "line": {
              "color": "white",
              "width": 0.5
             },
             "pattern": {
              "fillmode": "overlay",
              "size": 10,
              "solidity": 0.2
             }
            },
            "type": "bar"
           }
          ],
          "barpolar": [
           {
            "marker": {
             "line": {
              "color": "white",
              "width": 0.5
             },
             "pattern": {
              "fillmode": "overlay",
              "size": 10,
              "solidity": 0.2
             }
            },
            "type": "barpolar"
           }
          ],
          "carpet": [
           {
            "aaxis": {
             "endlinecolor": "#2a3f5f",
             "gridcolor": "#C8D4E3",
             "linecolor": "#C8D4E3",
             "minorgridcolor": "#C8D4E3",
             "startlinecolor": "#2a3f5f"
            },
            "baxis": {
             "endlinecolor": "#2a3f5f",
             "gridcolor": "#C8D4E3",
             "linecolor": "#C8D4E3",
             "minorgridcolor": "#C8D4E3",
             "startlinecolor": "#2a3f5f"
            },
            "type": "carpet"
           }
          ],
          "choropleth": [
           {
            "colorbar": {
             "outlinewidth": 0,
             "ticks": ""
            },
            "type": "choropleth"
           }
          ],
          "contour": [
           {
            "colorbar": {
             "outlinewidth": 0,
             "ticks": ""
            },
            "colorscale": [
             [
              0,
              "#0d0887"
             ],
             [
              0.1111111111111111,
              "#46039f"
             ],
             [
              0.2222222222222222,
              "#7201a8"
             ],
             [
              0.3333333333333333,
              "#9c179e"
             ],
             [
              0.4444444444444444,
              "#bd3786"
             ],
             [
              0.5555555555555556,
              "#d8576b"
             ],
             [
              0.6666666666666666,
              "#ed7953"
             ],
             [
              0.7777777777777778,
              "#fb9f3a"
             ],
             [
              0.8888888888888888,
              "#fdca26"
             ],
             [
              1,
              "#f0f921"
             ]
            ],
            "type": "contour"
           }
          ],
          "contourcarpet": [
           {
            "colorbar": {
             "outlinewidth": 0,
             "ticks": ""
            },
            "type": "contourcarpet"
           }
          ],
          "heatmap": [
           {
            "colorbar": {
             "outlinewidth": 0,
             "ticks": ""
            },
            "colorscale": [
             [
              0,
              "#0d0887"
             ],
             [
              0.1111111111111111,
              "#46039f"
             ],
             [
              0.2222222222222222,
              "#7201a8"
             ],
             [
              0.3333333333333333,
              "#9c179e"
             ],
             [
              0.4444444444444444,
              "#bd3786"
             ],
             [
              0.5555555555555556,
              "#d8576b"
             ],
             [
              0.6666666666666666,
              "#ed7953"
             ],
             [
              0.7777777777777778,
              "#fb9f3a"
             ],
             [
              0.8888888888888888,
              "#fdca26"
             ],
             [
              1,
              "#f0f921"
             ]
            ],
            "type": "heatmap"
           }
          ],
          "heatmapgl": [
           {
            "colorbar": {
             "outlinewidth": 0,
             "ticks": ""
            },
            "colorscale": [
             [
              0,
              "#0d0887"
             ],
             [
              0.1111111111111111,
              "#46039f"
             ],
             [
              0.2222222222222222,
              "#7201a8"
             ],
             [
              0.3333333333333333,
              "#9c179e"
             ],
             [
              0.4444444444444444,
              "#bd3786"
             ],
             [
              0.5555555555555556,
              "#d8576b"
             ],
             [
              0.6666666666666666,
              "#ed7953"
             ],
             [
              0.7777777777777778,
              "#fb9f3a"
             ],
             [
              0.8888888888888888,
              "#fdca26"
             ],
             [
              1,
              "#f0f921"
             ]
            ],
            "type": "heatmapgl"
           }
          ],
          "histogram": [
           {
            "marker": {
             "pattern": {
              "fillmode": "overlay",
              "size": 10,
              "solidity": 0.2
             }
            },
            "type": "histogram"
           }
          ],
          "histogram2d": [
           {
            "colorbar": {
             "outlinewidth": 0,
             "ticks": ""
            },
            "colorscale": [
             [
              0,
              "#0d0887"
             ],
             [
              0.1111111111111111,
              "#46039f"
             ],
             [
              0.2222222222222222,
              "#7201a8"
             ],
             [
              0.3333333333333333,
              "#9c179e"
             ],
             [
              0.4444444444444444,
              "#bd3786"
             ],
             [
              0.5555555555555556,
              "#d8576b"
             ],
             [
              0.6666666666666666,
              "#ed7953"
             ],
             [
              0.7777777777777778,
              "#fb9f3a"
             ],
             [
              0.8888888888888888,
              "#fdca26"
             ],
             [
              1,
              "#f0f921"
             ]
            ],
            "type": "histogram2d"
           }
          ],
          "histogram2dcontour": [
           {
            "colorbar": {
             "outlinewidth": 0,
             "ticks": ""
            },
            "colorscale": [
             [
              0,
              "#0d0887"
             ],
             [
              0.1111111111111111,
              "#46039f"
             ],
             [
              0.2222222222222222,
              "#7201a8"
             ],
             [
              0.3333333333333333,
              "#9c179e"
             ],
             [
              0.4444444444444444,
              "#bd3786"
             ],
             [
              0.5555555555555556,
              "#d8576b"
             ],
             [
              0.6666666666666666,
              "#ed7953"
             ],
             [
              0.7777777777777778,
              "#fb9f3a"
             ],
             [
              0.8888888888888888,
              "#fdca26"
             ],
             [
              1,
              "#f0f921"
             ]
            ],
            "type": "histogram2dcontour"
           }
          ],
          "mesh3d": [
           {
            "colorbar": {
             "outlinewidth": 0,
             "ticks": ""
            },
            "type": "mesh3d"
           }
          ],
          "parcoords": [
           {
            "line": {
             "colorbar": {
              "outlinewidth": 0,
              "ticks": ""
             }
            },
            "type": "parcoords"
           }
          ],
          "pie": [
           {
            "automargin": true,
            "type": "pie"
           }
          ],
          "scatter": [
           {
            "fillpattern": {
             "fillmode": "overlay",
             "size": 10,
             "solidity": 0.2
            },
            "type": "scatter"
           }
          ],
          "scatter3d": [
           {
            "line": {
             "colorbar": {
              "outlinewidth": 0,
              "ticks": ""
             }
            },
            "marker": {
             "colorbar": {
              "outlinewidth": 0,
              "ticks": ""
             }
            },
            "type": "scatter3d"
           }
          ],
          "scattercarpet": [
           {
            "marker": {
             "colorbar": {
              "outlinewidth": 0,
              "ticks": ""
             }
            },
            "type": "scattercarpet"
           }
          ],
          "scattergeo": [
           {
            "marker": {
             "colorbar": {
              "outlinewidth": 0,
              "ticks": ""
             }
            },
            "type": "scattergeo"
           }
          ],
          "scattergl": [
           {
            "marker": {
             "colorbar": {
              "outlinewidth": 0,
              "ticks": ""
             }
            },
            "type": "scattergl"
           }
          ],
          "scattermapbox": [
           {
            "marker": {
             "colorbar": {
              "outlinewidth": 0,
              "ticks": ""
             }
            },
            "type": "scattermapbox"
           }
          ],
          "scatterpolar": [
           {
            "marker": {
             "colorbar": {
              "outlinewidth": 0,
              "ticks": ""
             }
            },
            "type": "scatterpolar"
           }
          ],
          "scatterpolargl": [
           {
            "marker": {
             "colorbar": {
              "outlinewidth": 0,
              "ticks": ""
             }
            },
            "type": "scatterpolargl"
           }
          ],
          "scatterternary": [
           {
            "marker": {
             "colorbar": {
              "outlinewidth": 0,
              "ticks": ""
             }
            },
            "type": "scatterternary"
           }
          ],
          "surface": [
           {
            "colorbar": {
             "outlinewidth": 0,
             "ticks": ""
            },
            "colorscale": [
             [
              0,
              "#0d0887"
             ],
             [
              0.1111111111111111,
              "#46039f"
             ],
             [
              0.2222222222222222,
              "#7201a8"
             ],
             [
              0.3333333333333333,
              "#9c179e"
             ],
             [
              0.4444444444444444,
              "#bd3786"
             ],
             [
              0.5555555555555556,
              "#d8576b"
             ],
             [
              0.6666666666666666,
              "#ed7953"
             ],
             [
              0.7777777777777778,
              "#fb9f3a"
             ],
             [
              0.8888888888888888,
              "#fdca26"
             ],
             [
              1,
              "#f0f921"
             ]
            ],
            "type": "surface"
           }
          ],
          "table": [
           {
            "cells": {
             "fill": {
              "color": "#EBF0F8"
             },
             "line": {
              "color": "white"
             }
            },
            "header": {
             "fill": {
              "color": "#C8D4E3"
             },
             "line": {
              "color": "white"
             }
            },
            "type": "table"
           }
          ]
         },
         "layout": {
          "annotationdefaults": {
           "arrowcolor": "#2a3f5f",
           "arrowhead": 0,
           "arrowwidth": 1
          },
          "autotypenumbers": "strict",
          "coloraxis": {
           "colorbar": {
            "outlinewidth": 0,
            "ticks": ""
           }
          },
          "colorscale": {
           "diverging": [
            [
             0,
             "#8e0152"
            ],
            [
             0.1,
             "#c51b7d"
            ],
            [
             0.2,
             "#de77ae"
            ],
            [
             0.3,
             "#f1b6da"
            ],
            [
             0.4,
             "#fde0ef"
            ],
            [
             0.5,
             "#f7f7f7"
            ],
            [
             0.6,
             "#e6f5d0"
            ],
            [
             0.7,
             "#b8e186"
            ],
            [
             0.8,
             "#7fbc41"
            ],
            [
             0.9,
             "#4d9221"
            ],
            [
             1,
             "#276419"
            ]
           ],
           "sequential": [
            [
             0,
             "#0d0887"
            ],
            [
             0.1111111111111111,
             "#46039f"
            ],
            [
             0.2222222222222222,
             "#7201a8"
            ],
            [
             0.3333333333333333,
             "#9c179e"
            ],
            [
             0.4444444444444444,
             "#bd3786"
            ],
            [
             0.5555555555555556,
             "#d8576b"
            ],
            [
             0.6666666666666666,
             "#ed7953"
            ],
            [
             0.7777777777777778,
             "#fb9f3a"
            ],
            [
             0.8888888888888888,
             "#fdca26"
            ],
            [
             1,
             "#f0f921"
            ]
           ],
           "sequentialminus": [
            [
             0,
             "#0d0887"
            ],
            [
             0.1111111111111111,
             "#46039f"
            ],
            [
             0.2222222222222222,
             "#7201a8"
            ],
            [
             0.3333333333333333,
             "#9c179e"
            ],
            [
             0.4444444444444444,
             "#bd3786"
            ],
            [
             0.5555555555555556,
             "#d8576b"
            ],
            [
             0.6666666666666666,
             "#ed7953"
            ],
            [
             0.7777777777777778,
             "#fb9f3a"
            ],
            [
             0.8888888888888888,
             "#fdca26"
            ],
            [
             1,
             "#f0f921"
            ]
           ]
          },
          "colorway": [
           "#636efa",
           "#EF553B",
           "#00cc96",
           "#ab63fa",
           "#FFA15A",
           "#19d3f3",
           "#FF6692",
           "#B6E880",
           "#FF97FF",
           "#FECB52"
          ],
          "font": {
           "color": "#2a3f5f"
          },
          "geo": {
           "bgcolor": "white",
           "lakecolor": "white",
           "landcolor": "white",
           "showlakes": true,
           "showland": true,
           "subunitcolor": "#C8D4E3"
          },
          "hoverlabel": {
           "align": "left"
          },
          "hovermode": "closest",
          "mapbox": {
           "style": "light"
          },
          "paper_bgcolor": "white",
          "plot_bgcolor": "white",
          "polar": {
           "angularaxis": {
            "gridcolor": "#EBF0F8",
            "linecolor": "#EBF0F8",
            "ticks": ""
           },
           "bgcolor": "white",
           "radialaxis": {
            "gridcolor": "#EBF0F8",
            "linecolor": "#EBF0F8",
            "ticks": ""
           }
          },
          "scene": {
           "xaxis": {
            "backgroundcolor": "white",
            "gridcolor": "#DFE8F3",
            "gridwidth": 2,
            "linecolor": "#EBF0F8",
            "showbackground": true,
            "ticks": "",
            "zerolinecolor": "#EBF0F8"
           },
           "yaxis": {
            "backgroundcolor": "white",
            "gridcolor": "#DFE8F3",
            "gridwidth": 2,
            "linecolor": "#EBF0F8",
            "showbackground": true,
            "ticks": "",
            "zerolinecolor": "#EBF0F8"
           },
           "zaxis": {
            "backgroundcolor": "white",
            "gridcolor": "#DFE8F3",
            "gridwidth": 2,
            "linecolor": "#EBF0F8",
            "showbackground": true,
            "ticks": "",
            "zerolinecolor": "#EBF0F8"
           }
          },
          "shapedefaults": {
           "line": {
            "color": "#2a3f5f"
           }
          },
          "ternary": {
           "aaxis": {
            "gridcolor": "#DFE8F3",
            "linecolor": "#A2B1C6",
            "ticks": ""
           },
           "baxis": {
            "gridcolor": "#DFE8F3",
            "linecolor": "#A2B1C6",
            "ticks": ""
           },
           "bgcolor": "white",
           "caxis": {
            "gridcolor": "#DFE8F3",
            "linecolor": "#A2B1C6",
            "ticks": ""
           }
          },
          "title": {
           "x": 0.05
          },
          "xaxis": {
           "automargin": true,
           "gridcolor": "#EBF0F8",
           "linecolor": "#EBF0F8",
           "ticks": "",
           "title": {
            "standoff": 15
           },
           "zerolinecolor": "#EBF0F8",
           "zerolinewidth": 2
          },
          "yaxis": {
           "automargin": true,
           "gridcolor": "#EBF0F8",
           "linecolor": "#EBF0F8",
           "ticks": "",
           "title": {
            "standoff": 15
           },
           "zerolinecolor": "#EBF0F8",
           "zerolinewidth": 2
          }
         }
        },
        "title": {
         "text": "ABNB| Interest income to net income ratio (%)"
        },
        "width": 1000,
        "xaxis": {
         "anchor": "y",
         "autorange": true,
         "domain": [
          0,
          1
         ],
         "range": [
          "2020-10-31 12:00",
          "2024-06-29 12:00"
         ],
         "type": "date"
        },
        "yaxis": {
         "anchor": "x",
         "autorange": true,
         "domain": [
          0,
          1
         ],
         "range": [
          -4.772354888888889,
          16.81110288888889
         ],
         "title": {
          "text": "%"
         },
         "type": "linear"
        }
       }
      },
      "image/png": "[encoded data removed]",
      "text/html": [
       "<div>                            <div id=\"670bb045-07cf-4007-92ca-1f9d8ee63742\" class=\"plotly-graph-div\" style=\"height:500px; width:1000px;\"></div>            <script type=\"text/javascript\">                require([\"plotly\"], function(Plotly) {                    window.PLOTLYENV=window.PLOTLYENV || {};                                    if (document.getElementById(\"670bb045-07cf-4007-92ca-1f9d8ee63742\")) {                    Plotly.newPlot(                        \"670bb045-07cf-4007-92ca-1f9d8ee63742\",                        [{\"marker\":{\"color\":\"#e67e22\"},\"name\":\"Interest Income to Net Income Ratio (%)\",\"text\":[\"-0.6%\",\"-3.7%\",\"9.8%\",\"15.0%\",\"15.7%\"],\"textposition\":\"outside\",\"x\":[\"2020-12-31\",\"2021-12-31\",\"2022-12-31\",\"2023-12-31\",\"2024-04-30\"],\"y\":[-0.591465,-3.693182,9.826574,15.04591,15.73193],\"type\":\"bar\",\"xaxis\":\"x\",\"yaxis\":\"y\"}],                        {\"template\":{\"data\":{\"barpolar\":[{\"marker\":{\"line\":{\"color\":\"white\",\"width\":0.5},\"pattern\":{\"fillmode\":\"overlay\",\"size\":10,\"solidity\":0.2}},\"type\":\"barpolar\"}],\"bar\":[{\"error_x\":{\"color\":\"#2a3f5f\"},\"error_y\":{\"color\":\"#2a3f5f\"},\"marker\":{\"line\":{\"color\":\"white\",\"width\":0.5},\"pattern\":{\"fillmode\":\"overlay\",\"size\":10,\"solidity\":0.2}},\"type\":\"bar\"}],\"carpet\":[{\"aaxis\":{\"endlinecolor\":\"#2a3f5f\",\"gridcolor\":\"#C8D4E3\",\"linecolor\":\"#C8D4E3\",\"minorgridcolor\":\"#C8D4E3\",\"startlinecolor\":\"#2a3f5f\"},\"baxis\":{\"endlinecolor\":\"#2a3f5f\",\"gridcolor\":\"#C8D4E3\",\"linecolor\":\"#C8D4E3\",\"minorgridcolor\":\"#C8D4E3\",\"startlinecolor\":\"#2a3f5f\"},\"type\":\"carpet\"}],\"choropleth\":[{\"colorbar\":{\"outlinewidth\":0,\"ticks\":\"\"},\"type\":\"choropleth\"}],\"contourcarpet\":[{\"colorbar\":{\"outlinewidth\":0,\"ticks\":\"\"},\"type\":\"contourcarpet\"}],\"contour\":[{\"colorbar\":{\"outlinewidth\":0,\"ticks\":\"\"},\"colorscale\":[[0.0,\"#0d0887\"],[0.1111111111111111,\"#46039f\"],[0.2222222222222222,\"#7201a8\"],[0.3333333333333333,\"#9c179e\"],[0.4444444444444444,\"#bd3786\"],[0.5555555555555556,\"#d8576b\"],[0.6666666666666666,\"#ed7953\"],[0.7777777777777778,\"#fb9f3a\"],[0.8888888888888888,\"#fdca26\"],[1.0,\"#f0f921\"]],\"type\":\"contour\"}],\"heatmapgl\":[{\"colorbar\":{\"outlinewidth\":0,\"ticks\":\"\"},\"colorscale\":[[0.0,\"#0d0887\"],[0.1111111111111111,\"#46039f\"],[0.2222222222222222,\"#7201a8\"],[0.3333333333333333,\"#9c179e\"],[0.4444444444444444,\"#bd3786\"],[0.5555555555555556,\"#d8576b\"],[0.6666666666666666,\"#ed7953\"],[0.7777777777777778,\"#fb9f3a\"],[0.8888888888888888,\"#fdca26\"],[1.0,\"#f0f921\"]],\"type\":\"heatmapgl\"}],\"heatmap\":[{\"colorbar\":{\"outlinewidth\":0,\"ticks\":\"\"},\"colorscale\":[[0.0,\"#0d0887\"],[0.1111111111111111,\"#46039f\"],[0.2222222222222222,\"#7201a8\"],[0.3333333333333333,\"#9c179e\"],[0.4444444444444444,\"#bd3786\"],[0.5555555555555556,\"#d8576b\"],[0.6666666666666666,\"#ed7953\"],[0.7777777777777778,\"#fb9f3a\"],[0.8888888888888888,\"#fdca26\"],[1.0,\"#f0f921\"]],\"type\":\"heatmap\"}],\"histogram2dcontour\":[{\"colorbar\":{\"outlinewidth\":0,\"ticks\":\"\"},\"colorscale\":[[0.0,\"#0d0887\"],[0.1111111111111111,\"#46039f\"],[0.2222222222222222,\"#7201a8\"],[0.3333333333333333,\"#9c179e\"],[0.4444444444444444,\"#bd3786\"],[0.5555555555555556,\"#d8576b\"],[0.6666666666666666,\"#ed7953\"],[0.7777777777777778,\"#fb9f3a\"],[0.8888888888888888,\"#fdca26\"],[1.0,\"#f0f921\"]],\"type\":\"histogram2dcontour\"}],\"histogram2d\":[{\"colorbar\":{\"outlinewidth\":0,\"ticks\":\"\"},\"colorscale\":[[0.0,\"#0d0887\"],[0.1111111111111111,\"#46039f\"],[0.2222222222222222,\"#7201a8\"],[0.3333333333333333,\"#9c179e\"],[0.4444444444444444,\"#bd3786\"],[0.5555555555555556,\"#d8576b\"],[0.6666666666666666,\"#ed7953\"],[0.7777777777777778,\"#fb9f3a\"],[0.8888888888888888,\"#fdca26\"],[1.0,\"#f0f921\"]],\"type\":\"histogram2d\"}],\"histogram\":[{\"marker\":{\"pattern\":{\"fillmode\":\"overlay\",\"size\":10,\"solidity\":0.2}},\"type\":\"histogram\"}],\"mesh3d\":[{\"colorbar\":{\"outlinewidth\":0,\"ticks\":\"\"},\"type\":\"mesh3d\"}],\"parcoords\":[{\"line\":{\"colorbar\":{\"outlinewidth\":0,\"ticks\":\"\"}},\"type\":\"parcoords\"}],\"pie\":[{\"automargin\":true,\"type\":\"pie\"}],\"scatter3d\":[{\"line\":{\"colorbar\":{\"outlinewidth\":0,\"ticks\":\"\"}},\"marker\":{\"colorbar\":{\"outlinewidth\":0,\"ticks\":\"\"}},\"type\":\"scatter3d\"}],\"scattercarpet\":[{\"marker\":{\"colorbar\":{\"outlinewidth\":0,\"ticks\":\"\"}},\"type\":\"scattercarpet\"}],\"scattergeo\":[{\"marker\":{\"colorbar\":{\"outlinewidth\":0,\"ticks\":\"\"}},\"type\":\"scattergeo\"}],\"scattergl\":[{\"marker\":{\"colorbar\":{\"outlinewidth\":0,\"ticks\":\"\"}},\"type\":\"scattergl\"}],\"scattermapbox\":[{\"marker\":{\"colorbar\":{\"outlinewidth\":0,\"ticks\":\"\"}},\"type\":\"scattermapbox\"}],\"scatterpolargl\":[{\"marker\":{\"colorbar\":{\"outlinewidth\":0,\"ticks\":\"\"}},\"type\":\"scatterpolargl\"}],\"scatterpolar\":[{\"marker\":{\"colorbar\":{\"outlinewidth\":0,\"ticks\":\"\"}},\"type\":\"scatterpolar\"}],\"scatter\":[{\"fillpattern\":{\"fillmode\":\"overlay\",\"size\":10,\"solidity\":0.2},\"type\":\"scatter\"}],\"scatterternary\":[{\"marker\":{\"colorbar\":{\"outlinewidth\":0,\"ticks\":\"\"}},\"type\":\"scatterternary\"}],\"surface\":[{\"colorbar\":{\"outlinewidth\":0,\"ticks\":\"\"},\"colorscale\":[[0.0,\"#0d0887\"],[0.1111111111111111,\"#46039f\"],[0.2222222222222222,\"#7201a8\"],[0.3333333333333333,\"#9c179e\"],[0.4444444444444444,\"#bd3786\"],[0.5555555555555556,\"#d8576b\"],[0.6666666666666666,\"#ed7953\"],[0.7777777777777778,\"#fb9f3a\"],[0.8888888888888888,\"#fdca26\"],[1.0,\"#f0f921\"]],\"type\":\"surface\"}],\"table\":[{\"cells\":{\"fill\":{\"color\":\"#EBF0F8\"},\"line\":{\"color\":\"white\"}},\"header\":{\"fill\":{\"color\":\"#C8D4E3\"},\"line\":{\"color\":\"white\"}},\"type\":\"table\"}]},\"layout\":{\"annotationdefaults\":{\"arrowcolor\":\"#2a3f5f\",\"arrowhead\":0,\"arrowwidth\":1},\"autotypenumbers\":\"strict\",\"coloraxis\":{\"colorbar\":{\"outlinewidth\":0,\"ticks\":\"\"}},\"colorscale\":{\"diverging\":[[0,\"#8e0152\"],[0.1,\"#c51b7d\"],[0.2,\"#de77ae\"],[0.3,\"#f1b6da\"],[0.4,\"#fde0ef\"],[0.5,\"#f7f7f7\"],[0.6,\"#e6f5d0\"],[0.7,\"#b8e186\"],[0.8,\"#7fbc41\"],[0.9,\"#4d9221\"],[1,\"#276419\"]],\"sequential\":[[0.0,\"#0d0887\"],[0.1111111111111111,\"#46039f\"],[0.2222222222222222,\"#7201a8\"],[0.3333333333333333,\"#9c179e\"],[0.4444444444444444,\"#bd3786\"],[0.5555555555555556,\"#d8576b\"],[0.6666666666666666,\"#ed7953\"],[0.7777777777777778,\"#fb9f3a\"],[0.8888888888888888,\"#fdca26\"],[1.0,\"#f0f921\"]],\"sequentialminus\":[[0.0,\"#0d0887\"],[0.1111111111111111,\"#46039f\"],[0.2222222222222222,\"#7201a8\"],[0.3333333333333333,\"#9c179e\"],[0.4444444444444444,\"#bd3786\"],[0.5555555555555556,\"#d8576b\"],[0.6666666666666666,\"#ed7953\"],[0.7777777777777778,\"#fb9f3a\"],[0.8888888888888888,\"#fdca26\"],[1.0,\"#f0f921\"]]},\"colorway\":[\"#636efa\",\"#EF553B\",\"#00cc96\",\"#ab63fa\",\"#FFA15A\",\"#19d3f3\",\"#FF6692\",\"#B6E880\",\"#FF97FF\",\"#FECB52\"],\"font\":{\"color\":\"#2a3f5f\"},\"geo\":{\"bgcolor\":\"white\",\"lakecolor\":\"white\",\"landcolor\":\"white\",\"showlakes\":true,\"showland\":true,\"subunitcolor\":\"#C8D4E3\"},\"hoverlabel\":{\"align\":\"left\"},\"hovermode\":\"closest\",\"mapbox\":{\"style\":\"light\"},\"paper_bgcolor\":\"white\",\"plot_bgcolor\":\"white\",\"polar\":{\"angularaxis\":{\"gridcolor\":\"#EBF0F8\",\"linecolor\":\"#EBF0F8\",\"ticks\":\"\"},\"bgcolor\":\"white\",\"radialaxis\":{\"gridcolor\":\"#EBF0F8\",\"linecolor\":\"#EBF0F8\",\"ticks\":\"\"}},\"scene\":{\"xaxis\":{\"backgroundcolor\":\"white\",\"gridcolor\":\"#DFE8F3\",\"gridwidth\":2,\"linecolor\":\"#EBF0F8\",\"showbackground\":true,\"ticks\":\"\",\"zerolinecolor\":\"#EBF0F8\"},\"yaxis\":{\"backgroundcolor\":\"white\",\"gridcolor\":\"#DFE8F3\",\"gridwidth\":2,\"linecolor\":\"#EBF0F8\",\"showbackground\":true,\"ticks\":\"\",\"zerolinecolor\":\"#EBF0F8\"},\"zaxis\":{\"backgroundcolor\":\"white\",\"gridcolor\":\"#DFE8F3\",\"gridwidth\":2,\"linecolor\":\"#EBF0F8\",\"showbackground\":true,\"ticks\":\"\",\"zerolinecolor\":\"#EBF0F8\"}},\"shapedefaults\":{\"line\":{\"color\":\"#2a3f5f\"}},\"ternary\":{\"aaxis\":{\"gridcolor\":\"#DFE8F3\",\"linecolor\":\"#A2B1C6\",\"ticks\":\"\"},\"baxis\":{\"gridcolor\":\"#DFE8F3\",\"linecolor\":\"#A2B1C6\",\"ticks\":\"\"},\"bgcolor\":\"white\",\"caxis\":{\"gridcolor\":\"#DFE8F3\",\"linecolor\":\"#A2B1C6\",\"ticks\":\"\"}},\"title\":{\"x\":0.05},\"xaxis\":{\"automargin\":true,\"gridcolor\":\"#EBF0F8\",\"linecolor\":\"#EBF0F8\",\"ticks\":\"\",\"title\":{\"standoff\":15},\"zerolinecolor\":\"#EBF0F8\",\"zerolinewidth\":2},\"yaxis\":{\"automargin\":true,\"gridcolor\":\"#EBF0F8\",\"linecolor\":\"#EBF0F8\",\"ticks\":\"\",\"title\":{\"standoff\":15},\"zerolinecolor\":\"#EBF0F8\",\"zerolinewidth\":2}}},\"xaxis\":{\"anchor\":\"y\",\"domain\":[0.0,1.0]},\"yaxis\":{\"anchor\":\"x\",\"domain\":[0.0,1.0],\"title\":{\"text\":\"%\"}},\"title\":{\"text\":\"ABNB| Interest income to net income ratio (%)\"},\"height\":500,\"width\":1000},                        {\"responsive\": true}                    ).then(function(){\n",
       "                            \n",
       "var gd = document.getElementById('670bb045-07cf-4007-92ca-1f9d8ee63742');\n",
       "var x = new MutationObserver(function (mutations, observer) {{\n",
       "        var display = window.getComputedStyle(gd).display;\n",
       "        if (!display || display === 'none') {{\n",
       "            console.log([gd, 'removed!']);\n",
       "            Plotly.purge(gd);\n",
       "            observer.disconnect();\n",
       "        }}\n",
       "}});\n",
       "\n",
       "// Listen for the removal of the full notebook cells\n",
       "var notebookContainer = gd.closest('#notebook-container');\n",
       "if (notebookContainer) {{\n",
       "    x.observe(notebookContainer, {childList: true});\n",
       "}}\n",
       "\n",
       "// Listen for the clearing of the current output cell\n",
       "var outputEl = gd.closest('.output');\n",
       "if (outputEl) {{\n",
       "    x.observe(outputEl, {childList: true});\n",
       "}}\n",
       "\n",
       "                        })                };                });            </script>        </div>"
      ]
     },
     "metadata": {},
     "output_type": "display_data"
    }
   ],
   "source": [
    "fig = make_subplots(rows=1, cols=1, \n",
    "                    shared_xaxes=True, \n",
    "                    vertical_spacing=0.1,\n",
    "                    subplot_titles=(\n",
    "                        # \"Interest Income, Total Revenue, and Net Income\",\n",
    "                                    # \"Interest Income to Total Revenue Ratio (%)\",\n",
    "                                    # \"Interest Income to Net Income Ratio (%)\"\n",
    "                                   )\n",
    "                   )\n",
    "\n",
    "\n",
    "fig.add_trace(go.Bar(x=[str(e) for e in dates], \n",
    "                     y=interest_income_per_net_income, \n",
    "                     name='Interest Income to Net Income Ratio (%)',\n",
    "                          textposition='outside', \n",
    "                     text=[f\"{np.round(val, 1)}%\" for val in interest_income_per_net_income],  \n",
    "                     marker_color='#e67e22'), row=1, col=1)\n",
    "fig.update_yaxes(title_text=\"%\", row=1, col=1)\n",
    "# Update layout and aesthetics\n",
    "fig.update_layout(height=500, width=1000, \n",
    "                  title_text=\"ABNB| Interest income to net income ratio (%)\", \n",
    "                  template=\"plotly_white\")\n",
    "fig.show()"
   ]
  },
  {
   "cell_type": "code",
   "execution_count": 174,
   "id": "96af0d4f-1dc0-4709-900e-43a5372874d0",
   "metadata": {},
   "outputs": [
    {
     "data": {
      "application/vnd.plotly.v1+json": {
       "config": {
        "plotlyServerURL": "https://plot.ly"
       },
       "data": [
        {
         "mode": "lines+markers",
         "name": "Interest Income",
         "type": "scatter",
         "x": [
          "2020-12-31",
          "2021-12-31",
          "2022-12-31",
          "2023-12-31",
          "2024-04-30"
         ],
         "xaxis": "x",
         "y": [
          27117000,
          13000000,
          186000000,
          721000000,
          777000000
         ],
         "yaxis": "y"
        },
        {
         "mode": "lines+markers",
         "name": "Total Revenue",
         "type": "scatter",
         "x": [
          "2020-12-31",
          "2021-12-31",
          "2022-12-31",
          "2023-12-31",
          "2024-04-30"
         ],
         "xaxis": "x",
         "y": [
          3378199000,
          5992000000,
          8399000000,
          9917000000,
          10241000000
         ],
         "yaxis": "y"
        },
        {
         "mode": "lines+markers",
         "name": "Net Income",
         "type": "scatter",
         "x": [
          "2020-12-31",
          "2021-12-31",
          "2022-12-31",
          "2023-12-31",
          "2024-04-30"
         ],
         "xaxis": "x",
         "y": [
          -458471600,
          -352000000,
          1893000000,
          4792000000,
          4939000000
         ],
         "yaxis": "y"
        },
        {
         "marker": {
          "color": "royalblue"
         },
         "name": "Interest Income to Total Revenue (%)",
         "type": "bar",
         "x": [
          "2020-12-31",
          "2021-12-31",
          "2022-12-31",
          "2023-12-31",
          "2024-04-30"
         ],
         "xaxis": "x2",
         "y": [
          0.8207,
          0.21696,
          2.214549,
          7.270344,
          7.58715
         ],
         "yaxis": "y2"
        },
        {
         "marker": {
          "color": "limegreen"
         },
         "name": "Interest Income to Net Income (%)",
         "type": "bar",
         "x": [
          "2020-12-31",
          "2021-12-31",
          "2022-12-31",
          "2023-12-31",
          "2024-04-30"
         ],
         "xaxis": "x3",
         "y": [
          -0.591465,
          -3.693182,
          9.826574,
          15.04591,
          15.73193
         ],
         "yaxis": "y3"
        }
       ],
       "layout": {
        "annotations": [
         {
          "font": {
           "size": 16
          },
          "showarrow": false,
          "text": "Interest Income, Total Revenue, and Net Income",
          "x": 0.5,
          "xanchor": "center",
          "xref": "paper",
          "y": 1,
          "yanchor": "bottom",
          "yref": "paper"
         },
         {
          "font": {
           "size": 16
          },
          "showarrow": false,
          "text": "Interest Income to Total Revenue Ratio (%)",
          "x": 0.5,
          "xanchor": "center",
          "xref": "paper",
          "y": 0.6333333333333333,
          "yanchor": "bottom",
          "yref": "paper"
         },
         {
          "font": {
           "size": 16
          },
          "showarrow": false,
          "text": "Interest Income to Net Income Ratio (%)",
          "x": 0.5,
          "xanchor": "center",
          "xref": "paper",
          "y": 0.26666666666666666,
          "yanchor": "bottom",
          "yref": "paper"
         }
        ],
        "height": 900,
        "template": {
         "data": {
          "bar": [
           {
            "error_x": {
             "color": "#2a3f5f"
            },
            "error_y": {
             "color": "#2a3f5f"
            },
            "marker": {
             "line": {
              "color": "white",
              "width": 0.5
             },
             "pattern": {
              "fillmode": "overlay",
              "size": 10,
              "solidity": 0.2
             }
            },
            "type": "bar"
           }
          ],
          "barpolar": [
           {
            "marker": {
             "line": {
              "color": "white",
              "width": 0.5
             },
             "pattern": {
              "fillmode": "overlay",
              "size": 10,
              "solidity": 0.2
             }
            },
            "type": "barpolar"
           }
          ],
          "carpet": [
           {
            "aaxis": {
             "endlinecolor": "#2a3f5f",
             "gridcolor": "#C8D4E3",
             "linecolor": "#C8D4E3",
             "minorgridcolor": "#C8D4E3",
             "startlinecolor": "#2a3f5f"
            },
            "baxis": {
             "endlinecolor": "#2a3f5f",
             "gridcolor": "#C8D4E3",
             "linecolor": "#C8D4E3",
             "minorgridcolor": "#C8D4E3",
             "startlinecolor": "#2a3f5f"
            },
            "type": "carpet"
           }
          ],
          "choropleth": [
           {
            "colorbar": {
             "outlinewidth": 0,
             "ticks": ""
            },
            "type": "choropleth"
           }
          ],
          "contour": [
           {
            "colorbar": {
             "outlinewidth": 0,
             "ticks": ""
            },
            "colorscale": [
             [
              0,
              "#0d0887"
             ],
             [
              0.1111111111111111,
              "#46039f"
             ],
             [
              0.2222222222222222,
              "#7201a8"
             ],
             [
              0.3333333333333333,
              "#9c179e"
             ],
             [
              0.4444444444444444,
              "#bd3786"
             ],
             [
              0.5555555555555556,
              "#d8576b"
             ],
             [
              0.6666666666666666,
              "#ed7953"
             ],
             [
              0.7777777777777778,
              "#fb9f3a"
             ],
             [
              0.8888888888888888,
              "#fdca26"
             ],
             [
              1,
              "#f0f921"
             ]
            ],
            "type": "contour"
           }
          ],
          "contourcarpet": [
           {
            "colorbar": {
             "outlinewidth": 0,
             "ticks": ""
            },
            "type": "contourcarpet"
           }
          ],
          "heatmap": [
           {
            "colorbar": {
             "outlinewidth": 0,
             "ticks": ""
            },
            "colorscale": [
             [
              0,
              "#0d0887"
             ],
             [
              0.1111111111111111,
              "#46039f"
             ],
             [
              0.2222222222222222,
              "#7201a8"
             ],
             [
              0.3333333333333333,
              "#9c179e"
             ],
             [
              0.4444444444444444,
              "#bd3786"
             ],
             [
              0.5555555555555556,
              "#d8576b"
             ],
             [
              0.6666666666666666,
              "#ed7953"
             ],
             [
              0.7777777777777778,
              "#fb9f3a"
             ],
             [
              0.8888888888888888,
              "#fdca26"
             ],
             [
              1,
              "#f0f921"
             ]
            ],
            "type": "heatmap"
           }
          ],
          "heatmapgl": [
           {
            "colorbar": {
             "outlinewidth": 0,
             "ticks": ""
            },
            "colorscale": [
             [
              0,
              "#0d0887"
             ],
             [
              0.1111111111111111,
              "#46039f"
             ],
             [
              0.2222222222222222,
              "#7201a8"
             ],
             [
              0.3333333333333333,
              "#9c179e"
             ],
             [
              0.4444444444444444,
              "#bd3786"
             ],
             [
              0.5555555555555556,
              "#d8576b"
             ],
             [
              0.6666666666666666,
              "#ed7953"
             ],
             [
              0.7777777777777778,
              "#fb9f3a"
             ],
             [
              0.8888888888888888,
              "#fdca26"
             ],
             [
              1,
              "#f0f921"
             ]
            ],
            "type": "heatmapgl"
           }
          ],
          "histogram": [
           {
            "marker": {
             "pattern": {
              "fillmode": "overlay",
              "size": 10,
              "solidity": 0.2
             }
            },
            "type": "histogram"
           }
          ],
          "histogram2d": [
           {
            "colorbar": {
             "outlinewidth": 0,
             "ticks": ""
            },
            "colorscale": [
             [
              0,
              "#0d0887"
             ],
             [
              0.1111111111111111,
              "#46039f"
             ],
             [
              0.2222222222222222,
              "#7201a8"
             ],
             [
              0.3333333333333333,
              "#9c179e"
             ],
             [
              0.4444444444444444,
              "#bd3786"
             ],
             [
              0.5555555555555556,
              "#d8576b"
             ],
             [
              0.6666666666666666,
              "#ed7953"
             ],
             [
              0.7777777777777778,
              "#fb9f3a"
             ],
             [
              0.8888888888888888,
              "#fdca26"
             ],
             [
              1,
              "#f0f921"
             ]
            ],
            "type": "histogram2d"
           }
          ],
          "histogram2dcontour": [
           {
            "colorbar": {
             "outlinewidth": 0,
             "ticks": ""
            },
            "colorscale": [
             [
              0,
              "#0d0887"
             ],
             [
              0.1111111111111111,
              "#46039f"
             ],
             [
              0.2222222222222222,
              "#7201a8"
             ],
             [
              0.3333333333333333,
              "#9c179e"
             ],
             [
              0.4444444444444444,
              "#bd3786"
             ],
             [
              0.5555555555555556,
              "#d8576b"
             ],
             [
              0.6666666666666666,
              "#ed7953"
             ],
             [
              0.7777777777777778,
              "#fb9f3a"
             ],
             [
              0.8888888888888888,
              "#fdca26"
             ],
             [
              1,
              "#f0f921"
             ]
            ],
            "type": "histogram2dcontour"
           }
          ],
          "mesh3d": [
           {
            "colorbar": {
             "outlinewidth": 0,
             "ticks": ""
            },
            "type": "mesh3d"
           }
          ],
          "parcoords": [
           {
            "line": {
             "colorbar": {
              "outlinewidth": 0,
              "ticks": ""
             }
            },
            "type": "parcoords"
           }
          ],
          "pie": [
           {
            "automargin": true,
            "type": "pie"
           }
          ],
          "scatter": [
           {
            "fillpattern": {
             "fillmode": "overlay",
             "size": 10,
             "solidity": 0.2
            },
            "type": "scatter"
           }
          ],
          "scatter3d": [
           {
            "line": {
             "colorbar": {
              "outlinewidth": 0,
              "ticks": ""
             }
            },
            "marker": {
             "colorbar": {
              "outlinewidth": 0,
              "ticks": ""
             }
            },
            "type": "scatter3d"
           }
          ],
          "scattercarpet": [
           {
            "marker": {
             "colorbar": {
              "outlinewidth": 0,
              "ticks": ""
             }
            },
            "type": "scattercarpet"
           }
          ],
          "scattergeo": [
           {
            "marker": {
             "colorbar": {
              "outlinewidth": 0,
              "ticks": ""
             }
            },
            "type": "scattergeo"
           }
          ],
          "scattergl": [
           {
            "marker": {
             "colorbar": {
              "outlinewidth": 0,
              "ticks": ""
             }
            },
            "type": "scattergl"
           }
          ],
          "scattermapbox": [
           {
            "marker": {
             "colorbar": {
              "outlinewidth": 0,
              "ticks": ""
             }
            },
            "type": "scattermapbox"
           }
          ],
          "scatterpolar": [
           {
            "marker": {
             "colorbar": {
              "outlinewidth": 0,
              "ticks": ""
             }
            },
            "type": "scatterpolar"
           }
          ],
          "scatterpolargl": [
           {
            "marker": {
             "colorbar": {
              "outlinewidth": 0,
              "ticks": ""
             }
            },
            "type": "scatterpolargl"
           }
          ],
          "scatterternary": [
           {
            "marker": {
             "colorbar": {
              "outlinewidth": 0,
              "ticks": ""
             }
            },
            "type": "scatterternary"
           }
          ],
          "surface": [
           {
            "colorbar": {
             "outlinewidth": 0,
             "ticks": ""
            },
            "colorscale": [
             [
              0,
              "#0d0887"
             ],
             [
              0.1111111111111111,
              "#46039f"
             ],
             [
              0.2222222222222222,
              "#7201a8"
             ],
             [
              0.3333333333333333,
              "#9c179e"
             ],
             [
              0.4444444444444444,
              "#bd3786"
             ],
             [
              0.5555555555555556,
              "#d8576b"
             ],
             [
              0.6666666666666666,
              "#ed7953"
             ],
             [
              0.7777777777777778,
              "#fb9f3a"
             ],
             [
              0.8888888888888888,
              "#fdca26"
             ],
             [
              1,
              "#f0f921"
             ]
            ],
            "type": "surface"
           }
          ],
          "table": [
           {
            "cells": {
             "fill": {
              "color": "#EBF0F8"
             },
             "line": {
              "color": "white"
             }
            },
            "header": {
             "fill": {
              "color": "#C8D4E3"
             },
             "line": {
              "color": "white"
             }
            },
            "type": "table"
           }
          ]
         },
         "layout": {
          "annotationdefaults": {
           "arrowcolor": "#2a3f5f",
           "arrowhead": 0,
           "arrowwidth": 1
          },
          "autotypenumbers": "strict",
          "coloraxis": {
           "colorbar": {
            "outlinewidth": 0,
            "ticks": ""
           }
          },
          "colorscale": {
           "diverging": [
            [
             0,
             "#8e0152"
            ],
            [
             0.1,
             "#c51b7d"
            ],
            [
             0.2,
             "#de77ae"
            ],
            [
             0.3,
             "#f1b6da"
            ],
            [
             0.4,
             "#fde0ef"
            ],
            [
             0.5,
             "#f7f7f7"
            ],
            [
             0.6,
             "#e6f5d0"
            ],
            [
             0.7,
             "#b8e186"
            ],
            [
             0.8,
             "#7fbc41"
            ],
            [
             0.9,
             "#4d9221"
            ],
            [
             1,
             "#276419"
            ]
           ],
           "sequential": [
            [
             0,
             "#0d0887"
            ],
            [
             0.1111111111111111,
             "#46039f"
            ],
            [
             0.2222222222222222,
             "#7201a8"
            ],
            [
             0.3333333333333333,
             "#9c179e"
            ],
            [
             0.4444444444444444,
             "#bd3786"
            ],
            [
             0.5555555555555556,
             "#d8576b"
            ],
            [
             0.6666666666666666,
             "#ed7953"
            ],
            [
             0.7777777777777778,
             "#fb9f3a"
            ],
            [
             0.8888888888888888,
             "#fdca26"
            ],
            [
             1,
             "#f0f921"
            ]
           ],
           "sequentialminus": [
            [
             0,
             "#0d0887"
            ],
            [
             0.1111111111111111,
             "#46039f"
            ],
            [
             0.2222222222222222,
             "#7201a8"
            ],
            [
             0.3333333333333333,
             "#9c179e"
            ],
            [
             0.4444444444444444,
             "#bd3786"
            ],
            [
             0.5555555555555556,
             "#d8576b"
            ],
            [
             0.6666666666666666,
             "#ed7953"
            ],
            [
             0.7777777777777778,
             "#fb9f3a"
            ],
            [
             0.8888888888888888,
             "#fdca26"
            ],
            [
             1,
             "#f0f921"
            ]
           ]
          },
          "colorway": [
           "#636efa",
           "#EF553B",
           "#00cc96",
           "#ab63fa",
           "#FFA15A",
           "#19d3f3",
           "#FF6692",
           "#B6E880",
           "#FF97FF",
           "#FECB52"
          ],
          "font": {
           "color": "#2a3f5f"
          },
          "geo": {
           "bgcolor": "white",
           "lakecolor": "white",
           "landcolor": "white",
           "showlakes": true,
           "showland": true,
           "subunitcolor": "#C8D4E3"
          },
          "hoverlabel": {
           "align": "left"
          },
          "hovermode": "closest",
          "mapbox": {
           "style": "light"
          },
          "paper_bgcolor": "white",
          "plot_bgcolor": "white",
          "polar": {
           "angularaxis": {
            "gridcolor": "#EBF0F8",
            "linecolor": "#EBF0F8",
            "ticks": ""
           },
           "bgcolor": "white",
           "radialaxis": {
            "gridcolor": "#EBF0F8",
            "linecolor": "#EBF0F8",
            "ticks": ""
           }
          },
          "scene": {
           "xaxis": {
            "backgroundcolor": "white",
            "gridcolor": "#DFE8F3",
            "gridwidth": 2,
            "linecolor": "#EBF0F8",
            "showbackground": true,
            "ticks": "",
            "zerolinecolor": "#EBF0F8"
           },
           "yaxis": {
            "backgroundcolor": "white",
            "gridcolor": "#DFE8F3",
            "gridwidth": 2,
            "linecolor": "#EBF0F8",
            "showbackground": true,
            "ticks": "",
            "zerolinecolor": "#EBF0F8"
           },
           "zaxis": {
            "backgroundcolor": "white",
            "gridcolor": "#DFE8F3",
            "gridwidth": 2,
            "linecolor": "#EBF0F8",
            "showbackground": true,
            "ticks": "",
            "zerolinecolor": "#EBF0F8"
           }
          },
          "shapedefaults": {
           "line": {
            "color": "#2a3f5f"
           }
          },
          "ternary": {
           "aaxis": {
            "gridcolor": "#DFE8F3",
            "linecolor": "#A2B1C6",
            "ticks": ""
           },
           "baxis": {
            "gridcolor": "#DFE8F3",
            "linecolor": "#A2B1C6",
            "ticks": ""
           },
           "bgcolor": "white",
           "caxis": {
            "gridcolor": "#DFE8F3",
            "linecolor": "#A2B1C6",
            "ticks": ""
           }
          },
          "title": {
           "x": 0.05
          },
          "xaxis": {
           "automargin": true,
           "gridcolor": "#EBF0F8",
           "linecolor": "#EBF0F8",
           "ticks": "",
           "title": {
            "standoff": 15
           },
           "zerolinecolor": "#EBF0F8",
           "zerolinewidth": 2
          },
          "yaxis": {
           "automargin": true,
           "gridcolor": "#EBF0F8",
           "linecolor": "#EBF0F8",
           "ticks": "",
           "title": {
            "standoff": 15
           },
           "zerolinecolor": "#EBF0F8",
           "zerolinewidth": 2
          }
         }
        },
        "title": {
         "text": "Airbnb Financial Analysis Over Time"
        },
        "width": 1000,
        "xaxis": {
         "anchor": "y",
         "autorange": true,
         "domain": [
          0,
          1
         ],
         "matches": "x3",
         "range": [
          "2020-10-15 06:08:13.58",
          "2024-07-15 17:51:46.42"
         ],
         "showticklabels": false,
         "type": "date"
        },
        "xaxis2": {
         "anchor": "y2",
         "autorange": true,
         "domain": [
          0,
          1
         ],
         "matches": "x3",
         "range": [
          "2020-10-15 06:08:13.58",
          "2024-07-15 17:51:46.42"
         ],
         "showticklabels": false,
         "type": "date"
        },
        "xaxis3": {
         "anchor": "y3",
         "autorange": true,
         "domain": [
          0,
          1
         ],
         "range": [
          "2020-10-15 06:08:13.58",
          "2024-07-15 17:51:46.42"
         ],
         "type": "date"
        },
        "yaxis": {
         "anchor": "x",
         "autorange": true,
         "domain": [
          0.7333333333333334,
          1
         ],
         "range": [
          -1322585005.0816698,
          11105113405.081669
         ],
         "title": {
          "text": "USD"
         },
         "type": "linear"
        },
        "yaxis2": {
         "anchor": "x2",
         "autorange": true,
         "domain": [
          0.3666666666666667,
          0.6333333333333333
         ],
         "range": [
          0,
          7.986473684210527
         ],
         "title": {
          "text": "%"
         },
         "type": "linear"
        },
        "yaxis3": {
         "anchor": "x3",
         "autorange": true,
         "domain": [
          0,
          0.26666666666666666
         ],
         "range": [
          -4.77235488888889,
          16.81110288888889
         ],
         "title": {
          "text": "%"
         },
         "type": "linear"
        }
       }
      },
      "image/png": "[encoded data removed]",
      "text/html": [
       "<div>                            <div id=\"00739f1c-ad25-4986-8b1e-3c89856721a4\" class=\"plotly-graph-div\" style=\"height:900px; width:1000px;\"></div>            <script type=\"text/javascript\">                require([\"plotly\"], function(Plotly) {                    window.PLOTLYENV=window.PLOTLYENV || {};                                    if (document.getElementById(\"00739f1c-ad25-4986-8b1e-3c89856721a4\")) {                    Plotly.newPlot(                        \"00739f1c-ad25-4986-8b1e-3c89856721a4\",                        [{\"mode\":\"lines+markers\",\"name\":\"Interest Income\",\"x\":[\"2020-12-31\",\"2021-12-31\",\"2022-12-31\",\"2023-12-31\",\"2024-04-30\"],\"y\":[27117000.0,13000000.0,186000000.0,721000000.0,777000000.0],\"type\":\"scatter\",\"xaxis\":\"x\",\"yaxis\":\"y\"},{\"mode\":\"lines+markers\",\"name\":\"Total Revenue\",\"x\":[\"2020-12-31\",\"2021-12-31\",\"2022-12-31\",\"2023-12-31\",\"2024-04-30\"],\"y\":[3378199000.0,5992000000.0,8399000000.0,9917000000.0,10241000000.0],\"type\":\"scatter\",\"xaxis\":\"x\",\"yaxis\":\"y\"},{\"mode\":\"lines+markers\",\"name\":\"Net Income\",\"x\":[\"2020-12-31\",\"2021-12-31\",\"2022-12-31\",\"2023-12-31\",\"2024-04-30\"],\"y\":[-458471600.0,-352000000.0,1893000000.0,4792000000.0,4939000000.0],\"type\":\"scatter\",\"xaxis\":\"x\",\"yaxis\":\"y\"},{\"marker\":{\"color\":\"royalblue\"},\"name\":\"Interest Income to Total Revenue (%)\",\"x\":[\"2020-12-31\",\"2021-12-31\",\"2022-12-31\",\"2023-12-31\",\"2024-04-30\"],\"y\":[0.8207,0.21696,2.214549,7.270344,7.58715],\"type\":\"bar\",\"xaxis\":\"x2\",\"yaxis\":\"y2\"},{\"marker\":{\"color\":\"limegreen\"},\"name\":\"Interest Income to Net Income (%)\",\"x\":[\"2020-12-31\",\"2021-12-31\",\"2022-12-31\",\"2023-12-31\",\"2024-04-30\"],\"y\":[-0.591465,-3.693182,9.826574,15.04591,15.73193],\"type\":\"bar\",\"xaxis\":\"x3\",\"yaxis\":\"y3\"}],                        {\"template\":{\"data\":{\"barpolar\":[{\"marker\":{\"line\":{\"color\":\"white\",\"width\":0.5},\"pattern\":{\"fillmode\":\"overlay\",\"size\":10,\"solidity\":0.2}},\"type\":\"barpolar\"}],\"bar\":[{\"error_x\":{\"color\":\"#2a3f5f\"},\"error_y\":{\"color\":\"#2a3f5f\"},\"marker\":{\"line\":{\"color\":\"white\",\"width\":0.5},\"pattern\":{\"fillmode\":\"overlay\",\"size\":10,\"solidity\":0.2}},\"type\":\"bar\"}],\"carpet\":[{\"aaxis\":{\"endlinecolor\":\"#2a3f5f\",\"gridcolor\":\"#C8D4E3\",\"linecolor\":\"#C8D4E3\",\"minorgridcolor\":\"#C8D4E3\",\"startlinecolor\":\"#2a3f5f\"},\"baxis\":{\"endlinecolor\":\"#2a3f5f\",\"gridcolor\":\"#C8D4E3\",\"linecolor\":\"#C8D4E3\",\"minorgridcolor\":\"#C8D4E3\",\"startlinecolor\":\"#2a3f5f\"},\"type\":\"carpet\"}],\"choropleth\":[{\"colorbar\":{\"outlinewidth\":0,\"ticks\":\"\"},\"type\":\"choropleth\"}],\"contourcarpet\":[{\"colorbar\":{\"outlinewidth\":0,\"ticks\":\"\"},\"type\":\"contourcarpet\"}],\"contour\":[{\"colorbar\":{\"outlinewidth\":0,\"ticks\":\"\"},\"colorscale\":[[0.0,\"#0d0887\"],[0.1111111111111111,\"#46039f\"],[0.2222222222222222,\"#7201a8\"],[0.3333333333333333,\"#9c179e\"],[0.4444444444444444,\"#bd3786\"],[0.5555555555555556,\"#d8576b\"],[0.6666666666666666,\"#ed7953\"],[0.7777777777777778,\"#fb9f3a\"],[0.8888888888888888,\"#fdca26\"],[1.0,\"#f0f921\"]],\"type\":\"contour\"}],\"heatmapgl\":[{\"colorbar\":{\"outlinewidth\":0,\"ticks\":\"\"},\"colorscale\":[[0.0,\"#0d0887\"],[0.1111111111111111,\"#46039f\"],[0.2222222222222222,\"#7201a8\"],[0.3333333333333333,\"#9c179e\"],[0.4444444444444444,\"#bd3786\"],[0.5555555555555556,\"#d8576b\"],[0.6666666666666666,\"#ed7953\"],[0.7777777777777778,\"#fb9f3a\"],[0.8888888888888888,\"#fdca26\"],[1.0,\"#f0f921\"]],\"type\":\"heatmapgl\"}],\"heatmap\":[{\"colorbar\":{\"outlinewidth\":0,\"ticks\":\"\"},\"colorscale\":[[0.0,\"#0d0887\"],[0.1111111111111111,\"#46039f\"],[0.2222222222222222,\"#7201a8\"],[0.3333333333333333,\"#9c179e\"],[0.4444444444444444,\"#bd3786\"],[0.5555555555555556,\"#d8576b\"],[0.6666666666666666,\"#ed7953\"],[0.7777777777777778,\"#fb9f3a\"],[0.8888888888888888,\"#fdca26\"],[1.0,\"#f0f921\"]],\"type\":\"heatmap\"}],\"histogram2dcontour\":[{\"colorbar\":{\"outlinewidth\":0,\"ticks\":\"\"},\"colorscale\":[[0.0,\"#0d0887\"],[0.1111111111111111,\"#46039f\"],[0.2222222222222222,\"#7201a8\"],[0.3333333333333333,\"#9c179e\"],[0.4444444444444444,\"#bd3786\"],[0.5555555555555556,\"#d8576b\"],[0.6666666666666666,\"#ed7953\"],[0.7777777777777778,\"#fb9f3a\"],[0.8888888888888888,\"#fdca26\"],[1.0,\"#f0f921\"]],\"type\":\"histogram2dcontour\"}],\"histogram2d\":[{\"colorbar\":{\"outlinewidth\":0,\"ticks\":\"\"},\"colorscale\":[[0.0,\"#0d0887\"],[0.1111111111111111,\"#46039f\"],[0.2222222222222222,\"#7201a8\"],[0.3333333333333333,\"#9c179e\"],[0.4444444444444444,\"#bd3786\"],[0.5555555555555556,\"#d8576b\"],[0.6666666666666666,\"#ed7953\"],[0.7777777777777778,\"#fb9f3a\"],[0.8888888888888888,\"#fdca26\"],[1.0,\"#f0f921\"]],\"type\":\"histogram2d\"}],\"histogram\":[{\"marker\":{\"pattern\":{\"fillmode\":\"overlay\",\"size\":10,\"solidity\":0.2}},\"type\":\"histogram\"}],\"mesh3d\":[{\"colorbar\":{\"outlinewidth\":0,\"ticks\":\"\"},\"type\":\"mesh3d\"}],\"parcoords\":[{\"line\":{\"colorbar\":{\"outlinewidth\":0,\"ticks\":\"\"}},\"type\":\"parcoords\"}],\"pie\":[{\"automargin\":true,\"type\":\"pie\"}],\"scatter3d\":[{\"line\":{\"colorbar\":{\"outlinewidth\":0,\"ticks\":\"\"}},\"marker\":{\"colorbar\":{\"outlinewidth\":0,\"ticks\":\"\"}},\"type\":\"scatter3d\"}],\"scattercarpet\":[{\"marker\":{\"colorbar\":{\"outlinewidth\":0,\"ticks\":\"\"}},\"type\":\"scattercarpet\"}],\"scattergeo\":[{\"marker\":{\"colorbar\":{\"outlinewidth\":0,\"ticks\":\"\"}},\"type\":\"scattergeo\"}],\"scattergl\":[{\"marker\":{\"colorbar\":{\"outlinewidth\":0,\"ticks\":\"\"}},\"type\":\"scattergl\"}],\"scattermapbox\":[{\"marker\":{\"colorbar\":{\"outlinewidth\":0,\"ticks\":\"\"}},\"type\":\"scattermapbox\"}],\"scatterpolargl\":[{\"marker\":{\"colorbar\":{\"outlinewidth\":0,\"ticks\":\"\"}},\"type\":\"scatterpolargl\"}],\"scatterpolar\":[{\"marker\":{\"colorbar\":{\"outlinewidth\":0,\"ticks\":\"\"}},\"type\":\"scatterpolar\"}],\"scatter\":[{\"fillpattern\":{\"fillmode\":\"overlay\",\"size\":10,\"solidity\":0.2},\"type\":\"scatter\"}],\"scatterternary\":[{\"marker\":{\"colorbar\":{\"outlinewidth\":0,\"ticks\":\"\"}},\"type\":\"scatterternary\"}],\"surface\":[{\"colorbar\":{\"outlinewidth\":0,\"ticks\":\"\"},\"colorscale\":[[0.0,\"#0d0887\"],[0.1111111111111111,\"#46039f\"],[0.2222222222222222,\"#7201a8\"],[0.3333333333333333,\"#9c179e\"],[0.4444444444444444,\"#bd3786\"],[0.5555555555555556,\"#d8576b\"],[0.6666666666666666,\"#ed7953\"],[0.7777777777777778,\"#fb9f3a\"],[0.8888888888888888,\"#fdca26\"],[1.0,\"#f0f921\"]],\"type\":\"surface\"}],\"table\":[{\"cells\":{\"fill\":{\"color\":\"#EBF0F8\"},\"line\":{\"color\":\"white\"}},\"header\":{\"fill\":{\"color\":\"#C8D4E3\"},\"line\":{\"color\":\"white\"}},\"type\":\"table\"}]},\"layout\":{\"annotationdefaults\":{\"arrowcolor\":\"#2a3f5f\",\"arrowhead\":0,\"arrowwidth\":1},\"autotypenumbers\":\"strict\",\"coloraxis\":{\"colorbar\":{\"outlinewidth\":0,\"ticks\":\"\"}},\"colorscale\":{\"diverging\":[[0,\"#8e0152\"],[0.1,\"#c51b7d\"],[0.2,\"#de77ae\"],[0.3,\"#f1b6da\"],[0.4,\"#fde0ef\"],[0.5,\"#f7f7f7\"],[0.6,\"#e6f5d0\"],[0.7,\"#b8e186\"],[0.8,\"#7fbc41\"],[0.9,\"#4d9221\"],[1,\"#276419\"]],\"sequential\":[[0.0,\"#0d0887\"],[0.1111111111111111,\"#46039f\"],[0.2222222222222222,\"#7201a8\"],[0.3333333333333333,\"#9c179e\"],[0.4444444444444444,\"#bd3786\"],[0.5555555555555556,\"#d8576b\"],[0.6666666666666666,\"#ed7953\"],[0.7777777777777778,\"#fb9f3a\"],[0.8888888888888888,\"#fdca26\"],[1.0,\"#f0f921\"]],\"sequentialminus\":[[0.0,\"#0d0887\"],[0.1111111111111111,\"#46039f\"],[0.2222222222222222,\"#7201a8\"],[0.3333333333333333,\"#9c179e\"],[0.4444444444444444,\"#bd3786\"],[0.5555555555555556,\"#d8576b\"],[0.6666666666666666,\"#ed7953\"],[0.7777777777777778,\"#fb9f3a\"],[0.8888888888888888,\"#fdca26\"],[1.0,\"#f0f921\"]]},\"colorway\":[\"#636efa\",\"#EF553B\",\"#00cc96\",\"#ab63fa\",\"#FFA15A\",\"#19d3f3\",\"#FF6692\",\"#B6E880\",\"#FF97FF\",\"#FECB52\"],\"font\":{\"color\":\"#2a3f5f\"},\"geo\":{\"bgcolor\":\"white\",\"lakecolor\":\"white\",\"landcolor\":\"white\",\"showlakes\":true,\"showland\":true,\"subunitcolor\":\"#C8D4E3\"},\"hoverlabel\":{\"align\":\"left\"},\"hovermode\":\"closest\",\"mapbox\":{\"style\":\"light\"},\"paper_bgcolor\":\"white\",\"plot_bgcolor\":\"white\",\"polar\":{\"angularaxis\":{\"gridcolor\":\"#EBF0F8\",\"linecolor\":\"#EBF0F8\",\"ticks\":\"\"},\"bgcolor\":\"white\",\"radialaxis\":{\"gridcolor\":\"#EBF0F8\",\"linecolor\":\"#EBF0F8\",\"ticks\":\"\"}},\"scene\":{\"xaxis\":{\"backgroundcolor\":\"white\",\"gridcolor\":\"#DFE8F3\",\"gridwidth\":2,\"linecolor\":\"#EBF0F8\",\"showbackground\":true,\"ticks\":\"\",\"zerolinecolor\":\"#EBF0F8\"},\"yaxis\":{\"backgroundcolor\":\"white\",\"gridcolor\":\"#DFE8F3\",\"gridwidth\":2,\"linecolor\":\"#EBF0F8\",\"showbackground\":true,\"ticks\":\"\",\"zerolinecolor\":\"#EBF0F8\"},\"zaxis\":{\"backgroundcolor\":\"white\",\"gridcolor\":\"#DFE8F3\",\"gridwidth\":2,\"linecolor\":\"#EBF0F8\",\"showbackground\":true,\"ticks\":\"\",\"zerolinecolor\":\"#EBF0F8\"}},\"shapedefaults\":{\"line\":{\"color\":\"#2a3f5f\"}},\"ternary\":{\"aaxis\":{\"gridcolor\":\"#DFE8F3\",\"linecolor\":\"#A2B1C6\",\"ticks\":\"\"},\"baxis\":{\"gridcolor\":\"#DFE8F3\",\"linecolor\":\"#A2B1C6\",\"ticks\":\"\"},\"bgcolor\":\"white\",\"caxis\":{\"gridcolor\":\"#DFE8F3\",\"linecolor\":\"#A2B1C6\",\"ticks\":\"\"}},\"title\":{\"x\":0.05},\"xaxis\":{\"automargin\":true,\"gridcolor\":\"#EBF0F8\",\"linecolor\":\"#EBF0F8\",\"ticks\":\"\",\"title\":{\"standoff\":15},\"zerolinecolor\":\"#EBF0F8\",\"zerolinewidth\":2},\"yaxis\":{\"automargin\":true,\"gridcolor\":\"#EBF0F8\",\"linecolor\":\"#EBF0F8\",\"ticks\":\"\",\"title\":{\"standoff\":15},\"zerolinecolor\":\"#EBF0F8\",\"zerolinewidth\":2}}},\"xaxis\":{\"anchor\":\"y\",\"domain\":[0.0,1.0],\"matches\":\"x3\",\"showticklabels\":false},\"yaxis\":{\"anchor\":\"x\",\"domain\":[0.7333333333333334,1.0],\"title\":{\"text\":\"USD\"}},\"xaxis2\":{\"anchor\":\"y2\",\"domain\":[0.0,1.0],\"matches\":\"x3\",\"showticklabels\":false},\"yaxis2\":{\"anchor\":\"x2\",\"domain\":[0.3666666666666667,0.6333333333333333],\"title\":{\"text\":\"%\"}},\"xaxis3\":{\"anchor\":\"y3\",\"domain\":[0.0,1.0]},\"yaxis3\":{\"anchor\":\"x3\",\"domain\":[0.0,0.26666666666666666],\"title\":{\"text\":\"%\"}},\"annotations\":[{\"font\":{\"size\":16},\"showarrow\":false,\"text\":\"Interest Income, Total Revenue, and Net Income\",\"x\":0.5,\"xanchor\":\"center\",\"xref\":\"paper\",\"y\":1.0,\"yanchor\":\"bottom\",\"yref\":\"paper\"},{\"font\":{\"size\":16},\"showarrow\":false,\"text\":\"Interest Income to Total Revenue Ratio (%)\",\"x\":0.5,\"xanchor\":\"center\",\"xref\":\"paper\",\"y\":0.6333333333333333,\"yanchor\":\"bottom\",\"yref\":\"paper\"},{\"font\":{\"size\":16},\"showarrow\":false,\"text\":\"Interest Income to Net Income Ratio (%)\",\"x\":0.5,\"xanchor\":\"center\",\"xref\":\"paper\",\"y\":0.26666666666666666,\"yanchor\":\"bottom\",\"yref\":\"paper\"}],\"title\":{\"text\":\"Airbnb Financial Analysis Over Time\"},\"height\":900,\"width\":1000},                        {\"responsive\": true}                    ).then(function(){\n",
       "                            \n",
       "var gd = document.getElementById('00739f1c-ad25-4986-8b1e-3c89856721a4');\n",
       "var x = new MutationObserver(function (mutations, observer) {{\n",
       "        var display = window.getComputedStyle(gd).display;\n",
       "        if (!display || display === 'none') {{\n",
       "            console.log([gd, 'removed!']);\n",
       "            Plotly.purge(gd);\n",
       "            observer.disconnect();\n",
       "        }}\n",
       "}});\n",
       "\n",
       "// Listen for the removal of the full notebook cells\n",
       "var notebookContainer = gd.closest('#notebook-container');\n",
       "if (notebookContainer) {{\n",
       "    x.observe(notebookContainer, {childList: true});\n",
       "}}\n",
       "\n",
       "// Listen for the clearing of the current output cell\n",
       "var outputEl = gd.closest('.output');\n",
       "if (outputEl) {{\n",
       "    x.observe(outputEl, {childList: true});\n",
       "}}\n",
       "\n",
       "                        })                };                });            </script>        </div>"
      ]
     },
     "metadata": {},
     "output_type": "display_data"
    }
   ],
   "source": [
    "\n",
    "\n",
    "# Create subplots\n",
    "fig = make_subplots(rows=3, cols=1, \n",
    "                    shared_xaxes=True, \n",
    "                    vertical_spacing=0.1,\n",
    "                    subplot_titles=(\"Interest Income, Total Revenue, and Net Income\",\n",
    "                                    \"Interest Income to Total Revenue Ratio (%)\",\n",
    "                                    \"Interest Income to Net Income Ratio (%)\"))\n",
    "\n",
    "# Add traces for raw financial data\n",
    "fig.add_trace(go.Scatter(x=dates, y=interest_income, mode='lines+markers', name='Interest Income'), row=1, col=1)\n",
    "fig.add_trace(go.Scatter(x=dates, y=total_revenue, mode='lines+markers', name='Total Revenue'), row=1, col=1)\n",
    "fig.add_trace(go.Scatter(x=dates, y=net_income, mode='lines+markers', name='Net Income'), row=1, col=1)\n",
    "\n",
    "# Add traces for financial ratios\n",
    "fig.add_trace(go.Bar(x=dates, y=int_per_revenue, name='Interest Income to Total Revenue (%)', marker_color='royalblue'), row=2, col=1)\n",
    "fig.add_trace(go.Bar(x=dates, y=interest_income_per_net_income, name='Interest Income to Net Income (%)', marker_color='limegreen'), row=3, col=1)\n",
    "\n",
    "# Update y-axes types\n",
    "fig.update_yaxes(title_text=\"USD\", row=1, col=1)\n",
    "fig.update_yaxes(title_text=\"%\", row=2, col=1)\n",
    "fig.update_yaxes(title_text=\"%\", row=3, col=1)\n",
    "\n",
    "# Update layout and aesthetics\n",
    "fig.update_layout(height=900, width=1000, title_text=\"Airbnb Financial Analysis over time\", template=\"plotly_white\")\n",
    "fig.show()\n"
   ]
  },
  {
   "cell_type": "code",
   "execution_count": 11,
   "id": "04ceaebb-b69d-43c9-8834-7ac09f10cfa8",
   "metadata": {},
   "outputs": [
    {
     "data": {
      "application/vnd.plotly.v1+json": {
       "config": {
        "plotlyServerURL": "https://plot.ly"
       },
       "data": [
        {
         "mode": "lines",
         "name": "lines",
         "type": "scatter",
         "x": [
          "2020-12-10T05:00:00.000000000",
          "2020-12-11T05:00:00.000000000",
          "2020-12-14T05:00:00.000000000",
          "2020-12-15T05:00:00.000000000",
          "2020-12-16T05:00:00.000000000",
          "2020-12-17T05:00:00.000000000",
          "2020-12-18T05:00:00.000000000",
          "2020-12-21T05:00:00.000000000",
          "2020-12-22T05:00:00.000000000",
          "2020-12-23T05:00:00.000000000",
          "2020-12-24T05:00:00.000000000",
          "2020-12-28T05:00:00.000000000",
          "2020-12-29T05:00:00.000000000",
          "2020-12-30T05:00:00.000000000",
          "2020-12-31T05:00:00.000000000",
          "2021-01-04T05:00:00.000000000",
          "2021-01-05T05:00:00.000000000",
          "2021-01-06T05:00:00.000000000",
          "2021-01-07T05:00:00.000000000",
          "2021-01-08T05:00:00.000000000",
          "2021-01-11T05:00:00.000000000",
          "2021-01-12T05:00:00.000000000",
          "2021-01-13T05:00:00.000000000",
          "2021-01-14T05:00:00.000000000",
          "2021-01-15T05:00:00.000000000",
          "2021-01-19T05:00:00.000000000",
          "2021-01-20T05:00:00.000000000",
          "2021-01-21T05:00:00.000000000",
          "2021-01-22T05:00:00.000000000",
          "2021-01-25T05:00:00.000000000",
          "2021-01-26T05:00:00.000000000",
          "2021-01-27T05:00:00.000000000",
          "2021-01-28T05:00:00.000000000",
          "2021-01-29T05:00:00.000000000",
          "2021-02-01T05:00:00.000000000",
          "2021-02-02T05:00:00.000000000",
          "2021-02-03T05:00:00.000000000",
          "2021-02-04T05:00:00.000000000",
          "2021-02-05T05:00:00.000000000",
          "2021-02-08T05:00:00.000000000",
          "2021-02-09T05:00:00.000000000",
          "2021-02-10T05:00:00.000000000",
          "2021-02-11T05:00:00.000000000",
          "2021-02-12T05:00:00.000000000",
          "2021-02-16T05:00:00.000000000",
          "2021-02-17T05:00:00.000000000",
          "2021-02-18T05:00:00.000000000",
          "2021-02-19T05:00:00.000000000",
          "2021-02-22T05:00:00.000000000",
          "2021-02-23T05:00:00.000000000",
          "2021-02-24T05:00:00.000000000",
          "2021-02-25T05:00:00.000000000",
          "2021-02-26T05:00:00.000000000",
          "2021-03-01T05:00:00.000000000",
          "2021-03-02T05:00:00.000000000",
          "2021-03-03T05:00:00.000000000",
          "2021-03-04T05:00:00.000000000",
          "2021-03-05T05:00:00.000000000",
          "2021-03-08T05:00:00.000000000",
          "2021-03-09T05:00:00.000000000",
          "2021-03-10T05:00:00.000000000",
          "2021-03-11T05:00:00.000000000",
          "2021-03-12T05:00:00.000000000",
          "2021-03-15T04:00:00.000000000",
          "2021-03-16T04:00:00.000000000",
          "2021-03-17T04:00:00.000000000",
          "2021-03-18T04:00:00.000000000",
          "2021-03-19T04:00:00.000000000",
          "2021-03-22T04:00:00.000000000",
          "2021-03-23T04:00:00.000000000",
          "2021-03-24T04:00:00.000000000",
          "2021-03-25T04:00:00.000000000",
          "2021-03-26T04:00:00.000000000",
          "2021-03-29T04:00:00.000000000",
          "2021-03-30T04:00:00.000000000",
          "2021-03-31T04:00:00.000000000",
          "2021-04-01T04:00:00.000000000",
          "2021-04-05T04:00:00.000000000",
          "2021-04-06T04:00:00.000000000",
          "2021-04-07T04:00:00.000000000",
          "2021-04-08T04:00:00.000000000",
          "2021-04-09T04:00:00.000000000",
          "2021-04-12T04:00:00.000000000",
          "2021-04-13T04:00:00.000000000",
          "2021-04-14T04:00:00.000000000",
          "2021-04-15T04:00:00.000000000",
          "2021-04-16T04:00:00.000000000",
          "2021-04-19T04:00:00.000000000",
          "2021-04-20T04:00:00.000000000",
          "2021-04-21T04:00:00.000000000",
          "2021-04-22T04:00:00.000000000",
          "2021-04-23T04:00:00.000000000",
          "2021-04-26T04:00:00.000000000",
          "2021-04-27T04:00:00.000000000",
          "2021-04-28T04:00:00.000000000",
          "2021-04-29T04:00:00.000000000",
          "2021-04-30T04:00:00.000000000",
          "2021-05-03T04:00:00.000000000",
          "2021-05-04T04:00:00.000000000",
          "2021-05-05T04:00:00.000000000",
          "2021-05-06T04:00:00.000000000",
          "2021-05-07T04:00:00.000000000",
          "2021-05-10T04:00:00.000000000",
          "2021-05-11T04:00:00.000000000",
          "2021-05-12T04:00:00.000000000",
          "2021-05-13T04:00:00.000000000",
          "2021-05-14T04:00:00.000000000",
          "2021-05-17T04:00:00.000000000",
          "2021-05-18T04:00:00.000000000",
          "2021-05-19T04:00:00.000000000",
          "2021-05-20T04:00:00.000000000",
          "2021-05-21T04:00:00.000000000",
          "2021-05-24T04:00:00.000000000",
          "2021-05-25T04:00:00.000000000",
          "2021-05-26T04:00:00.000000000",
          "2021-05-27T04:00:00.000000000",
          "2021-05-28T04:00:00.000000000",
          "2021-06-01T04:00:00.000000000",
          "2021-06-02T04:00:00.000000000",
          "2021-06-03T04:00:00.000000000",
          "2021-06-04T04:00:00.000000000",
          "2021-06-07T04:00:00.000000000",
          "2021-06-08T04:00:00.000000000",
          "2021-06-09T04:00:00.000000000",
          "2021-06-10T04:00:00.000000000",
          "2021-06-11T04:00:00.000000000",
          "2021-06-14T04:00:00.000000000",
          "2021-06-15T04:00:00.000000000",
          "2021-06-16T04:00:00.000000000",
          "2021-06-17T04:00:00.000000000",
          "2021-06-18T04:00:00.000000000",
          "2021-06-21T04:00:00.000000000",
          "2021-06-22T04:00:00.000000000",
          "2021-06-23T04:00:00.000000000",
          "2021-06-24T04:00:00.000000000",
          "2021-06-25T04:00:00.000000000",
          "2021-06-28T04:00:00.000000000",
          "2021-06-29T04:00:00.000000000",
          "2021-06-30T04:00:00.000000000",
          "2021-07-01T04:00:00.000000000",
          "2021-07-02T04:00:00.000000000",
          "2021-07-06T04:00:00.000000000",
          "2021-07-07T04:00:00.000000000",
          "2021-07-08T04:00:00.000000000",
          "2021-07-09T04:00:00.000000000",
          "2021-07-12T04:00:00.000000000",
          "2021-07-13T04:00:00.000000000",
          "2021-07-14T04:00:00.000000000",
          "2021-07-15T04:00:00.000000000",
          "2021-07-16T04:00:00.000000000",
          "2021-07-19T04:00:00.000000000",
          "2021-07-20T04:00:00.000000000",
          "2021-07-21T04:00:00.000000000",
          "2021-07-22T04:00:00.000000000",
          "2021-07-23T04:00:00.000000000",
          "2021-07-26T04:00:00.000000000",
          "2021-07-27T04:00:00.000000000",
          "2021-07-28T04:00:00.000000000",
          "2021-07-29T04:00:00.000000000",
          "2021-07-30T04:00:00.000000000",
          "2021-08-02T04:00:00.000000000",
          "2021-08-03T04:00:00.000000000",
          "2021-08-04T04:00:00.000000000",
          "2021-08-05T04:00:00.000000000",
          "2021-08-06T04:00:00.000000000",
          "2021-08-09T04:00:00.000000000",
          "2021-08-10T04:00:00.000000000",
          "2021-08-11T04:00:00.000000000",
          "2021-08-12T04:00:00.000000000",
          "2021-08-13T04:00:00.000000000",
          "2021-08-16T04:00:00.000000000",
          "2021-08-17T04:00:00.000000000",
          "2021-08-18T04:00:00.000000000",
          "2021-08-19T04:00:00.000000000",
          "2021-08-20T04:00:00.000000000",
          "2021-08-23T04:00:00.000000000",
          "2021-08-24T04:00:00.000000000",
          "2021-08-25T04:00:00.000000000",
          "2021-08-26T04:00:00.000000000",
          "2021-08-27T04:00:00.000000000",
          "2021-08-30T04:00:00.000000000",
          "2021-08-31T04:00:00.000000000",
          "2021-09-01T04:00:00.000000000",
          "2021-09-02T04:00:00.000000000",
          "2021-09-03T04:00:00.000000000",
          "2021-09-07T04:00:00.000000000",
          "2021-09-08T04:00:00.000000000",
          "2021-09-09T04:00:00.000000000",
          "2021-09-10T04:00:00.000000000",
          "2021-09-13T04:00:00.000000000",
          "2021-09-14T04:00:00.000000000",
          "2021-09-15T04:00:00.000000000",
          "2021-09-16T04:00:00.000000000",
          "2021-09-17T04:00:00.000000000",
          "2021-09-20T04:00:00.000000000",
          "2021-09-21T04:00:00.000000000",
          "2021-09-22T04:00:00.000000000",
          "2021-09-23T04:00:00.000000000",
          "2021-09-24T04:00:00.000000000",
          "2021-09-27T04:00:00.000000000",
          "2021-09-28T04:00:00.000000000",
          "2021-09-29T04:00:00.000000000",
          "2021-09-30T04:00:00.000000000",
          "2021-10-01T04:00:00.000000000",
          "2021-10-04T04:00:00.000000000",
          "2021-10-05T04:00:00.000000000",
          "2021-10-06T04:00:00.000000000",
          "2021-10-07T04:00:00.000000000",
          "2021-10-08T04:00:00.000000000",
          "2021-10-11T04:00:00.000000000",
          "2021-10-12T04:00:00.000000000",
          "2021-10-13T04:00:00.000000000",
          "2021-10-14T04:00:00.000000000",
          "2021-10-15T04:00:00.000000000",
          "2021-10-18T04:00:00.000000000",
          "2021-10-19T04:00:00.000000000",
          "2021-10-20T04:00:00.000000000",
          "2021-10-21T04:00:00.000000000",
          "2021-10-22T04:00:00.000000000",
          "2021-10-25T04:00:00.000000000",
          "2021-10-26T04:00:00.000000000",
          "2021-10-27T04:00:00.000000000",
          "2021-10-28T04:00:00.000000000",
          "2021-10-29T04:00:00.000000000",
          "2021-11-01T04:00:00.000000000",
          "2021-11-02T04:00:00.000000000",
          "2021-11-03T04:00:00.000000000",
          "2021-11-04T04:00:00.000000000",
          "2021-11-05T04:00:00.000000000",
          "2021-11-08T05:00:00.000000000",
          "2021-11-09T05:00:00.000000000",
          "2021-11-10T05:00:00.000000000",
          "2021-11-11T05:00:00.000000000",
          "2021-11-12T05:00:00.000000000",
          "2021-11-15T05:00:00.000000000",
          "2021-11-16T05:00:00.000000000",
          "2021-11-17T05:00:00.000000000",
          "2021-11-18T05:00:00.000000000",
          "2021-11-19T05:00:00.000000000",
          "2021-11-22T05:00:00.000000000",
          "2021-11-23T05:00:00.000000000",
          "2021-11-24T05:00:00.000000000",
          "2021-11-26T05:00:00.000000000",
          "2021-11-29T05:00:00.000000000",
          "2021-11-30T05:00:00.000000000",
          "2021-12-01T05:00:00.000000000",
          "2021-12-02T05:00:00.000000000",
          "2021-12-03T05:00:00.000000000",
          "2021-12-06T05:00:00.000000000",
          "2021-12-07T05:00:00.000000000",
          "2021-12-08T05:00:00.000000000",
          "2021-12-09T05:00:00.000000000",
          "2021-12-10T05:00:00.000000000",
          "2021-12-13T05:00:00.000000000",
          "2021-12-14T05:00:00.000000000",
          "2021-12-15T05:00:00.000000000",
          "2021-12-16T05:00:00.000000000",
          "2021-12-17T05:00:00.000000000",
          "2021-12-20T05:00:00.000000000",
          "2021-12-21T05:00:00.000000000",
          "2021-12-22T05:00:00.000000000",
          "2021-12-23T05:00:00.000000000",
          "2021-12-27T05:00:00.000000000",
          "2021-12-28T05:00:00.000000000",
          "2021-12-29T05:00:00.000000000",
          "2021-12-30T05:00:00.000000000",
          "2021-12-31T05:00:00.000000000",
          "2022-01-03T05:00:00.000000000",
          "2022-01-04T05:00:00.000000000",
          "2022-01-05T05:00:00.000000000",
          "2022-01-06T05:00:00.000000000",
          "2022-01-07T05:00:00.000000000",
          "2022-01-10T05:00:00.000000000",
          "2022-01-11T05:00:00.000000000",
          "2022-01-12T05:00:00.000000000",
          "2022-01-13T05:00:00.000000000",
          "2022-01-14T05:00:00.000000000",
          "2022-01-18T05:00:00.000000000",
          "2022-01-19T05:00:00.000000000",
          "2022-01-20T05:00:00.000000000",
          "2022-01-21T05:00:00.000000000",
          "2022-01-24T05:00:00.000000000",
          "2022-01-25T05:00:00.000000000",
          "2022-01-26T05:00:00.000000000",
          "2022-01-27T05:00:00.000000000",
          "2022-01-28T05:00:00.000000000",
          "2022-01-31T05:00:00.000000000",
          "2022-02-01T05:00:00.000000000",
          "2022-02-02T05:00:00.000000000",
          "2022-02-03T05:00:00.000000000",
          "2022-02-04T05:00:00.000000000",
          "2022-02-07T05:00:00.000000000",
          "2022-02-08T05:00:00.000000000",
          "2022-02-09T05:00:00.000000000",
          "2022-02-10T05:00:00.000000000",
          "2022-02-11T05:00:00.000000000",
          "2022-02-14T05:00:00.000000000",
          "2022-02-15T05:00:00.000000000",
          "2022-02-16T05:00:00.000000000",
          "2022-02-17T05:00:00.000000000",
          "2022-02-18T05:00:00.000000000",
          "2022-02-22T05:00:00.000000000",
          "2022-02-23T05:00:00.000000000",
          "2022-02-24T05:00:00.000000000",
          "2022-02-25T05:00:00.000000000",
          "2022-02-28T05:00:00.000000000",
          "2022-03-01T05:00:00.000000000",
          "2022-03-02T05:00:00.000000000",
          "2022-03-03T05:00:00.000000000",
          "2022-03-04T05:00:00.000000000",
          "2022-03-07T05:00:00.000000000",
          "2022-03-08T05:00:00.000000000",
          "2022-03-09T05:00:00.000000000",
          "2022-03-10T05:00:00.000000000",
          "2022-03-11T05:00:00.000000000",
          "2022-03-14T04:00:00.000000000",
          "2022-03-15T04:00:00.000000000",
          "2022-03-16T04:00:00.000000000",
          "2022-03-17T04:00:00.000000000",
          "2022-03-18T04:00:00.000000000",
          "2022-03-21T04:00:00.000000000",
          "2022-03-22T04:00:00.000000000",
          "2022-03-23T04:00:00.000000000",
          "2022-03-24T04:00:00.000000000",
          "2022-03-25T04:00:00.000000000",
          "2022-03-28T04:00:00.000000000",
          "2022-03-29T04:00:00.000000000",
          "2022-03-30T04:00:00.000000000",
          "2022-03-31T04:00:00.000000000",
          "2022-04-01T04:00:00.000000000",
          "2022-04-04T04:00:00.000000000",
          "2022-04-05T04:00:00.000000000",
          "2022-04-06T04:00:00.000000000",
          "2022-04-07T04:00:00.000000000",
          "2022-04-08T04:00:00.000000000",
          "2022-04-11T04:00:00.000000000",
          "2022-04-12T04:00:00.000000000",
          "2022-04-13T04:00:00.000000000",
          "2022-04-14T04:00:00.000000000",
          "2022-04-18T04:00:00.000000000",
          "2022-04-19T04:00:00.000000000",
          "2022-04-20T04:00:00.000000000",
          "2022-04-21T04:00:00.000000000",
          "2022-04-22T04:00:00.000000000",
          "2022-04-25T04:00:00.000000000",
          "2022-04-26T04:00:00.000000000",
          "2022-04-27T04:00:00.000000000",
          "2022-04-28T04:00:00.000000000",
          "2022-04-29T04:00:00.000000000",
          "2022-05-02T04:00:00.000000000",
          "2022-05-03T04:00:00.000000000",
          "2022-05-04T04:00:00.000000000",
          "2022-05-05T04:00:00.000000000",
          "2022-05-06T04:00:00.000000000",
          "2022-05-09T04:00:00.000000000",
          "2022-05-10T04:00:00.000000000",
          "2022-05-11T04:00:00.000000000",
          "2022-05-12T04:00:00.000000000",
          "2022-05-13T04:00:00.000000000",
          "2022-05-16T04:00:00.000000000",
          "2022-05-17T04:00:00.000000000",
          "2022-05-18T04:00:00.000000000",
          "2022-05-19T04:00:00.000000000",
          "2022-05-20T04:00:00.000000000",
          "2022-05-23T04:00:00.000000000",
          "2022-05-24T04:00:00.000000000",
          "2022-05-25T04:00:00.000000000",
          "2022-05-26T04:00:00.000000000",
          "2022-05-27T04:00:00.000000000",
          "2022-05-31T04:00:00.000000000",
          "2022-06-01T04:00:00.000000000",
          "2022-06-02T04:00:00.000000000",
          "2022-06-03T04:00:00.000000000",
          "2022-06-06T04:00:00.000000000",
          "2022-06-07T04:00:00.000000000",
          "2022-06-08T04:00:00.000000000",
          "2022-06-09T04:00:00.000000000",
          "2022-06-10T04:00:00.000000000",
          "2022-06-13T04:00:00.000000000",
          "2022-06-14T04:00:00.000000000",
          "2022-06-15T04:00:00.000000000",
          "2022-06-16T04:00:00.000000000",
          "2022-06-17T04:00:00.000000000",
          "2022-06-21T04:00:00.000000000",
          "2022-06-22T04:00:00.000000000",
          "2022-06-23T04:00:00.000000000",
          "2022-06-24T04:00:00.000000000",
          "2022-06-27T04:00:00.000000000",
          "2022-06-28T04:00:00.000000000",
          "2022-06-29T04:00:00.000000000",
          "2022-06-30T04:00:00.000000000",
          "2022-07-01T04:00:00.000000000",
          "2022-07-05T04:00:00.000000000",
          "2022-07-06T04:00:00.000000000",
          "2022-07-07T04:00:00.000000000",
          "2022-07-08T04:00:00.000000000",
          "2022-07-11T04:00:00.000000000",
          "2022-07-12T04:00:00.000000000",
          "2022-07-13T04:00:00.000000000",
          "2022-07-14T04:00:00.000000000",
          "2022-07-15T04:00:00.000000000",
          "2022-07-18T04:00:00.000000000",
          "2022-07-19T04:00:00.000000000",
          "2022-07-20T04:00:00.000000000",
          "2022-07-21T04:00:00.000000000",
          "2022-07-22T04:00:00.000000000",
          "2022-07-25T04:00:00.000000000",
          "2022-07-26T04:00:00.000000000",
          "2022-07-27T04:00:00.000000000",
          "2022-07-28T04:00:00.000000000",
          "2022-07-29T04:00:00.000000000",
          "2022-08-01T04:00:00.000000000",
          "2022-08-02T04:00:00.000000000",
          "2022-08-03T04:00:00.000000000",
          "2022-08-04T04:00:00.000000000",
          "2022-08-05T04:00:00.000000000",
          "2022-08-08T04:00:00.000000000",
          "2022-08-09T04:00:00.000000000",
          "2022-08-10T04:00:00.000000000",
          "2022-08-11T04:00:00.000000000",
          "2022-08-12T04:00:00.000000000",
          "2022-08-15T04:00:00.000000000",
          "2022-08-16T04:00:00.000000000",
          "2022-08-17T04:00:00.000000000",
          "2022-08-18T04:00:00.000000000",
          "2022-08-19T04:00:00.000000000",
          "2022-08-22T04:00:00.000000000",
          "2022-08-23T04:00:00.000000000",
          "2022-08-24T04:00:00.000000000",
          "2022-08-25T04:00:00.000000000",
          "2022-08-26T04:00:00.000000000",
          "2022-08-29T04:00:00.000000000",
          "2022-08-30T04:00:00.000000000",
          "2022-08-31T04:00:00.000000000",
          "2022-09-01T04:00:00.000000000",
          "2022-09-02T04:00:00.000000000",
          "2022-09-06T04:00:00.000000000",
          "2022-09-07T04:00:00.000000000",
          "2022-09-08T04:00:00.000000000",
          "2022-09-09T04:00:00.000000000",
          "2022-09-12T04:00:00.000000000",
          "2022-09-13T04:00:00.000000000",
          "2022-09-14T04:00:00.000000000",
          "2022-09-15T04:00:00.000000000",
          "2022-09-16T04:00:00.000000000",
          "2022-09-19T04:00:00.000000000",
          "2022-09-20T04:00:00.000000000",
          "2022-09-21T04:00:00.000000000",
          "2022-09-22T04:00:00.000000000",
          "2022-09-23T04:00:00.000000000",
          "2022-09-26T04:00:00.000000000",
          "2022-09-27T04:00:00.000000000",
          "2022-09-28T04:00:00.000000000",
          "2022-09-29T04:00:00.000000000",
          "2022-09-30T04:00:00.000000000",
          "2022-10-03T04:00:00.000000000",
          "2022-10-04T04:00:00.000000000",
          "2022-10-05T04:00:00.000000000",
          "2022-10-06T04:00:00.000000000",
          "2022-10-07T04:00:00.000000000",
          "2022-10-10T04:00:00.000000000",
          "2022-10-11T04:00:00.000000000",
          "2022-10-12T04:00:00.000000000",
          "2022-10-13T04:00:00.000000000",
          "2022-10-14T04:00:00.000000000",
          "2022-10-17T04:00:00.000000000",
          "2022-10-18T04:00:00.000000000",
          "2022-10-19T04:00:00.000000000",
          "2022-10-20T04:00:00.000000000",
          "2022-10-21T04:00:00.000000000",
          "2022-10-24T04:00:00.000000000",
          "2022-10-25T04:00:00.000000000",
          "2022-10-26T04:00:00.000000000",
          "2022-10-27T04:00:00.000000000",
          "2022-10-28T04:00:00.000000000",
          "2022-10-31T04:00:00.000000000",
          "2022-11-01T04:00:00.000000000",
          "2022-11-02T04:00:00.000000000",
          "2022-11-03T04:00:00.000000000",
          "2022-11-04T04:00:00.000000000",
          "2022-11-07T05:00:00.000000000",
          "2022-11-08T05:00:00.000000000",
          "2022-11-09T05:00:00.000000000",
          "2022-11-10T05:00:00.000000000",
          "2022-11-11T05:00:00.000000000",
          "2022-11-14T05:00:00.000000000",
          "2022-11-15T05:00:00.000000000",
          "2022-11-16T05:00:00.000000000",
          "2022-11-17T05:00:00.000000000",
          "2022-11-18T05:00:00.000000000",
          "2022-11-21T05:00:00.000000000",
          "2022-11-22T05:00:00.000000000",
          "2022-11-23T05:00:00.000000000",
          "2022-11-25T05:00:00.000000000",
          "2022-11-28T05:00:00.000000000",
          "2022-11-29T05:00:00.000000000",
          "2022-11-30T05:00:00.000000000",
          "2022-12-01T05:00:00.000000000",
          "2022-12-02T05:00:00.000000000",
          "2022-12-05T05:00:00.000000000",
          "2022-12-06T05:00:00.000000000",
          "2022-12-07T05:00:00.000000000",
          "2022-12-08T05:00:00.000000000",
          "2022-12-09T05:00:00.000000000",
          "2022-12-12T05:00:00.000000000",
          "2022-12-13T05:00:00.000000000",
          "2022-12-14T05:00:00.000000000",
          "2022-12-15T05:00:00.000000000",
          "2022-12-16T05:00:00.000000000",
          "2022-12-19T05:00:00.000000000",
          "2022-12-20T05:00:00.000000000",
          "2022-12-21T05:00:00.000000000",
          "2022-12-22T05:00:00.000000000",
          "2022-12-23T05:00:00.000000000",
          "2022-12-27T05:00:00.000000000",
          "2022-12-28T05:00:00.000000000",
          "2022-12-29T05:00:00.000000000",
          "2022-12-30T05:00:00.000000000",
          "2023-01-03T05:00:00.000000000",
          "2023-01-04T05:00:00.000000000",
          "2023-01-05T05:00:00.000000000",
          "2023-01-06T05:00:00.000000000",
          "2023-01-09T05:00:00.000000000",
          "2023-01-10T05:00:00.000000000",
          "2023-01-11T05:00:00.000000000",
          "2023-01-12T05:00:00.000000000",
          "2023-01-13T05:00:00.000000000",
          "2023-01-17T05:00:00.000000000",
          "2023-01-18T05:00:00.000000000",
          "2023-01-19T05:00:00.000000000",
          "2023-01-20T05:00:00.000000000",
          "2023-01-23T05:00:00.000000000",
          "2023-01-24T05:00:00.000000000",
          "2023-01-25T05:00:00.000000000",
          "2023-01-26T05:00:00.000000000",
          "2023-01-27T05:00:00.000000000",
          "2023-01-30T05:00:00.000000000",
          "2023-01-31T05:00:00.000000000",
          "2023-02-01T05:00:00.000000000",
          "2023-02-02T05:00:00.000000000",
          "2023-02-03T05:00:00.000000000",
          "2023-02-06T05:00:00.000000000",
          "2023-02-07T05:00:00.000000000",
          "2023-02-08T05:00:00.000000000",
          "2023-02-09T05:00:00.000000000",
          "2023-02-10T05:00:00.000000000",
          "2023-02-13T05:00:00.000000000",
          "2023-02-14T05:00:00.000000000",
          "2023-02-15T05:00:00.000000000",
          "2023-02-16T05:00:00.000000000",
          "2023-02-17T05:00:00.000000000",
          "2023-02-21T05:00:00.000000000",
          "2023-02-22T05:00:00.000000000",
          "2023-02-23T05:00:00.000000000",
          "2023-02-24T05:00:00.000000000",
          "2023-02-27T05:00:00.000000000",
          "2023-02-28T05:00:00.000000000",
          "2023-03-01T05:00:00.000000000",
          "2023-03-02T05:00:00.000000000",
          "2023-03-03T05:00:00.000000000",
          "2023-03-06T05:00:00.000000000",
          "2023-03-07T05:00:00.000000000",
          "2023-03-08T05:00:00.000000000",
          "2023-03-09T05:00:00.000000000",
          "2023-03-10T05:00:00.000000000",
          "2023-03-13T04:00:00.000000000",
          "2023-03-14T04:00:00.000000000",
          "2023-03-15T04:00:00.000000000",
          "2023-03-16T04:00:00.000000000",
          "2023-03-17T04:00:00.000000000",
          "2023-03-20T04:00:00.000000000",
          "2023-03-21T04:00:00.000000000",
          "2023-03-22T04:00:00.000000000",
          "2023-03-23T04:00:00.000000000",
          "2023-03-24T04:00:00.000000000",
          "2023-03-27T04:00:00.000000000",
          "2023-03-28T04:00:00.000000000",
          "2023-03-29T04:00:00.000000000",
          "2023-03-30T04:00:00.000000000",
          "2023-03-31T04:00:00.000000000",
          "2023-04-03T04:00:00.000000000",
          "2023-04-04T04:00:00.000000000",
          "2023-04-05T04:00:00.000000000",
          "2023-04-06T04:00:00.000000000",
          "2023-04-10T04:00:00.000000000",
          "2023-04-11T04:00:00.000000000",
          "2023-04-12T04:00:00.000000000",
          "2023-04-13T04:00:00.000000000",
          "2023-04-14T04:00:00.000000000",
          "2023-04-17T04:00:00.000000000",
          "2023-04-18T04:00:00.000000000",
          "2023-04-19T04:00:00.000000000",
          "2023-04-20T04:00:00.000000000",
          "2023-04-21T04:00:00.000000000",
          "2023-04-24T04:00:00.000000000",
          "2023-04-25T04:00:00.000000000",
          "2023-04-26T04:00:00.000000000",
          "2023-04-27T04:00:00.000000000",
          "2023-04-28T04:00:00.000000000",
          "2023-05-01T04:00:00.000000000",
          "2023-05-02T04:00:00.000000000",
          "2023-05-03T04:00:00.000000000",
          "2023-05-04T04:00:00.000000000",
          "2023-05-05T04:00:00.000000000",
          "2023-05-08T04:00:00.000000000",
          "2023-05-09T04:00:00.000000000",
          "2023-05-10T04:00:00.000000000",
          "2023-05-11T04:00:00.000000000",
          "2023-05-12T04:00:00.000000000",
          "2023-05-15T04:00:00.000000000",
          "2023-05-16T04:00:00.000000000",
          "2023-05-17T04:00:00.000000000",
          "2023-05-18T04:00:00.000000000",
          "2023-05-19T04:00:00.000000000",
          "2023-05-22T04:00:00.000000000",
          "2023-05-23T04:00:00.000000000",
          "2023-05-24T04:00:00.000000000",
          "2023-05-25T04:00:00.000000000",
          "2023-05-26T04:00:00.000000000",
          "2023-05-30T04:00:00.000000000",
          "2023-05-31T04:00:00.000000000",
          "2023-06-01T04:00:00.000000000",
          "2023-06-02T04:00:00.000000000",
          "2023-06-05T04:00:00.000000000",
          "2023-06-06T04:00:00.000000000",
          "2023-06-07T04:00:00.000000000",
          "2023-06-08T04:00:00.000000000",
          "2023-06-09T04:00:00.000000000",
          "2023-06-12T04:00:00.000000000",
          "2023-06-13T04:00:00.000000000",
          "2023-06-14T04:00:00.000000000",
          "2023-06-15T04:00:00.000000000",
          "2023-06-16T04:00:00.000000000",
          "2023-06-20T04:00:00.000000000",
          "2023-06-21T04:00:00.000000000",
          "2023-06-22T04:00:00.000000000",
          "2023-06-23T04:00:00.000000000",
          "2023-06-26T04:00:00.000000000",
          "2023-06-27T04:00:00.000000000",
          "2023-06-28T04:00:00.000000000",
          "2023-06-29T04:00:00.000000000",
          "2023-06-30T04:00:00.000000000",
          "2023-07-03T04:00:00.000000000",
          "2023-07-05T04:00:00.000000000",
          "2023-07-06T04:00:00.000000000",
          "2023-07-07T04:00:00.000000000",
          "2023-07-10T04:00:00.000000000",
          "2023-07-11T04:00:00.000000000",
          "2023-07-12T04:00:00.000000000",
          "2023-07-13T04:00:00.000000000",
          "2023-07-14T04:00:00.000000000",
          "2023-07-17T04:00:00.000000000",
          "2023-07-18T04:00:00.000000000",
          "2023-07-19T04:00:00.000000000",
          "2023-07-20T04:00:00.000000000",
          "2023-07-21T04:00:00.000000000",
          "2023-07-24T04:00:00.000000000",
          "2023-07-25T04:00:00.000000000",
          "2023-07-26T04:00:00.000000000",
          "2023-07-27T04:00:00.000000000",
          "2023-07-28T04:00:00.000000000",
          "2023-07-31T04:00:00.000000000",
          "2023-08-01T04:00:00.000000000",
          "2023-08-02T04:00:00.000000000",
          "2023-08-03T04:00:00.000000000",
          "2023-08-04T04:00:00.000000000",
          "2023-08-07T04:00:00.000000000",
          "2023-08-08T04:00:00.000000000",
          "2023-08-09T04:00:00.000000000",
          "2023-08-10T04:00:00.000000000",
          "2023-08-11T04:00:00.000000000",
          "2023-08-14T04:00:00.000000000",
          "2023-08-15T04:00:00.000000000",
          "2023-08-16T04:00:00.000000000",
          "2023-08-17T04:00:00.000000000",
          "2023-08-18T04:00:00.000000000",
          "2023-08-21T04:00:00.000000000",
          "2023-08-22T04:00:00.000000000",
          "2023-08-23T04:00:00.000000000",
          "2023-08-24T04:00:00.000000000",
          "2023-08-25T04:00:00.000000000",
          "2023-08-28T04:00:00.000000000",
          "2023-08-29T04:00:00.000000000",
          "2023-08-30T04:00:00.000000000",
          "2023-08-31T04:00:00.000000000",
          "2023-09-01T04:00:00.000000000",
          "2023-09-05T04:00:00.000000000",
          "2023-09-06T04:00:00.000000000",
          "2023-09-07T04:00:00.000000000",
          "2023-09-08T04:00:00.000000000",
          "2023-09-11T04:00:00.000000000",
          "2023-09-12T04:00:00.000000000",
          "2023-09-13T04:00:00.000000000",
          "2023-09-14T04:00:00.000000000",
          "2023-09-15T04:00:00.000000000",
          "2023-09-18T04:00:00.000000000",
          "2023-09-19T04:00:00.000000000",
          "2023-09-20T04:00:00.000000000",
          "2023-09-21T04:00:00.000000000",
          "2023-09-22T04:00:00.000000000",
          "2023-09-25T04:00:00.000000000",
          "2023-09-26T04:00:00.000000000",
          "2023-09-27T04:00:00.000000000",
          "2023-09-28T04:00:00.000000000",
          "2023-09-29T04:00:00.000000000",
          "2023-10-02T04:00:00.000000000",
          "2023-10-03T04:00:00.000000000",
          "2023-10-04T04:00:00.000000000",
          "2023-10-05T04:00:00.000000000",
          "2023-10-06T04:00:00.000000000",
          "2023-10-09T04:00:00.000000000",
          "2023-10-10T04:00:00.000000000",
          "2023-10-11T04:00:00.000000000",
          "2023-10-12T04:00:00.000000000",
          "2023-10-13T04:00:00.000000000",
          "2023-10-16T04:00:00.000000000",
          "2023-10-17T04:00:00.000000000",
          "2023-10-18T04:00:00.000000000",
          "2023-10-19T04:00:00.000000000",
          "2023-10-20T04:00:00.000000000",
          "2023-10-23T04:00:00.000000000",
          "2023-10-24T04:00:00.000000000",
          "2023-10-25T04:00:00.000000000",
          "2023-10-26T04:00:00.000000000",
          "2023-10-27T04:00:00.000000000",
          "2023-10-30T04:00:00.000000000",
          "2023-10-31T04:00:00.000000000",
          "2023-11-01T04:00:00.000000000",
          "2023-11-02T04:00:00.000000000",
          "2023-11-03T04:00:00.000000000",
          "2023-11-06T05:00:00.000000000",
          "2023-11-07T05:00:00.000000000",
          "2023-11-08T05:00:00.000000000",
          "2023-11-09T05:00:00.000000000",
          "2023-11-10T05:00:00.000000000",
          "2023-11-13T05:00:00.000000000",
          "2023-11-14T05:00:00.000000000",
          "2023-11-15T05:00:00.000000000",
          "2023-11-16T05:00:00.000000000",
          "2023-11-17T05:00:00.000000000",
          "2023-11-20T05:00:00.000000000",
          "2023-11-21T05:00:00.000000000",
          "2023-11-22T05:00:00.000000000",
          "2023-11-24T05:00:00.000000000",
          "2023-11-27T05:00:00.000000000",
          "2023-11-28T05:00:00.000000000",
          "2023-11-29T05:00:00.000000000",
          "2023-11-30T05:00:00.000000000",
          "2023-12-01T05:00:00.000000000",
          "2023-12-04T05:00:00.000000000",
          "2023-12-05T05:00:00.000000000",
          "2023-12-06T05:00:00.000000000",
          "2023-12-07T05:00:00.000000000",
          "2023-12-08T05:00:00.000000000",
          "2023-12-11T05:00:00.000000000",
          "2023-12-12T05:00:00.000000000",
          "2023-12-13T05:00:00.000000000",
          "2023-12-14T05:00:00.000000000",
          "2023-12-15T05:00:00.000000000",
          "2023-12-18T05:00:00.000000000",
          "2023-12-19T05:00:00.000000000",
          "2023-12-20T05:00:00.000000000",
          "2023-12-21T05:00:00.000000000",
          "2023-12-22T05:00:00.000000000",
          "2023-12-26T05:00:00.000000000",
          "2023-12-27T05:00:00.000000000",
          "2023-12-28T05:00:00.000000000",
          "2023-12-29T05:00:00.000000000",
          "2024-01-02T05:00:00.000000000",
          "2024-01-03T05:00:00.000000000",
          "2024-01-04T05:00:00.000000000",
          "2024-01-05T05:00:00.000000000",
          "2024-01-08T05:00:00.000000000",
          "2024-01-09T05:00:00.000000000",
          "2024-01-10T05:00:00.000000000",
          "2024-01-11T05:00:00.000000000",
          "2024-01-12T05:00:00.000000000",
          "2024-01-16T05:00:00.000000000",
          "2024-01-17T05:00:00.000000000",
          "2024-01-18T05:00:00.000000000",
          "2024-01-19T05:00:00.000000000",
          "2024-01-22T05:00:00.000000000",
          "2024-01-23T05:00:00.000000000",
          "2024-01-24T05:00:00.000000000",
          "2024-01-25T05:00:00.000000000",
          "2024-01-26T05:00:00.000000000",
          "2024-01-29T05:00:00.000000000",
          "2024-01-30T05:00:00.000000000",
          "2024-01-31T05:00:00.000000000",
          "2024-02-01T05:00:00.000000000",
          "2024-02-02T05:00:00.000000000",
          "2024-02-05T05:00:00.000000000",
          "2024-02-06T05:00:00.000000000",
          "2024-02-07T05:00:00.000000000",
          "2024-02-08T05:00:00.000000000",
          "2024-02-09T05:00:00.000000000",
          "2024-02-12T05:00:00.000000000",
          "2024-02-13T05:00:00.000000000",
          "2024-02-14T05:00:00.000000000",
          "2024-02-15T05:00:00.000000000",
          "2024-02-16T05:00:00.000000000",
          "2024-02-20T05:00:00.000000000",
          "2024-02-21T05:00:00.000000000",
          "2024-02-22T05:00:00.000000000",
          "2024-02-23T05:00:00.000000000",
          "2024-02-26T05:00:00.000000000",
          "2024-02-27T05:00:00.000000000",
          "2024-02-28T05:00:00.000000000",
          "2024-02-29T05:00:00.000000000",
          "2024-03-01T05:00:00.000000000",
          "2024-03-04T05:00:00.000000000",
          "2024-03-05T05:00:00.000000000",
          "2024-03-06T05:00:00.000000000",
          "2024-03-07T05:00:00.000000000",
          "2024-03-08T05:00:00.000000000",
          "2024-03-11T04:00:00.000000000",
          "2024-03-12T04:00:00.000000000",
          "2024-03-13T04:00:00.000000000",
          "2024-03-14T04:00:00.000000000",
          "2024-03-15T04:00:00.000000000",
          "2024-03-18T04:00:00.000000000",
          "2024-03-19T04:00:00.000000000",
          "2024-03-20T04:00:00.000000000",
          "2024-03-21T04:00:00.000000000",
          "2024-03-22T04:00:00.000000000",
          "2024-03-25T04:00:00.000000000",
          "2024-03-26T04:00:00.000000000",
          "2024-03-27T04:00:00.000000000",
          "2024-03-28T04:00:00.000000000",
          "2024-04-01T04:00:00.000000000",
          "2024-04-02T04:00:00.000000000",
          "2024-04-03T04:00:00.000000000",
          "2024-04-04T04:00:00.000000000",
          "2024-04-05T04:00:00.000000000",
          "2024-04-08T04:00:00.000000000",
          "2024-04-09T04:00:00.000000000",
          "2024-04-10T04:00:00.000000000",
          "2024-04-11T04:00:00.000000000",
          "2024-04-12T04:00:00.000000000",
          "2024-04-15T04:00:00.000000000",
          "2024-04-16T04:00:00.000000000",
          "2024-04-17T04:00:00.000000000",
          "2024-04-18T04:00:00.000000000",
          "2024-04-19T04:00:00.000000000",
          "2024-04-22T04:00:00.000000000",
          "2024-04-23T04:00:00.000000000",
          "2024-04-24T04:00:00.000000000",
          "2024-04-25T04:00:00.000000000",
          "2024-04-26T04:00:00.000000000",
          "2024-04-29T04:00:00.000000000",
          "2024-04-30T04:00:00.000000000",
          "2024-05-01T04:00:00.000000000",
          "2024-05-02T04:00:00.000000000",
          "2024-05-03T04:00:00.000000000",
          "2024-05-06T04:00:00.000000000",
          "2024-05-07T04:00:00.000000000",
          "2024-05-08T04:00:00.000000000",
          "2024-05-09T04:00:00.000000000",
          "2024-05-10T04:00:00.000000000",
          "2024-05-13T04:00:00.000000000",
          "2024-05-14T04:00:00.000000000",
          "2024-05-15T04:00:00.000000000",
          "2024-05-16T04:00:00.000000000",
          "2024-05-17T04:00:00.000000000",
          "2024-05-20T04:00:00.000000000",
          "2024-05-21T04:00:00.000000000",
          "2024-05-22T04:00:00.000000000",
          "2024-05-23T04:00:00.000000000",
          "2024-05-24T04:00:00.000000000",
          "2024-05-28T04:00:00.000000000",
          "2024-05-29T04:00:00.000000000",
          "2024-05-30T04:00:00.000000000",
          "2024-05-31T04:00:00.000000000",
          "2024-06-03T04:00:00.000000000",
          "2024-06-04T04:00:00.000000000",
          "2024-06-05T04:00:00.000000000",
          "2024-06-06T04:00:00.000000000",
          "2024-06-07T04:00:00.000000000",
          "2024-06-10T04:00:00.000000000",
          "2024-06-11T04:00:00.000000000"
         ],
         "y": [
          146,
          146.5500030517578,
          135,
          126.69000244140625,
          125.83000183105469,
          143,
          150.4499969482422,
          155.30999755859375,
          170,
          162.81399536132812,
          159.16000366210938,
          158.60000610351562,
          150,
          151.33999633789062,
          146.89999389648438,
          150.99000549316406,
          138.27999877929688,
          145.75,
          146.3699951171875,
          153.4499969482422,
          147.99000549316406,
          148.0800018310547,
          160.80999755859375,
          175.5399932861328,
          184.5800018310547,
          173,
          176.00999450683594,
          164.99000549316406,
          178.08999633789062,
          186.0500030517578,
          180,
          187.63999938964844,
          202.60000610351562,
          190.7100067138672,
          187.47999572753906,
          183.22000122070312,
          181.97999572753906,
          187.07000732421875,
          197,
          199.92999267578125,
          199.2030029296875,
          205.47999572753906,
          213.5,
          214.45799255371094,
          216.24000549316406,
          207.0500030517578,
          199.00999450683594,
          203.9499969482422,
          200.6999969482422,
          189,
          190.97999572753906,
          197.41000366210938,
          194.17999267578125,
          195.82000732421875,
          195.6300048828125,
          186.97000122070312,
          178.63999938964844,
          182.52000427246094,
          179.99200439453125,
          184.99000549316406,
          184.57000732421875,
          189.89999389648438,
          196.27000427246094,
          209.53799438476562,
          209.11000061035156,
          195.6300048828125,
          196.8000030517578,
          193.00999450683594,
          196.85000610351562,
          195.5,
          189,
          173.10000610351562,
          178.41600036621094,
          175.36000061035156,
          182.35000610351562,
          185.42999267578125,
          192.5,
          191.66000366210938,
          188.6999969482422,
          189.3800048828125,
          181.6479949951172,
          179.6199951171875,
          179.67999267578125,
          175.26499938964844,
          179.5,
          177,
          176.01199340820312,
          177.32000732421875,
          173.1840057373047,
          168.08999633789062,
          168.49000549316406,
          172.91900634765625,
          175.2100067138672,
          176.1649932861328,
          174.43699645996094,
          182.75,
          173.00399780273438,
          173.19000244140625,
          167.01499938964844,
          169.3000030517578,
          161.91000366210938,
          156.5,
          150.28399658203125,
          139.10000610351562,
          140.89999389648438,
          142.25,
          137.67999267578125,
          137.156005859375,
          134,
          129.9499969482422,
          138.83900451660156,
          136.5500030517578,
          135.5,
          137.39999389648438,
          134.94000244140625,
          135.07000732421875,
          144.75999450683594,
          143.88999938964844,
          145.35000610351562,
          149.5500030517578,
          145.8300018310547,
          150.9600067138672,
          150.60000610351562,
          148.57000732421875,
          142.14999389648438,
          145.8699951171875,
          149.25,
          149.1999969482422,
          150.9499969482422,
          148.99000549316406,
          150.3800048828125,
          152.52000427246094,
          149.75,
          149.75999450683594,
          152.6699981689453,
          151.22999572753906,
          148.61500549316406,
          149.75,
          145.5449981689453,
          154.5,
          153.30999755859375,
          150.0800018310547,
          148.14999389648438,
          140.42999267578125,
          143.3000030517578,
          148.99000549316406,
          147.69500732421875,
          143.86000061035156,
          139.17999267578125,
          139.69000244140625,
          131.36000061035156,
          132.75,
          136.7100067138672,
          141.2899932861328,
          139.8000030517578,
          139.1300048828125,
          141.2550048828125,
          141.30999755859375,
          143.64599609375,
          141.75,
          143.85000610351562,
          147.72799682617188,
          145.10000610351562,
          146.6699981689453,
          148.99000549316406,
          148.74000549316406,
          149.36500549316406,
          147.5399932861328,
          148.86000061035156,
          146.66000366210938,
          151.99000549316406,
          145,
          144.02000427246094,
          143.79100036621094,
          142,
          144.89999389648438,
          147,
          158.76400756835938,
          159.33999633789062,
          152.25100708007812,
          154.41000366210938,
          155.94000244140625,
          154.83999633789062,
          156.5,
          158.0500030517578,
          159.72000122070312,
          163.22999572753906,
          163,
          166.9499969482422,
          160.25,
          160.66000366210938,
          162.32000732421875,
          165.25999450683594,
          169.3000030517578,
          162.24000549316406,
          164,
          170.0290069580078,
          171.5500030517578,
          174.52999877929688,
          175,
          172.51600646972656,
          170.10000610351562,
          168.10000610351562,
          170.30999755859375,
          171.99000549316406,
          165.6699981689453,
          161.38999938964844,
          170,
          170.10000610351562,
          170,
          172.69400024414062,
          173,
          175.24000549316406,
          171.89999389648438,
          167.5,
          172.57000732421875,
          170.05999755859375,
          169.07400512695312,
          169.3000030517578,
          166.69000244140625,
          170.39999389648438,
          170.74000549316406,
          170.1999969482422,
          171.38999938964844,
          170.5,
          174.9499969482422,
          171.88999938964844,
          175.9499969482422,
          186.14999389648438,
          203.35000610351562,
          201.44000244140625,
          190.22999572753906,
          195.1999969482422,
          192.46499633789062,
          206.1999969482422,
          205.58999633789062,
          207,
          199.33999633789062,
          196.60000610351562,
          190.44000244140625,
          181.14300537109375,
          175.6300048828125,
          167.75999450683594,
          176.8800048828125,
          176.40499877929688,
          174.00999450683594,
          161.36000061035156,
          168.97999572753906,
          167.27499389648438,
          185.61000061035156,
          186,
          182.08999633789062,
          178.14999389648438,
          178.25,
          168.29800415039062,
          167.63999938964844,
          166.25,
          154.6199951171875,
          151.16000366210938,
          159.5,
          165.67999267578125,
          170.5,
          169.80599975585938,
          171.32000732421875,
          169.52000427246094,
          167.05999755859375,
          168.77999877929688,
          165.2969970703125,
          174.1540069580078,
          169.88299560546875,
          160.2899932861328,
          159.17999267578125,
          159.75999450683594,
          160.7100067138672,
          170.24000549316406,
          170.23300170898438,
          165.75,
          156.91000366210938,
          157,
          157.80799865722656,
          156.81500244140625,
          150,
          143.89999389648438,
          149.28500366210938,
          143.47999572753906,
          138.5449981689453,
          144.80299377441406,
          155.35000610351562,
          156.31300354003906,
          147.97000122070312,
          150.13999938964844,
          156.7899932861328,
          154,
          165.3699951171875,
          165.2449951171875,
          175.3090057373047,
          166.6300048828125,
          172.9199981689453,
          178.2949981689453,
          184.89999389648438,
          180.25999450683594,
          172.1300048828125,
          165.92999267578125,
          141.3000030517578,
          159.25999450683594,
          155.02499389648438,
          150.52999877929688,
          152.47999572753906,
          158.3300018310547,
          150.77000427246094,
          145,
          131.6300048828125,
          145.42999267578125,
          145.22000122070312,
          154.1300048828125,
          143.41000366210938,
          140,
          148.14500427246094,
          153.7899932861328,
          156.07000732421875,
          164.57000732421875,
          163.61000061035156,
          163.63999938964844,
          164.80999755859375,
          169.94000244140625,
          167.22000122070312,
          172.11000061035156,
          173.13099670410156,
          173.5399932861328,
          173.05999755859375,
          175.02000427246094,
          177.19000244140625,
          167.0500030517578,
          163.19000244140625,
          162.52000427246094,
          159.83999633789062,
          163.6999969482422,
          160.83999633789062,
          171.66000366210938,
          169.27000427246094,
          165.74000549316406,
          172.61000061035156,
          168.97999572753906,
          157.83999633789062,
          154.3300018310547,
          158.39999389648438,
          153.82000732421875,
          154.00999450683594,
          158.8800048828125,
          153.2100067138672,
          154.08999633789062,
          152.5500030517578,
          152.19000244140625,
          142.6999969482422,
          131.75999450683594,
          122.94999694824219,
          114.52999877929688,
          113.66000366210938,
          119.95999908447266,
          121,
          119.97000122070312,
          116.11000061035156,
          108.18000030517578,
          115.45999908447266,
          113.54499816894531,
          111.27999877929688,
          105.88999938964844,
          109.73999786376953,
          116,
          120.5,
          121.05000305175781,
          117.12999725341797,
          118.07099914550781,
          123.33000183105469,
          119.76000213623047,
          121.43000030517578,
          122.30999755859375,
          111.80000305175781,
          102.8499984741211,
          99.54000091552734,
          100.0199966430664,
          96.19000244140625,
          93.52999877929688,
          102.69000244140625,
          99,
          100,
          97.5199966430664,
          103.95999908447266,
          103.33999633789062,
          96.83000183105469,
          92.48999786376953,
          89.08999633789062,
          88.87999725341797,
          95.29000091552734,
          93.66000366210938,
          96.2300033569336,
          96,
          95.30000305175781,
          93.75,
          94.27999877929688,
          92.55000305175781,
          96.77999877929688,
          99.69999694824219,
          103.11000061035156,
          106.9800033569336,
          108.30999755859375,
          103.77999877929688,
          102.37999725341797,
          105.79000091552734,
          108.16999816894531,
          108.19499969482422,
          110,
          111.66999816894531,
          108.2249984741211,
          114.30999755859375,
          115.5199966430664,
          118.15499877929688,
          115,
          119.33000183105469,
          121.30000305175781,
          122.80000305175781,
          123.55000305175781,
          124.2300033569336,
          121.62999725341797,
          121.5,
          118.18499755859375,
          110.36000061035156,
          112.41000366210938,
          110.93000030517578,
          115.88999938964844,
          117.05999755859375,
          111.7699966430664,
          114.5,
          113.48999786376953,
          111.0999984741211,
          114.31999969482422,
          114.08999633789062,
          112.8499984741211,
          114,
          120.01799774169922,
          124.25,
          119.69999694824219,
          121.62999725341797,
          125.29000091552734,
          121.11000061035156,
          116.87000274658203,
          117.93000030517578,
          116.37000274658203,
          112.66999816894531,
          102.19999694824219,
          101.77999877929688,
          106.04000091552734,
          106.70099639892578,
          109.19000244140625,
          104.76000213623047,
          105.48999786376953,
          109.13999938964844,
          110.5199966430664,
          112,
          108.87000274658203,
          108.55000305175781,
          110.98799896240234,
          107.47000122070312,
          107.30000305175781,
          115,
          112.33000183105469,
          120.02999877929688,
          116.23500061035156,
          116.3499984741211,
          116.76000213623047,
          118.33000183105469,
          115.37000274658203,
          117,
          116.05000305175781,
          111.19000244140625,
          113.05999755859375,
          110.96499633789062,
          102.6449966430664,
          94.08000183105469,
          94.99500274658203,
          96.76000213623047,
          95.52999877929688,
          97.75,
          100.91000366210938,
          103.44999694824219,
          107.73999786376953,
          109.2699966430664,
          107.69999694824219,
          101.83000183105469,
          100.83999633789062,
          97.01000213623047,
          93.52999877929688,
          95.55999755859375,
          96.97000122070312,
          97,
          96.0999984741211,
          95.86000061035156,
          101.48999786376953,
          99.25,
          100,
          98.25,
          88.80500030517578,
          92.97000122070312,
          93.83999633789062,
          93.76000213623047,
          100.37000274658203,
          93.54000091552734,
          91.5199966430664,
          89.86000061035156,
          89.51000213623047,
          86.70999908447266,
          87.48999786376953,
          85.54000091552734,
          84.69999694824219,
          84.77999877929688,
          83.25,
          82.97000122070312,
          83.61000061035156,
          87.38500213623047,
          85.88999938964844,
          88.4800033569336,
          88.5199966430664,
          90.25499725341797,
          88.86000061035156,
          89,
          95.30999755859375,
          97.5,
          99.91500091552734,
          101.41000366210938,
          99.83999633789062,
          99.01000213623047,
          101.98999786376953,
          104.69999694824219,
          100.36000061035156,
          106.30000305175781,
          108.86000061035156,
          114.12999725341797,
          109.4800033569336,
          111.11000061035156,
          116.25,
          116.04000091552734,
          117.41000366210938,
          117.91000366210938,
          119.38999938964844,
          118,
          112.25,
          110,
          116.29000091552734,
          130,
          135.64999389648438,
          137.43499755859375,
          129.77000427246094,
          128.13999938964844,
          128.2100067138672,
          123.04000091552734,
          123.94999694824219,
          125.11000061035156,
          122.375,
          119.66999816894531,
          123.18000030517578,
          126.3550033569336,
          125.73999786376953,
          126.9000015258789,
          125.05999755859375,
          119.73500061035156,
          115.72200012207031,
          118.94000244140625,
          113.86000061035156,
          113.94999694824219,
          119.71499633789062,
          118.05999755859375,
          120,
          123.88999938964844,
          122.51000213623047,
          119.5,
          117.98999786376953,
          117.97000122070312,
          118.33999633789062,
          120.80000305175781,
          123.30000305175781,
          123,
          121.68000030517578,
          117.87000274658203,
          113.33999633789062,
          108.69000244140625,
          113.55999755859375,
          114.80000305175781,
          113.18000030517578,
          113.88999938964844,
          115.41999816894531,
          119.83000183105469,
          118.1449966430664,
          118.37000274658203,
          114.95500183105469,
          115.52999877929688,
          115.30999755859375,
          113.5,
          114.44000244140625,
          114.5999984741211,
          119.26000213623047,
          120.23999786376953,
          120.8499984741211,
          118.94000244140625,
          120.01000213623047,
          123.16000366210938,
          126.5999984741211,
          109.8499984741211,
          113.13999938964844,
          111.36000061035156,
          105.05999755859375,
          105.72000122070312,
          106.06999969482422,
          108.33999633789062,
          110.81999969482422,
          106.26000213623047,
          109,
          105.45999908447266,
          106.0999984741211,
          105.18000030517578,
          107.7249984741211,
          105.5999984741211,
          109.83999633789062,
          112.93000030517578,
          115.12000274658203,
          115.91999816894531,
          118.13999938964844,
          114.97000122070312,
          120.25,
          119.36499786376953,
          124.61000061035156,
          125.38999938964844,
          122.95999908447266,
          128.67999267578125,
          126.37000274658203,
          125.08999633789062,
          126.58000183105469,
          125.98999786376953,
          122.9000015258789,
          124.41000366210938,
          127.38999938964844,
          127.63999938964844,
          127.25,
          129.27999877929688,
          131.84500122070312,
          129.1699981689453,
          128.16000366210938,
          130.17999267578125,
          129.4499969482422,
          139.35000610351562,
          138.9600067138672,
          140.25,
          142.2899932861328,
          144,
          145.75,
          143.58999633789062,
          147,
          147.05999755859375,
          147.61000061035156,
          147.8300018310547,
          151.88999938964844,
          150.22999572753906,
          153.86000061035156,
          149.6199951171875,
          146.4499969482422,
          140.94000244140625,
          140.47000122070312,
          142,
          140.52000427246094,
          140.13999938964844,
          139.8699951171875,
          134.14999389648438,
          133.55999755859375,
          132.5,
          129,
          129.22000122070312,
          124.93000030517578,
          126.15499877929688,
          124.25,
          126.9000015258789,
          128.22999572753906,
          125.04000091552734,
          127,
          126.55000305175781,
          130.47000122070312,
          130.60000610351562,
          133.6999969482422,
          141.14999389648438,
          140.77999877929688,
          139.25,
          143.94000244140625,
          146.22000122070312,
          146.8800048828125,
          146,
          144.61000061035156,
          143.5850067138672,
          141.92999267578125,
          141.86000061035156,
          142.75999450683594,
          135.55499267578125,
          133.7100067138672,
          130.8000030517578,
          132.77999877929688,
          133.8000030517578,
          133.64999389648438,
          138.0500030517578,
          136.5500030517578,
          132.1699981689453,
          128.75,
          126.54000091552734,
          123,
          124,
          127.69000244140625,
          132.1199951171875,
          130.2899932861328,
          127.61000061035156,
          125.19000244140625,
          123.76000213623047,
          123.0199966430664,
          122.38999938964844,
          119.48999786376953,
          116.4800033569336,
          121.18000030517578,
          120.75,
          118.13999938964844,
          116.20999908447266,
          117.1500015258789,
          117.12999725341797,
          118.25,
          122.51000213623047,
          117.9800033569336,
          123.21499633789062,
          118.25,
          119.43000030517578,
          118.3499984741211,
          114.5250015258789,
          117.51000213623047,
          122.3550033569336,
          128,
          127.12000274658203,
          126.6500015258789,
          127.4000015258789,
          128,
          127.75,
          129.0500030517578,
          127.5,
          128.7899932861328,
          127,
          127,
          125.5,
          134,
          132.67999267578125,
          135.58999633789062,
          135.50999450683594,
          138.19000244140625,
          141.36000061035156,
          137.89999389648438,
          142.9499969482422,
          145,
          147.25999450683594,
          147.16000366210938,
          147.5,
          146.5,
          142.3699951171875,
          141.8800048828125,
          141,
          139.13499450683594,
          136.5500030517578,
          136.7100067138672,
          134.42999267578125,
          132.7100067138672,
          132.86000061035156,
          134.25,
          137.30999755859375,
          138.52000427246094,
          139.1999969482422,
          140.7100067138672,
          139.35000610351562,
          135.89999389648438,
          132.83999633789062,
          137,
          138.60000610351562,
          141.15499877929688,
          142.75,
          143.80999755859375,
          143.1999969482422,
          142.11000061035156,
          150,
          150.5399932861328,
          148.64500427246094,
          144.8000030517578,
          143.99000549316406,
          146.08999633789062,
          145.10000610351562,
          145.1199951171875,
          149.25,
          145.83999633789062,
          148.67999267578125,
          149.2100067138672,
          146.16000366210938,
          148.91000366210938,
          156.10000610351562,
          150.30999755859375,
          145.97999572753906,
          151.02000427246094,
          153.27000427246094,
          149.9600067138672,
          150,
          152.02999877929688,
          153.39999389648438,
          157.22999572753906,
          159.89999389648438,
          157.1999969482422,
          160.10000610351562,
          165,
          166,
          163.75999450683594,
          163,
          162.4199981689453,
          165.74000549316406,
          166.38999938964844,
          161.94500732421875,
          161.49000549316406,
          162.38999938964844,
          165.80999755859375,
          167,
          167.86000061035156,
          169.69000244140625,
          169.11000061035156,
          166.57000732421875,
          166.42999267578125,
          160.9499969482422,
          158.75,
          161.22000122070312,
          159.14999389648438,
          160.36000061035156,
          161.5500030517578,
          159.6300048828125,
          159,
          162.4199981689453,
          161.80999755859375,
          155.8300018310547,
          158.4499969482422,
          159.60000610351562,
          159.5399932861328,
          156.19000244140625,
          157.24000549316406,
          164.47500610351562,
          161.50999450683594,
          163.67999267578125,
          164.75,
          160.55999755859375,
          157.5800018310547,
          157.2100067138672,
          161.80999755859375,
          161,
          161.80999755859375,
          157.10000610351562,
          146.60000610351562,
          147.75,
          147.0500030517578,
          149.39999389648438,
          147.57000732421875,
          146.33999633789062,
          146.80999755859375,
          146.17999267578125,
          145.7100067138672,
          143.94000244140625,
          142.5800018310547,
          142.5,
          146,
          144.8800048828125,
          145.39999389648438,
          145.77999877929688,
          145.74000549316406,
          145.82000732421875,
          147.97999572753906,
          145.50999450683594,
          146.1999969482422,
          146.00999450683594,
          147.7949981689453
         ]
        }
       ],
       "layout": {
        "height": 500,
        "template": {
         "data": {
          "bar": [
           {
            "error_x": {
             "color": "#2a3f5f"
            },
            "error_y": {
             "color": "#2a3f5f"
            },
            "marker": {
             "line": {
              "color": "white",
              "width": 0.5
             },
             "pattern": {
              "fillmode": "overlay",
              "size": 10,
              "solidity": 0.2
             }
            },
            "type": "bar"
           }
          ],
          "barpolar": [
           {
            "marker": {
             "line": {
              "color": "white",
              "width": 0.5
             },
             "pattern": {
              "fillmode": "overlay",
              "size": 10,
              "solidity": 0.2
             }
            },
            "type": "barpolar"
           }
          ],
          "carpet": [
           {
            "aaxis": {
             "endlinecolor": "#2a3f5f",
             "gridcolor": "#C8D4E3",
             "linecolor": "#C8D4E3",
             "minorgridcolor": "#C8D4E3",
             "startlinecolor": "#2a3f5f"
            },
            "baxis": {
             "endlinecolor": "#2a3f5f",
             "gridcolor": "#C8D4E3",
             "linecolor": "#C8D4E3",
             "minorgridcolor": "#C8D4E3",
             "startlinecolor": "#2a3f5f"
            },
            "type": "carpet"
           }
          ],
          "choropleth": [
           {
            "colorbar": {
             "outlinewidth": 0,
             "ticks": ""
            },
            "type": "choropleth"
           }
          ],
          "contour": [
           {
            "colorbar": {
             "outlinewidth": 0,
             "ticks": ""
            },
            "colorscale": [
             [
              0,
              "#0d0887"
             ],
             [
              0.1111111111111111,
              "#46039f"
             ],
             [
              0.2222222222222222,
              "#7201a8"
             ],
             [
              0.3333333333333333,
              "#9c179e"
             ],
             [
              0.4444444444444444,
              "#bd3786"
             ],
             [
              0.5555555555555556,
              "#d8576b"
             ],
             [
              0.6666666666666666,
              "#ed7953"
             ],
             [
              0.7777777777777778,
              "#fb9f3a"
             ],
             [
              0.8888888888888888,
              "#fdca26"
             ],
             [
              1,
              "#f0f921"
             ]
            ],
            "type": "contour"
           }
          ],
          "contourcarpet": [
           {
            "colorbar": {
             "outlinewidth": 0,
             "ticks": ""
            },
            "type": "contourcarpet"
           }
          ],
          "heatmap": [
           {
            "colorbar": {
             "outlinewidth": 0,
             "ticks": ""
            },
            "colorscale": [
             [
              0,
              "#0d0887"
             ],
             [
              0.1111111111111111,
              "#46039f"
             ],
             [
              0.2222222222222222,
              "#7201a8"
             ],
             [
              0.3333333333333333,
              "#9c179e"
             ],
             [
              0.4444444444444444,
              "#bd3786"
             ],
             [
              0.5555555555555556,
              "#d8576b"
             ],
             [
              0.6666666666666666,
              "#ed7953"
             ],
             [
              0.7777777777777778,
              "#fb9f3a"
             ],
             [
              0.8888888888888888,
              "#fdca26"
             ],
             [
              1,
              "#f0f921"
             ]
            ],
            "type": "heatmap"
           }
          ],
          "heatmapgl": [
           {
            "colorbar": {
             "outlinewidth": 0,
             "ticks": ""
            },
            "colorscale": [
             [
              0,
              "#0d0887"
             ],
             [
              0.1111111111111111,
              "#46039f"
             ],
             [
              0.2222222222222222,
              "#7201a8"
             ],
             [
              0.3333333333333333,
              "#9c179e"
             ],
             [
              0.4444444444444444,
              "#bd3786"
             ],
             [
              0.5555555555555556,
              "#d8576b"
             ],
             [
              0.6666666666666666,
              "#ed7953"
             ],
             [
              0.7777777777777778,
              "#fb9f3a"
             ],
             [
              0.8888888888888888,
              "#fdca26"
             ],
             [
              1,
              "#f0f921"
             ]
            ],
            "type": "heatmapgl"
           }
          ],
          "histogram": [
           {
            "marker": {
             "pattern": {
              "fillmode": "overlay",
              "size": 10,
              "solidity": 0.2
             }
            },
            "type": "histogram"
           }
          ],
          "histogram2d": [
           {
            "colorbar": {
             "outlinewidth": 0,
             "ticks": ""
            },
            "colorscale": [
             [
              0,
              "#0d0887"
             ],
             [
              0.1111111111111111,
              "#46039f"
             ],
             [
              0.2222222222222222,
              "#7201a8"
             ],
             [
              0.3333333333333333,
              "#9c179e"
             ],
             [
              0.4444444444444444,
              "#bd3786"
             ],
             [
              0.5555555555555556,
              "#d8576b"
             ],
             [
              0.6666666666666666,
              "#ed7953"
             ],
             [
              0.7777777777777778,
              "#fb9f3a"
             ],
             [
              0.8888888888888888,
              "#fdca26"
             ],
             [
              1,
              "#f0f921"
             ]
            ],
            "type": "histogram2d"
           }
          ],
          "histogram2dcontour": [
           {
            "colorbar": {
             "outlinewidth": 0,
             "ticks": ""
            },
            "colorscale": [
             [
              0,
              "#0d0887"
             ],
             [
              0.1111111111111111,
              "#46039f"
             ],
             [
              0.2222222222222222,
              "#7201a8"
             ],
             [
              0.3333333333333333,
              "#9c179e"
             ],
             [
              0.4444444444444444,
              "#bd3786"
             ],
             [
              0.5555555555555556,
              "#d8576b"
             ],
             [
              0.6666666666666666,
              "#ed7953"
             ],
             [
              0.7777777777777778,
              "#fb9f3a"
             ],
             [
              0.8888888888888888,
              "#fdca26"
             ],
             [
              1,
              "#f0f921"
             ]
            ],
            "type": "histogram2dcontour"
           }
          ],
          "mesh3d": [
           {
            "colorbar": {
             "outlinewidth": 0,
             "ticks": ""
            },
            "type": "mesh3d"
           }
          ],
          "parcoords": [
           {
            "line": {
             "colorbar": {
              "outlinewidth": 0,
              "ticks": ""
             }
            },
            "type": "parcoords"
           }
          ],
          "pie": [
           {
            "automargin": true,
            "type": "pie"
           }
          ],
          "scatter": [
           {
            "fillpattern": {
             "fillmode": "overlay",
             "size": 10,
             "solidity": 0.2
            },
            "type": "scatter"
           }
          ],
          "scatter3d": [
           {
            "line": {
             "colorbar": {
              "outlinewidth": 0,
              "ticks": ""
             }
            },
            "marker": {
             "colorbar": {
              "outlinewidth": 0,
              "ticks": ""
             }
            },
            "type": "scatter3d"
           }
          ],
          "scattercarpet": [
           {
            "marker": {
             "colorbar": {
              "outlinewidth": 0,
              "ticks": ""
             }
            },
            "type": "scattercarpet"
           }
          ],
          "scattergeo": [
           {
            "marker": {
             "colorbar": {
              "outlinewidth": 0,
              "ticks": ""
             }
            },
            "type": "scattergeo"
           }
          ],
          "scattergl": [
           {
            "marker": {
             "colorbar": {
              "outlinewidth": 0,
              "ticks": ""
             }
            },
            "type": "scattergl"
           }
          ],
          "scattermapbox": [
           {
            "marker": {
             "colorbar": {
              "outlinewidth": 0,
              "ticks": ""
             }
            },
            "type": "scattermapbox"
           }
          ],
          "scatterpolar": [
           {
            "marker": {
             "colorbar": {
              "outlinewidth": 0,
              "ticks": ""
             }
            },
            "type": "scatterpolar"
           }
          ],
          "scatterpolargl": [
           {
            "marker": {
             "colorbar": {
              "outlinewidth": 0,
              "ticks": ""
             }
            },
            "type": "scatterpolargl"
           }
          ],
          "scatterternary": [
           {
            "marker": {
             "colorbar": {
              "outlinewidth": 0,
              "ticks": ""
             }
            },
            "type": "scatterternary"
           }
          ],
          "surface": [
           {
            "colorbar": {
             "outlinewidth": 0,
             "ticks": ""
            },
            "colorscale": [
             [
              0,
              "#0d0887"
             ],
             [
              0.1111111111111111,
              "#46039f"
             ],
             [
              0.2222222222222222,
              "#7201a8"
             ],
             [
              0.3333333333333333,
              "#9c179e"
             ],
             [
              0.4444444444444444,
              "#bd3786"
             ],
             [
              0.5555555555555556,
              "#d8576b"
             ],
             [
              0.6666666666666666,
              "#ed7953"
             ],
             [
              0.7777777777777778,
              "#fb9f3a"
             ],
             [
              0.8888888888888888,
              "#fdca26"
             ],
             [
              1,
              "#f0f921"
             ]
            ],
            "type": "surface"
           }
          ],
          "table": [
           {
            "cells": {
             "fill": {
              "color": "#EBF0F8"
             },
             "line": {
              "color": "white"
             }
            },
            "header": {
             "fill": {
              "color": "#C8D4E3"
             },
             "line": {
              "color": "white"
             }
            },
            "type": "table"
           }
          ]
         },
         "layout": {
          "annotationdefaults": {
           "arrowcolor": "#2a3f5f",
           "arrowhead": 0,
           "arrowwidth": 1
          },
          "autotypenumbers": "strict",
          "coloraxis": {
           "colorbar": {
            "outlinewidth": 0,
            "ticks": ""
           }
          },
          "colorscale": {
           "diverging": [
            [
             0,
             "#8e0152"
            ],
            [
             0.1,
             "#c51b7d"
            ],
            [
             0.2,
             "#de77ae"
            ],
            [
             0.3,
             "#f1b6da"
            ],
            [
             0.4,
             "#fde0ef"
            ],
            [
             0.5,
             "#f7f7f7"
            ],
            [
             0.6,
             "#e6f5d0"
            ],
            [
             0.7,
             "#b8e186"
            ],
            [
             0.8,
             "#7fbc41"
            ],
            [
             0.9,
             "#4d9221"
            ],
            [
             1,
             "#276419"
            ]
           ],
           "sequential": [
            [
             0,
             "#0d0887"
            ],
            [
             0.1111111111111111,
             "#46039f"
            ],
            [
             0.2222222222222222,
             "#7201a8"
            ],
            [
             0.3333333333333333,
             "#9c179e"
            ],
            [
             0.4444444444444444,
             "#bd3786"
            ],
            [
             0.5555555555555556,
             "#d8576b"
            ],
            [
             0.6666666666666666,
             "#ed7953"
            ],
            [
             0.7777777777777778,
             "#fb9f3a"
            ],
            [
             0.8888888888888888,
             "#fdca26"
            ],
            [
             1,
             "#f0f921"
            ]
           ],
           "sequentialminus": [
            [
             0,
             "#0d0887"
            ],
            [
             0.1111111111111111,
             "#46039f"
            ],
            [
             0.2222222222222222,
             "#7201a8"
            ],
            [
             0.3333333333333333,
             "#9c179e"
            ],
            [
             0.4444444444444444,
             "#bd3786"
            ],
            [
             0.5555555555555556,
             "#d8576b"
            ],
            [
             0.6666666666666666,
             "#ed7953"
            ],
            [
             0.7777777777777778,
             "#fb9f3a"
            ],
            [
             0.8888888888888888,
             "#fdca26"
            ],
            [
             1,
             "#f0f921"
            ]
           ]
          },
          "colorway": [
           "#636efa",
           "#EF553B",
           "#00cc96",
           "#ab63fa",
           "#FFA15A",
           "#19d3f3",
           "#FF6692",
           "#B6E880",
           "#FF97FF",
           "#FECB52"
          ],
          "font": {
           "color": "#2a3f5f"
          },
          "geo": {
           "bgcolor": "white",
           "lakecolor": "white",
           "landcolor": "white",
           "showlakes": true,
           "showland": true,
           "subunitcolor": "#C8D4E3"
          },
          "hoverlabel": {
           "align": "left"
          },
          "hovermode": "closest",
          "mapbox": {
           "style": "light"
          },
          "paper_bgcolor": "white",
          "plot_bgcolor": "white",
          "polar": {
           "angularaxis": {
            "gridcolor": "#EBF0F8",
            "linecolor": "#EBF0F8",
            "ticks": ""
           },
           "bgcolor": "white",
           "radialaxis": {
            "gridcolor": "#EBF0F8",
            "linecolor": "#EBF0F8",
            "ticks": ""
           }
          },
          "scene": {
           "xaxis": {
            "backgroundcolor": "white",
            "gridcolor": "#DFE8F3",
            "gridwidth": 2,
            "linecolor": "#EBF0F8",
            "showbackground": true,
            "ticks": "",
            "zerolinecolor": "#EBF0F8"
           },
           "yaxis": {
            "backgroundcolor": "white",
            "gridcolor": "#DFE8F3",
            "gridwidth": 2,
            "linecolor": "#EBF0F8",
            "showbackground": true,
            "ticks": "",
            "zerolinecolor": "#EBF0F8"
           },
           "zaxis": {
            "backgroundcolor": "white",
            "gridcolor": "#DFE8F3",
            "gridwidth": 2,
            "linecolor": "#EBF0F8",
            "showbackground": true,
            "ticks": "",
            "zerolinecolor": "#EBF0F8"
           }
          },
          "shapedefaults": {
           "line": {
            "color": "#2a3f5f"
           }
          },
          "ternary": {
           "aaxis": {
            "gridcolor": "#DFE8F3",
            "linecolor": "#A2B1C6",
            "ticks": ""
           },
           "baxis": {
            "gridcolor": "#DFE8F3",
            "linecolor": "#A2B1C6",
            "ticks": ""
           },
           "bgcolor": "white",
           "caxis": {
            "gridcolor": "#DFE8F3",
            "linecolor": "#A2B1C6",
            "ticks": ""
           }
          },
          "title": {
           "x": 0.05
          },
          "xaxis": {
           "automargin": true,
           "gridcolor": "#EBF0F8",
           "linecolor": "#EBF0F8",
           "ticks": "",
           "title": {
            "standoff": 15
           },
           "zerolinecolor": "#EBF0F8",
           "zerolinewidth": 2
          },
          "yaxis": {
           "automargin": true,
           "gridcolor": "#EBF0F8",
           "linecolor": "#EBF0F8",
           "ticks": "",
           "title": {
            "standoff": 15
           },
           "zerolinecolor": "#EBF0F8",
           "zerolinewidth": 2
          }
         }
        },
        "title": {
         "text": "ABNB"
        },
        "width": 1000,
        "xaxis": {
         "autorange": true,
         "range": [
          "2020-12-10 05:00",
          "2024-06-11 04:00"
         ],
         "title": {
          "text": "date"
         },
         "type": "date"
        },
        "yaxis": {
         "autorange": true,
         "range": [
          75.56611209445529,
          223.6438946194119
         ],
         "title": {
          "text": "Stock price"
         },
         "type": "linear"
        }
       }
      },
      "image/png": "[encoded data removed]",
      "text/html": [
       "<div>                            <div id=\"e73fb8cd-2b88-48ec-a85a-f48d5aad1088\" class=\"plotly-graph-div\" style=\"height:500px; width:1000px;\"></div>            <script type=\"text/javascript\">                require([\"plotly\"], function(Plotly) {                    window.PLOTLYENV=window.PLOTLYENV || {};                                    if (document.getElementById(\"e73fb8cd-2b88-48ec-a85a-f48d5aad1088\")) {                    Plotly.newPlot(                        \"e73fb8cd-2b88-48ec-a85a-f48d5aad1088\",                        [{\"mode\":\"lines\",\"name\":\"lines\",\"x\":[\"2020-12-10T05:00:00.000000000\",\"2020-12-11T05:00:00.000000000\",\"2020-12-14T05:00:00.000000000\",\"2020-12-15T05:00:00.000000000\",\"2020-12-16T05:00:00.000000000\",\"2020-12-17T05:00:00.000000000\",\"2020-12-18T05:00:00.000000000\",\"2020-12-21T05:00:00.000000000\",\"2020-12-22T05:00:00.000000000\",\"2020-12-23T05:00:00.000000000\",\"2020-12-24T05:00:00.000000000\",\"2020-12-28T05:00:00.000000000\",\"2020-12-29T05:00:00.000000000\",\"2020-12-30T05:00:00.000000000\",\"2020-12-31T05:00:00.000000000\",\"2021-01-04T05:00:00.000000000\",\"2021-01-05T05:00:00.000000000\",\"2021-01-06T05:00:00.000000000\",\"2021-01-07T05:00:00.000000000\",\"2021-01-08T05:00:00.000000000\",\"2021-01-11T05:00:00.000000000\",\"2021-01-12T05:00:00.000000000\",\"2021-01-13T05:00:00.000000000\",\"2021-01-14T05:00:00.000000000\",\"2021-01-15T05:00:00.000000000\",\"2021-01-19T05:00:00.000000000\",\"2021-01-20T05:00:00.000000000\",\"2021-01-21T05:00:00.000000000\",\"2021-01-22T05:00:00.000000000\",\"2021-01-25T05:00:00.000000000\",\"2021-01-26T05:00:00.000000000\",\"2021-01-27T05:00:00.000000000\",\"2021-01-28T05:00:00.000000000\",\"2021-01-29T05:00:00.000000000\",\"2021-02-01T05:00:00.000000000\",\"2021-02-02T05:00:00.000000000\",\"2021-02-03T05:00:00.000000000\",\"2021-02-04T05:00:00.000000000\",\"2021-02-05T05:00:00.000000000\",\"2021-02-08T05:00:00.000000000\",\"2021-02-09T05:00:00.000000000\",\"2021-02-10T05:00:00.000000000\",\"2021-02-11T05:00:00.000000000\",\"2021-02-12T05:00:00.000000000\",\"2021-02-16T05:00:00.000000000\",\"2021-02-17T05:00:00.000000000\",\"2021-02-18T05:00:00.000000000\",\"2021-02-19T05:00:00.000000000\",\"2021-02-22T05:00:00.000000000\",\"2021-02-23T05:00:00.000000000\",\"2021-02-24T05:00:00.000000000\",\"2021-02-25T05:00:00.000000000\",\"2021-02-26T05:00:00.000000000\",\"2021-03-01T05:00:00.000000000\",\"2021-03-02T05:00:00.000000000\",\"2021-03-03T05:00:00.000000000\",\"2021-03-04T05:00:00.000000000\",\"2021-03-05T05:00:00.000000000\",\"2021-03-08T05:00:00.000000000\",\"2021-03-09T05:00:00.000000000\",\"2021-03-10T05:00:00.000000000\",\"2021-03-11T05:00:00.000000000\",\"2021-03-12T05:00:00.000000000\",\"2021-03-15T04:00:00.000000000\",\"2021-03-16T04:00:00.000000000\",\"2021-03-17T04:00:00.000000000\",\"2021-03-18T04:00:00.000000000\",\"2021-03-19T04:00:00.000000000\",\"2021-03-22T04:00:00.000000000\",\"2021-03-23T04:00:00.000000000\",\"2021-03-24T04:00:00.000000000\",\"2021-03-25T04:00:00.000000000\",\"2021-03-26T04:00:00.000000000\",\"2021-03-29T04:00:00.000000000\",\"2021-03-30T04:00:00.000000000\",\"2021-03-31T04:00:00.000000000\",\"2021-04-01T04:00:00.000000000\",\"2021-04-05T04:00:00.000000000\",\"2021-04-06T04:00:00.000000000\",\"2021-04-07T04:00:00.000000000\",\"2021-04-08T04:00:00.000000000\",\"2021-04-09T04:00:00.000000000\",\"2021-04-12T04:00:00.000000000\",\"2021-04-13T04:00:00.000000000\",\"2021-04-14T04:00:00.000000000\",\"2021-04-15T04:00:00.000000000\",\"2021-04-16T04:00:00.000000000\",\"2021-04-19T04:00:00.000000000\",\"2021-04-20T04:00:00.000000000\",\"2021-04-21T04:00:00.000000000\",\"2021-04-22T04:00:00.000000000\",\"2021-04-23T04:00:00.000000000\",\"2021-04-26T04:00:00.000000000\",\"2021-04-27T04:00:00.000000000\",\"2021-04-28T04:00:00.000000000\",\"2021-04-29T04:00:00.000000000\",\"2021-04-30T04:00:00.000000000\",\"2021-05-03T04:00:00.000000000\",\"2021-05-04T04:00:00.000000000\",\"2021-05-05T04:00:00.000000000\",\"2021-05-06T04:00:00.000000000\",\"2021-05-07T04:00:00.000000000\",\"2021-05-10T04:00:00.000000000\",\"2021-05-11T04:00:00.000000000\",\"2021-05-12T04:00:00.000000000\",\"2021-05-13T04:00:00.000000000\",\"2021-05-14T04:00:00.000000000\",\"2021-05-17T04:00:00.000000000\",\"2021-05-18T04:00:00.000000000\",\"2021-05-19T04:00:00.000000000\",\"2021-05-20T04:00:00.000000000\",\"2021-05-21T04:00:00.000000000\",\"2021-05-24T04:00:00.000000000\",\"2021-05-25T04:00:00.000000000\",\"2021-05-26T04:00:00.000000000\",\"2021-05-27T04:00:00.000000000\",\"2021-05-28T04:00:00.000000000\",\"2021-06-01T04:00:00.000000000\",\"2021-06-02T04:00:00.000000000\",\"2021-06-03T04:00:00.000000000\",\"2021-06-04T04:00:00.000000000\",\"2021-06-07T04:00:00.000000000\",\"2021-06-08T04:00:00.000000000\",\"2021-06-09T04:00:00.000000000\",\"2021-06-10T04:00:00.000000000\",\"2021-06-11T04:00:00.000000000\",\"2021-06-14T04:00:00.000000000\",\"2021-06-15T04:00:00.000000000\",\"2021-06-16T04:00:00.000000000\",\"2021-06-17T04:00:00.000000000\",\"2021-06-18T04:00:00.000000000\",\"2021-06-21T04:00:00.000000000\",\"2021-06-22T04:00:00.000000000\",\"2021-06-23T04:00:00.000000000\",\"2021-06-24T04:00:00.000000000\",\"2021-06-25T04:00:00.000000000\",\"2021-06-28T04:00:00.000000000\",\"2021-06-29T04:00:00.000000000\",\"2021-06-30T04:00:00.000000000\",\"2021-07-01T04:00:00.000000000\",\"2021-07-02T04:00:00.000000000\",\"2021-07-06T04:00:00.000000000\",\"2021-07-07T04:00:00.000000000\",\"2021-07-08T04:00:00.000000000\",\"2021-07-09T04:00:00.000000000\",\"2021-07-12T04:00:00.000000000\",\"2021-07-13T04:00:00.000000000\",\"2021-07-14T04:00:00.000000000\",\"2021-07-15T04:00:00.000000000\",\"2021-07-16T04:00:00.000000000\",\"2021-07-19T04:00:00.000000000\",\"2021-07-20T04:00:00.000000000\",\"2021-07-21T04:00:00.000000000\",\"2021-07-22T04:00:00.000000000\",\"2021-07-23T04:00:00.000000000\",\"2021-07-26T04:00:00.000000000\",\"2021-07-27T04:00:00.000000000\",\"2021-07-28T04:00:00.000000000\",\"2021-07-29T04:00:00.000000000\",\"2021-07-30T04:00:00.000000000\",\"2021-08-02T04:00:00.000000000\",\"2021-08-03T04:00:00.000000000\",\"2021-08-04T04:00:00.000000000\",\"2021-08-05T04:00:00.000000000\",\"2021-08-06T04:00:00.000000000\",\"2021-08-09T04:00:00.000000000\",\"2021-08-10T04:00:00.000000000\",\"2021-08-11T04:00:00.000000000\",\"2021-08-12T04:00:00.000000000\",\"2021-08-13T04:00:00.000000000\",\"2021-08-16T04:00:00.000000000\",\"2021-08-17T04:00:00.000000000\",\"2021-08-18T04:00:00.000000000\",\"2021-08-19T04:00:00.000000000\",\"2021-08-20T04:00:00.000000000\",\"2021-08-23T04:00:00.000000000\",\"2021-08-24T04:00:00.000000000\",\"2021-08-25T04:00:00.000000000\",\"2021-08-26T04:00:00.000000000\",\"2021-08-27T04:00:00.000000000\",\"2021-08-30T04:00:00.000000000\",\"2021-08-31T04:00:00.000000000\",\"2021-09-01T04:00:00.000000000\",\"2021-09-02T04:00:00.000000000\",\"2021-09-03T04:00:00.000000000\",\"2021-09-07T04:00:00.000000000\",\"2021-09-08T04:00:00.000000000\",\"2021-09-09T04:00:00.000000000\",\"2021-09-10T04:00:00.000000000\",\"2021-09-13T04:00:00.000000000\",\"2021-09-14T04:00:00.000000000\",\"2021-09-15T04:00:00.000000000\",\"2021-09-16T04:00:00.000000000\",\"2021-09-17T04:00:00.000000000\",\"2021-09-20T04:00:00.000000000\",\"2021-09-21T04:00:00.000000000\",\"2021-09-22T04:00:00.000000000\",\"2021-09-23T04:00:00.000000000\",\"2021-09-24T04:00:00.000000000\",\"2021-09-27T04:00:00.000000000\",\"2021-09-28T04:00:00.000000000\",\"2021-09-29T04:00:00.000000000\",\"2021-09-30T04:00:00.000000000\",\"2021-10-01T04:00:00.000000000\",\"2021-10-04T04:00:00.000000000\",\"2021-10-05T04:00:00.000000000\",\"2021-10-06T04:00:00.000000000\",\"2021-10-07T04:00:00.000000000\",\"2021-10-08T04:00:00.000000000\",\"2021-10-11T04:00:00.000000000\",\"2021-10-12T04:00:00.000000000\",\"2021-10-13T04:00:00.000000000\",\"2021-10-14T04:00:00.000000000\",\"2021-10-15T04:00:00.000000000\",\"2021-10-18T04:00:00.000000000\",\"2021-10-19T04:00:00.000000000\",\"2021-10-20T04:00:00.000000000\",\"2021-10-21T04:00:00.000000000\",\"2021-10-22T04:00:00.000000000\",\"2021-10-25T04:00:00.000000000\",\"2021-10-26T04:00:00.000000000\",\"2021-10-27T04:00:00.000000000\",\"2021-10-28T04:00:00.000000000\",\"2021-10-29T04:00:00.000000000\",\"2021-11-01T04:00:00.000000000\",\"2021-11-02T04:00:00.000000000\",\"2021-11-03T04:00:00.000000000\",\"2021-11-04T04:00:00.000000000\",\"2021-11-05T04:00:00.000000000\",\"2021-11-08T05:00:00.000000000\",\"2021-11-09T05:00:00.000000000\",\"2021-11-10T05:00:00.000000000\",\"2021-11-11T05:00:00.000000000\",\"2021-11-12T05:00:00.000000000\",\"2021-11-15T05:00:00.000000000\",\"2021-11-16T05:00:00.000000000\",\"2021-11-17T05:00:00.000000000\",\"2021-11-18T05:00:00.000000000\",\"2021-11-19T05:00:00.000000000\",\"2021-11-22T05:00:00.000000000\",\"2021-11-23T05:00:00.000000000\",\"2021-11-24T05:00:00.000000000\",\"2021-11-26T05:00:00.000000000\",\"2021-11-29T05:00:00.000000000\",\"2021-11-30T05:00:00.000000000\",\"2021-12-01T05:00:00.000000000\",\"2021-12-02T05:00:00.000000000\",\"2021-12-03T05:00:00.000000000\",\"2021-12-06T05:00:00.000000000\",\"2021-12-07T05:00:00.000000000\",\"2021-12-08T05:00:00.000000000\",\"2021-12-09T05:00:00.000000000\",\"2021-12-10T05:00:00.000000000\",\"2021-12-13T05:00:00.000000000\",\"2021-12-14T05:00:00.000000000\",\"2021-12-15T05:00:00.000000000\",\"2021-12-16T05:00:00.000000000\",\"2021-12-17T05:00:00.000000000\",\"2021-12-20T05:00:00.000000000\",\"2021-12-21T05:00:00.000000000\",\"2021-12-22T05:00:00.000000000\",\"2021-12-23T05:00:00.000000000\",\"2021-12-27T05:00:00.000000000\",\"2021-12-28T05:00:00.000000000\",\"2021-12-29T05:00:00.000000000\",\"2021-12-30T05:00:00.000000000\",\"2021-12-31T05:00:00.000000000\",\"2022-01-03T05:00:00.000000000\",\"2022-01-04T05:00:00.000000000\",\"2022-01-05T05:00:00.000000000\",\"2022-01-06T05:00:00.000000000\",\"2022-01-07T05:00:00.000000000\",\"2022-01-10T05:00:00.000000000\",\"2022-01-11T05:00:00.000000000\",\"2022-01-12T05:00:00.000000000\",\"2022-01-13T05:00:00.000000000\",\"2022-01-14T05:00:00.000000000\",\"2022-01-18T05:00:00.000000000\",\"2022-01-19T05:00:00.000000000\",\"2022-01-20T05:00:00.000000000\",\"2022-01-21T05:00:00.000000000\",\"2022-01-24T05:00:00.000000000\",\"2022-01-25T05:00:00.000000000\",\"2022-01-26T05:00:00.000000000\",\"2022-01-27T05:00:00.000000000\",\"2022-01-28T05:00:00.000000000\",\"2022-01-31T05:00:00.000000000\",\"2022-02-01T05:00:00.000000000\",\"2022-02-02T05:00:00.000000000\",\"2022-02-03T05:00:00.000000000\",\"2022-02-04T05:00:00.000000000\",\"2022-02-07T05:00:00.000000000\",\"2022-02-08T05:00:00.000000000\",\"2022-02-09T05:00:00.000000000\",\"2022-02-10T05:00:00.000000000\",\"2022-02-11T05:00:00.000000000\",\"2022-02-14T05:00:00.000000000\",\"2022-02-15T05:00:00.000000000\",\"2022-02-16T05:00:00.000000000\",\"2022-02-17T05:00:00.000000000\",\"2022-02-18T05:00:00.000000000\",\"2022-02-22T05:00:00.000000000\",\"2022-02-23T05:00:00.000000000\",\"2022-02-24T05:00:00.000000000\",\"2022-02-25T05:00:00.000000000\",\"2022-02-28T05:00:00.000000000\",\"2022-03-01T05:00:00.000000000\",\"2022-03-02T05:00:00.000000000\",\"2022-03-03T05:00:00.000000000\",\"2022-03-04T05:00:00.000000000\",\"2022-03-07T05:00:00.000000000\",\"2022-03-08T05:00:00.000000000\",\"2022-03-09T05:00:00.000000000\",\"2022-03-10T05:00:00.000000000\",\"2022-03-11T05:00:00.000000000\",\"2022-03-14T04:00:00.000000000\",\"2022-03-15T04:00:00.000000000\",\"2022-03-16T04:00:00.000000000\",\"2022-03-17T04:00:00.000000000\",\"2022-03-18T04:00:00.000000000\",\"2022-03-21T04:00:00.000000000\",\"2022-03-22T04:00:00.000000000\",\"2022-03-23T04:00:00.000000000\",\"2022-03-24T04:00:00.000000000\",\"2022-03-25T04:00:00.000000000\",\"2022-03-28T04:00:00.000000000\",\"2022-03-29T04:00:00.000000000\",\"2022-03-30T04:00:00.000000000\",\"2022-03-31T04:00:00.000000000\",\"2022-04-01T04:00:00.000000000\",\"2022-04-04T04:00:00.000000000\",\"2022-04-05T04:00:00.000000000\",\"2022-04-06T04:00:00.000000000\",\"2022-04-07T04:00:00.000000000\",\"2022-04-08T04:00:00.000000000\",\"2022-04-11T04:00:00.000000000\",\"2022-04-12T04:00:00.000000000\",\"2022-04-13T04:00:00.000000000\",\"2022-04-14T04:00:00.000000000\",\"2022-04-18T04:00:00.000000000\",\"2022-04-19T04:00:00.000000000\",\"2022-04-20T04:00:00.000000000\",\"2022-04-21T04:00:00.000000000\",\"2022-04-22T04:00:00.000000000\",\"2022-04-25T04:00:00.000000000\",\"2022-04-26T04:00:00.000000000\",\"2022-04-27T04:00:00.000000000\",\"2022-04-28T04:00:00.000000000\",\"2022-04-29T04:00:00.000000000\",\"2022-05-02T04:00:00.000000000\",\"2022-05-03T04:00:00.000000000\",\"2022-05-04T04:00:00.000000000\",\"2022-05-05T04:00:00.000000000\",\"2022-05-06T04:00:00.000000000\",\"2022-05-09T04:00:00.000000000\",\"2022-05-10T04:00:00.000000000\",\"2022-05-11T04:00:00.000000000\",\"2022-05-12T04:00:00.000000000\",\"2022-05-13T04:00:00.000000000\",\"2022-05-16T04:00:00.000000000\",\"2022-05-17T04:00:00.000000000\",\"2022-05-18T04:00:00.000000000\",\"2022-05-19T04:00:00.000000000\",\"2022-05-20T04:00:00.000000000\",\"2022-05-23T04:00:00.000000000\",\"2022-05-24T04:00:00.000000000\",\"2022-05-25T04:00:00.000000000\",\"2022-05-26T04:00:00.000000000\",\"2022-05-27T04:00:00.000000000\",\"2022-05-31T04:00:00.000000000\",\"2022-06-01T04:00:00.000000000\",\"2022-06-02T04:00:00.000000000\",\"2022-06-03T04:00:00.000000000\",\"2022-06-06T04:00:00.000000000\",\"2022-06-07T04:00:00.000000000\",\"2022-06-08T04:00:00.000000000\",\"2022-06-09T04:00:00.000000000\",\"2022-06-10T04:00:00.000000000\",\"2022-06-13T04:00:00.000000000\",\"2022-06-14T04:00:00.000000000\",\"2022-06-15T04:00:00.000000000\",\"2022-06-16T04:00:00.000000000\",\"2022-06-17T04:00:00.000000000\",\"2022-06-21T04:00:00.000000000\",\"2022-06-22T04:00:00.000000000\",\"2022-06-23T04:00:00.000000000\",\"2022-06-24T04:00:00.000000000\",\"2022-06-27T04:00:00.000000000\",\"2022-06-28T04:00:00.000000000\",\"2022-06-29T04:00:00.000000000\",\"2022-06-30T04:00:00.000000000\",\"2022-07-01T04:00:00.000000000\",\"2022-07-05T04:00:00.000000000\",\"2022-07-06T04:00:00.000000000\",\"2022-07-07T04:00:00.000000000\",\"2022-07-08T04:00:00.000000000\",\"2022-07-11T04:00:00.000000000\",\"2022-07-12T04:00:00.000000000\",\"2022-07-13T04:00:00.000000000\",\"2022-07-14T04:00:00.000000000\",\"2022-07-15T04:00:00.000000000\",\"2022-07-18T04:00:00.000000000\",\"2022-07-19T04:00:00.000000000\",\"2022-07-20T04:00:00.000000000\",\"2022-07-21T04:00:00.000000000\",\"2022-07-22T04:00:00.000000000\",\"2022-07-25T04:00:00.000000000\",\"2022-07-26T04:00:00.000000000\",\"2022-07-27T04:00:00.000000000\",\"2022-07-28T04:00:00.000000000\",\"2022-07-29T04:00:00.000000000\",\"2022-08-01T04:00:00.000000000\",\"2022-08-02T04:00:00.000000000\",\"2022-08-03T04:00:00.000000000\",\"2022-08-04T04:00:00.000000000\",\"2022-08-05T04:00:00.000000000\",\"2022-08-08T04:00:00.000000000\",\"2022-08-09T04:00:00.000000000\",\"2022-08-10T04:00:00.000000000\",\"2022-08-11T04:00:00.000000000\",\"2022-08-12T04:00:00.000000000\",\"2022-08-15T04:00:00.000000000\",\"2022-08-16T04:00:00.000000000\",\"2022-08-17T04:00:00.000000000\",\"2022-08-18T04:00:00.000000000\",\"2022-08-19T04:00:00.000000000\",\"2022-08-22T04:00:00.000000000\",\"2022-08-23T04:00:00.000000000\",\"2022-08-24T04:00:00.000000000\",\"2022-08-25T04:00:00.000000000\",\"2022-08-26T04:00:00.000000000\",\"2022-08-29T04:00:00.000000000\",\"2022-08-30T04:00:00.000000000\",\"2022-08-31T04:00:00.000000000\",\"2022-09-01T04:00:00.000000000\",\"2022-09-02T04:00:00.000000000\",\"2022-09-06T04:00:00.000000000\",\"2022-09-07T04:00:00.000000000\",\"2022-09-08T04:00:00.000000000\",\"2022-09-09T04:00:00.000000000\",\"2022-09-12T04:00:00.000000000\",\"2022-09-13T04:00:00.000000000\",\"2022-09-14T04:00:00.000000000\",\"2022-09-15T04:00:00.000000000\",\"2022-09-16T04:00:00.000000000\",\"2022-09-19T04:00:00.000000000\",\"2022-09-20T04:00:00.000000000\",\"2022-09-21T04:00:00.000000000\",\"2022-09-22T04:00:00.000000000\",\"2022-09-23T04:00:00.000000000\",\"2022-09-26T04:00:00.000000000\",\"2022-09-27T04:00:00.000000000\",\"2022-09-28T04:00:00.000000000\",\"2022-09-29T04:00:00.000000000\",\"2022-09-30T04:00:00.000000000\",\"2022-10-03T04:00:00.000000000\",\"2022-10-04T04:00:00.000000000\",\"2022-10-05T04:00:00.000000000\",\"2022-10-06T04:00:00.000000000\",\"2022-10-07T04:00:00.000000000\",\"2022-10-10T04:00:00.000000000\",\"2022-10-11T04:00:00.000000000\",\"2022-10-12T04:00:00.000000000\",\"2022-10-13T04:00:00.000000000\",\"2022-10-14T04:00:00.000000000\",\"2022-10-17T04:00:00.000000000\",\"2022-10-18T04:00:00.000000000\",\"2022-10-19T04:00:00.000000000\",\"2022-10-20T04:00:00.000000000\",\"2022-10-21T04:00:00.000000000\",\"2022-10-24T04:00:00.000000000\",\"2022-10-25T04:00:00.000000000\",\"2022-10-26T04:00:00.000000000\",\"2022-10-27T04:00:00.000000000\",\"2022-10-28T04:00:00.000000000\",\"2022-10-31T04:00:00.000000000\",\"2022-11-01T04:00:00.000000000\",\"2022-11-02T04:00:00.000000000\",\"2022-11-03T04:00:00.000000000\",\"2022-11-04T04:00:00.000000000\",\"2022-11-07T05:00:00.000000000\",\"2022-11-08T05:00:00.000000000\",\"2022-11-09T05:00:00.000000000\",\"2022-11-10T05:00:00.000000000\",\"2022-11-11T05:00:00.000000000\",\"2022-11-14T05:00:00.000000000\",\"2022-11-15T05:00:00.000000000\",\"2022-11-16T05:00:00.000000000\",\"2022-11-17T05:00:00.000000000\",\"2022-11-18T05:00:00.000000000\",\"2022-11-21T05:00:00.000000000\",\"2022-11-22T05:00:00.000000000\",\"2022-11-23T05:00:00.000000000\",\"2022-11-25T05:00:00.000000000\",\"2022-11-28T05:00:00.000000000\",\"2022-11-29T05:00:00.000000000\",\"2022-11-30T05:00:00.000000000\",\"2022-12-01T05:00:00.000000000\",\"2022-12-02T05:00:00.000000000\",\"2022-12-05T05:00:00.000000000\",\"2022-12-06T05:00:00.000000000\",\"2022-12-07T05:00:00.000000000\",\"2022-12-08T05:00:00.000000000\",\"2022-12-09T05:00:00.000000000\",\"2022-12-12T05:00:00.000000000\",\"2022-12-13T05:00:00.000000000\",\"2022-12-14T05:00:00.000000000\",\"2022-12-15T05:00:00.000000000\",\"2022-12-16T05:00:00.000000000\",\"2022-12-19T05:00:00.000000000\",\"2022-12-20T05:00:00.000000000\",\"2022-12-21T05:00:00.000000000\",\"2022-12-22T05:00:00.000000000\",\"2022-12-23T05:00:00.000000000\",\"2022-12-27T05:00:00.000000000\",\"2022-12-28T05:00:00.000000000\",\"2022-12-29T05:00:00.000000000\",\"2022-12-30T05:00:00.000000000\",\"2023-01-03T05:00:00.000000000\",\"2023-01-04T05:00:00.000000000\",\"2023-01-05T05:00:00.000000000\",\"2023-01-06T05:00:00.000000000\",\"2023-01-09T05:00:00.000000000\",\"2023-01-10T05:00:00.000000000\",\"2023-01-11T05:00:00.000000000\",\"2023-01-12T05:00:00.000000000\",\"2023-01-13T05:00:00.000000000\",\"2023-01-17T05:00:00.000000000\",\"2023-01-18T05:00:00.000000000\",\"2023-01-19T05:00:00.000000000\",\"2023-01-20T05:00:00.000000000\",\"2023-01-23T05:00:00.000000000\",\"2023-01-24T05:00:00.000000000\",\"2023-01-25T05:00:00.000000000\",\"2023-01-26T05:00:00.000000000\",\"2023-01-27T05:00:00.000000000\",\"2023-01-30T05:00:00.000000000\",\"2023-01-31T05:00:00.000000000\",\"2023-02-01T05:00:00.000000000\",\"2023-02-02T05:00:00.000000000\",\"2023-02-03T05:00:00.000000000\",\"2023-02-06T05:00:00.000000000\",\"2023-02-07T05:00:00.000000000\",\"2023-02-08T05:00:00.000000000\",\"2023-02-09T05:00:00.000000000\",\"2023-02-10T05:00:00.000000000\",\"2023-02-13T05:00:00.000000000\",\"2023-02-14T05:00:00.000000000\",\"2023-02-15T05:00:00.000000000\",\"2023-02-16T05:00:00.000000000\",\"2023-02-17T05:00:00.000000000\",\"2023-02-21T05:00:00.000000000\",\"2023-02-22T05:00:00.000000000\",\"2023-02-23T05:00:00.000000000\",\"2023-02-24T05:00:00.000000000\",\"2023-02-27T05:00:00.000000000\",\"2023-02-28T05:00:00.000000000\",\"2023-03-01T05:00:00.000000000\",\"2023-03-02T05:00:00.000000000\",\"2023-03-03T05:00:00.000000000\",\"2023-03-06T05:00:00.000000000\",\"2023-03-07T05:00:00.000000000\",\"2023-03-08T05:00:00.000000000\",\"2023-03-09T05:00:00.000000000\",\"2023-03-10T05:00:00.000000000\",\"2023-03-13T04:00:00.000000000\",\"2023-03-14T04:00:00.000000000\",\"2023-03-15T04:00:00.000000000\",\"2023-03-16T04:00:00.000000000\",\"2023-03-17T04:00:00.000000000\",\"2023-03-20T04:00:00.000000000\",\"2023-03-21T04:00:00.000000000\",\"2023-03-22T04:00:00.000000000\",\"2023-03-23T04:00:00.000000000\",\"2023-03-24T04:00:00.000000000\",\"2023-03-27T04:00:00.000000000\",\"2023-03-28T04:00:00.000000000\",\"2023-03-29T04:00:00.000000000\",\"2023-03-30T04:00:00.000000000\",\"2023-03-31T04:00:00.000000000\",\"2023-04-03T04:00:00.000000000\",\"2023-04-04T04:00:00.000000000\",\"2023-04-05T04:00:00.000000000\",\"2023-04-06T04:00:00.000000000\",\"2023-04-10T04:00:00.000000000\",\"2023-04-11T04:00:00.000000000\",\"2023-04-12T04:00:00.000000000\",\"2023-04-13T04:00:00.000000000\",\"2023-04-14T04:00:00.000000000\",\"2023-04-17T04:00:00.000000000\",\"2023-04-18T04:00:00.000000000\",\"2023-04-19T04:00:00.000000000\",\"2023-04-20T04:00:00.000000000\",\"2023-04-21T04:00:00.000000000\",\"2023-04-24T04:00:00.000000000\",\"2023-04-25T04:00:00.000000000\",\"2023-04-26T04:00:00.000000000\",\"2023-04-27T04:00:00.000000000\",\"2023-04-28T04:00:00.000000000\",\"2023-05-01T04:00:00.000000000\",\"2023-05-02T04:00:00.000000000\",\"2023-05-03T04:00:00.000000000\",\"2023-05-04T04:00:00.000000000\",\"2023-05-05T04:00:00.000000000\",\"2023-05-08T04:00:00.000000000\",\"2023-05-09T04:00:00.000000000\",\"2023-05-10T04:00:00.000000000\",\"2023-05-11T04:00:00.000000000\",\"2023-05-12T04:00:00.000000000\",\"2023-05-15T04:00:00.000000000\",\"2023-05-16T04:00:00.000000000\",\"2023-05-17T04:00:00.000000000\",\"2023-05-18T04:00:00.000000000\",\"2023-05-19T04:00:00.000000000\",\"2023-05-22T04:00:00.000000000\",\"2023-05-23T04:00:00.000000000\",\"2023-05-24T04:00:00.000000000\",\"2023-05-25T04:00:00.000000000\",\"2023-05-26T04:00:00.000000000\",\"2023-05-30T04:00:00.000000000\",\"2023-05-31T04:00:00.000000000\",\"2023-06-01T04:00:00.000000000\",\"2023-06-02T04:00:00.000000000\",\"2023-06-05T04:00:00.000000000\",\"2023-06-06T04:00:00.000000000\",\"2023-06-07T04:00:00.000000000\",\"2023-06-08T04:00:00.000000000\",\"2023-06-09T04:00:00.000000000\",\"2023-06-12T04:00:00.000000000\",\"2023-06-13T04:00:00.000000000\",\"2023-06-14T04:00:00.000000000\",\"2023-06-15T04:00:00.000000000\",\"2023-06-16T04:00:00.000000000\",\"2023-06-20T04:00:00.000000000\",\"2023-06-21T04:00:00.000000000\",\"2023-06-22T04:00:00.000000000\",\"2023-06-23T04:00:00.000000000\",\"2023-06-26T04:00:00.000000000\",\"2023-06-27T04:00:00.000000000\",\"2023-06-28T04:00:00.000000000\",\"2023-06-29T04:00:00.000000000\",\"2023-06-30T04:00:00.000000000\",\"2023-07-03T04:00:00.000000000\",\"2023-07-05T04:00:00.000000000\",\"2023-07-06T04:00:00.000000000\",\"2023-07-07T04:00:00.000000000\",\"2023-07-10T04:00:00.000000000\",\"2023-07-11T04:00:00.000000000\",\"2023-07-12T04:00:00.000000000\",\"2023-07-13T04:00:00.000000000\",\"2023-07-14T04:00:00.000000000\",\"2023-07-17T04:00:00.000000000\",\"2023-07-18T04:00:00.000000000\",\"2023-07-19T04:00:00.000000000\",\"2023-07-20T04:00:00.000000000\",\"2023-07-21T04:00:00.000000000\",\"2023-07-24T04:00:00.000000000\",\"2023-07-25T04:00:00.000000000\",\"2023-07-26T04:00:00.000000000\",\"2023-07-27T04:00:00.000000000\",\"2023-07-28T04:00:00.000000000\",\"2023-07-31T04:00:00.000000000\",\"2023-08-01T04:00:00.000000000\",\"2023-08-02T04:00:00.000000000\",\"2023-08-03T04:00:00.000000000\",\"2023-08-04T04:00:00.000000000\",\"2023-08-07T04:00:00.000000000\",\"2023-08-08T04:00:00.000000000\",\"2023-08-09T04:00:00.000000000\",\"2023-08-10T04:00:00.000000000\",\"2023-08-11T04:00:00.000000000\",\"2023-08-14T04:00:00.000000000\",\"2023-08-15T04:00:00.000000000\",\"2023-08-16T04:00:00.000000000\",\"2023-08-17T04:00:00.000000000\",\"2023-08-18T04:00:00.000000000\",\"2023-08-21T04:00:00.000000000\",\"2023-08-22T04:00:00.000000000\",\"2023-08-23T04:00:00.000000000\",\"2023-08-24T04:00:00.000000000\",\"2023-08-25T04:00:00.000000000\",\"2023-08-28T04:00:00.000000000\",\"2023-08-29T04:00:00.000000000\",\"2023-08-30T04:00:00.000000000\",\"2023-08-31T04:00:00.000000000\",\"2023-09-01T04:00:00.000000000\",\"2023-09-05T04:00:00.000000000\",\"2023-09-06T04:00:00.000000000\",\"2023-09-07T04:00:00.000000000\",\"2023-09-08T04:00:00.000000000\",\"2023-09-11T04:00:00.000000000\",\"2023-09-12T04:00:00.000000000\",\"2023-09-13T04:00:00.000000000\",\"2023-09-14T04:00:00.000000000\",\"2023-09-15T04:00:00.000000000\",\"2023-09-18T04:00:00.000000000\",\"2023-09-19T04:00:00.000000000\",\"2023-09-20T04:00:00.000000000\",\"2023-09-21T04:00:00.000000000\",\"2023-09-22T04:00:00.000000000\",\"2023-09-25T04:00:00.000000000\",\"2023-09-26T04:00:00.000000000\",\"2023-09-27T04:00:00.000000000\",\"2023-09-28T04:00:00.000000000\",\"2023-09-29T04:00:00.000000000\",\"2023-10-02T04:00:00.000000000\",\"2023-10-03T04:00:00.000000000\",\"2023-10-04T04:00:00.000000000\",\"2023-10-05T04:00:00.000000000\",\"2023-10-06T04:00:00.000000000\",\"2023-10-09T04:00:00.000000000\",\"2023-10-10T04:00:00.000000000\",\"2023-10-11T04:00:00.000000000\",\"2023-10-12T04:00:00.000000000\",\"2023-10-13T04:00:00.000000000\",\"2023-10-16T04:00:00.000000000\",\"2023-10-17T04:00:00.000000000\",\"2023-10-18T04:00:00.000000000\",\"2023-10-19T04:00:00.000000000\",\"2023-10-20T04:00:00.000000000\",\"2023-10-23T04:00:00.000000000\",\"2023-10-24T04:00:00.000000000\",\"2023-10-25T04:00:00.000000000\",\"2023-10-26T04:00:00.000000000\",\"2023-10-27T04:00:00.000000000\",\"2023-10-30T04:00:00.000000000\",\"2023-10-31T04:00:00.000000000\",\"2023-11-01T04:00:00.000000000\",\"2023-11-02T04:00:00.000000000\",\"2023-11-03T04:00:00.000000000\",\"2023-11-06T05:00:00.000000000\",\"2023-11-07T05:00:00.000000000\",\"2023-11-08T05:00:00.000000000\",\"2023-11-09T05:00:00.000000000\",\"2023-11-10T05:00:00.000000000\",\"2023-11-13T05:00:00.000000000\",\"2023-11-14T05:00:00.000000000\",\"2023-11-15T05:00:00.000000000\",\"2023-11-16T05:00:00.000000000\",\"2023-11-17T05:00:00.000000000\",\"2023-11-20T05:00:00.000000000\",\"2023-11-21T05:00:00.000000000\",\"2023-11-22T05:00:00.000000000\",\"2023-11-24T05:00:00.000000000\",\"2023-11-27T05:00:00.000000000\",\"2023-11-28T05:00:00.000000000\",\"2023-11-29T05:00:00.000000000\",\"2023-11-30T05:00:00.000000000\",\"2023-12-01T05:00:00.000000000\",\"2023-12-04T05:00:00.000000000\",\"2023-12-05T05:00:00.000000000\",\"2023-12-06T05:00:00.000000000\",\"2023-12-07T05:00:00.000000000\",\"2023-12-08T05:00:00.000000000\",\"2023-12-11T05:00:00.000000000\",\"2023-12-12T05:00:00.000000000\",\"2023-12-13T05:00:00.000000000\",\"2023-12-14T05:00:00.000000000\",\"2023-12-15T05:00:00.000000000\",\"2023-12-18T05:00:00.000000000\",\"2023-12-19T05:00:00.000000000\",\"2023-12-20T05:00:00.000000000\",\"2023-12-21T05:00:00.000000000\",\"2023-12-22T05:00:00.000000000\",\"2023-12-26T05:00:00.000000000\",\"2023-12-27T05:00:00.000000000\",\"2023-12-28T05:00:00.000000000\",\"2023-12-29T05:00:00.000000000\",\"2024-01-02T05:00:00.000000000\",\"2024-01-03T05:00:00.000000000\",\"2024-01-04T05:00:00.000000000\",\"2024-01-05T05:00:00.000000000\",\"2024-01-08T05:00:00.000000000\",\"2024-01-09T05:00:00.000000000\",\"2024-01-10T05:00:00.000000000\",\"2024-01-11T05:00:00.000000000\",\"2024-01-12T05:00:00.000000000\",\"2024-01-16T05:00:00.000000000\",\"2024-01-17T05:00:00.000000000\",\"2024-01-18T05:00:00.000000000\",\"2024-01-19T05:00:00.000000000\",\"2024-01-22T05:00:00.000000000\",\"2024-01-23T05:00:00.000000000\",\"2024-01-24T05:00:00.000000000\",\"2024-01-25T05:00:00.000000000\",\"2024-01-26T05:00:00.000000000\",\"2024-01-29T05:00:00.000000000\",\"2024-01-30T05:00:00.000000000\",\"2024-01-31T05:00:00.000000000\",\"2024-02-01T05:00:00.000000000\",\"2024-02-02T05:00:00.000000000\",\"2024-02-05T05:00:00.000000000\",\"2024-02-06T05:00:00.000000000\",\"2024-02-07T05:00:00.000000000\",\"2024-02-08T05:00:00.000000000\",\"2024-02-09T05:00:00.000000000\",\"2024-02-12T05:00:00.000000000\",\"2024-02-13T05:00:00.000000000\",\"2024-02-14T05:00:00.000000000\",\"2024-02-15T05:00:00.000000000\",\"2024-02-16T05:00:00.000000000\",\"2024-02-20T05:00:00.000000000\",\"2024-02-21T05:00:00.000000000\",\"2024-02-22T05:00:00.000000000\",\"2024-02-23T05:00:00.000000000\",\"2024-02-26T05:00:00.000000000\",\"2024-02-27T05:00:00.000000000\",\"2024-02-28T05:00:00.000000000\",\"2024-02-29T05:00:00.000000000\",\"2024-03-01T05:00:00.000000000\",\"2024-03-04T05:00:00.000000000\",\"2024-03-05T05:00:00.000000000\",\"2024-03-06T05:00:00.000000000\",\"2024-03-07T05:00:00.000000000\",\"2024-03-08T05:00:00.000000000\",\"2024-03-11T04:00:00.000000000\",\"2024-03-12T04:00:00.000000000\",\"2024-03-13T04:00:00.000000000\",\"2024-03-14T04:00:00.000000000\",\"2024-03-15T04:00:00.000000000\",\"2024-03-18T04:00:00.000000000\",\"2024-03-19T04:00:00.000000000\",\"2024-03-20T04:00:00.000000000\",\"2024-03-21T04:00:00.000000000\",\"2024-03-22T04:00:00.000000000\",\"2024-03-25T04:00:00.000000000\",\"2024-03-26T04:00:00.000000000\",\"2024-03-27T04:00:00.000000000\",\"2024-03-28T04:00:00.000000000\",\"2024-04-01T04:00:00.000000000\",\"2024-04-02T04:00:00.000000000\",\"2024-04-03T04:00:00.000000000\",\"2024-04-04T04:00:00.000000000\",\"2024-04-05T04:00:00.000000000\",\"2024-04-08T04:00:00.000000000\",\"2024-04-09T04:00:00.000000000\",\"2024-04-10T04:00:00.000000000\",\"2024-04-11T04:00:00.000000000\",\"2024-04-12T04:00:00.000000000\",\"2024-04-15T04:00:00.000000000\",\"2024-04-16T04:00:00.000000000\",\"2024-04-17T04:00:00.000000000\",\"2024-04-18T04:00:00.000000000\",\"2024-04-19T04:00:00.000000000\",\"2024-04-22T04:00:00.000000000\",\"2024-04-23T04:00:00.000000000\",\"2024-04-24T04:00:00.000000000\",\"2024-04-25T04:00:00.000000000\",\"2024-04-26T04:00:00.000000000\",\"2024-04-29T04:00:00.000000000\",\"2024-04-30T04:00:00.000000000\",\"2024-05-01T04:00:00.000000000\",\"2024-05-02T04:00:00.000000000\",\"2024-05-03T04:00:00.000000000\",\"2024-05-06T04:00:00.000000000\",\"2024-05-07T04:00:00.000000000\",\"2024-05-08T04:00:00.000000000\",\"2024-05-09T04:00:00.000000000\",\"2024-05-10T04:00:00.000000000\",\"2024-05-13T04:00:00.000000000\",\"2024-05-14T04:00:00.000000000\",\"2024-05-15T04:00:00.000000000\",\"2024-05-16T04:00:00.000000000\",\"2024-05-17T04:00:00.000000000\",\"2024-05-20T04:00:00.000000000\",\"2024-05-21T04:00:00.000000000\",\"2024-05-22T04:00:00.000000000\",\"2024-05-23T04:00:00.000000000\",\"2024-05-24T04:00:00.000000000\",\"2024-05-28T04:00:00.000000000\",\"2024-05-29T04:00:00.000000000\",\"2024-05-30T04:00:00.000000000\",\"2024-05-31T04:00:00.000000000\",\"2024-06-03T04:00:00.000000000\",\"2024-06-04T04:00:00.000000000\",\"2024-06-05T04:00:00.000000000\",\"2024-06-06T04:00:00.000000000\",\"2024-06-07T04:00:00.000000000\",\"2024-06-10T04:00:00.000000000\",\"2024-06-11T04:00:00.000000000\"],\"y\":[146.0,146.5500030517578,135.0,126.69000244140625,125.83000183105469,143.0,150.4499969482422,155.30999755859375,170.0,162.81399536132812,159.16000366210938,158.60000610351562,150.0,151.33999633789062,146.89999389648438,150.99000549316406,138.27999877929688,145.75,146.3699951171875,153.4499969482422,147.99000549316406,148.0800018310547,160.80999755859375,175.5399932861328,184.5800018310547,173.0,176.00999450683594,164.99000549316406,178.08999633789062,186.0500030517578,180.0,187.63999938964844,202.60000610351562,190.7100067138672,187.47999572753906,183.22000122070312,181.97999572753906,187.07000732421875,197.0,199.92999267578125,199.2030029296875,205.47999572753906,213.5,214.45799255371094,216.24000549316406,207.0500030517578,199.00999450683594,203.9499969482422,200.6999969482422,189.0,190.97999572753906,197.41000366210938,194.17999267578125,195.82000732421875,195.6300048828125,186.97000122070312,178.63999938964844,182.52000427246094,179.99200439453125,184.99000549316406,184.57000732421875,189.89999389648438,196.27000427246094,209.53799438476562,209.11000061035156,195.6300048828125,196.8000030517578,193.00999450683594,196.85000610351562,195.5,189.0,173.10000610351562,178.41600036621094,175.36000061035156,182.35000610351562,185.42999267578125,192.5,191.66000366210938,188.6999969482422,189.3800048828125,181.6479949951172,179.6199951171875,179.67999267578125,175.26499938964844,179.5,177.0,176.01199340820312,177.32000732421875,173.1840057373047,168.08999633789062,168.49000549316406,172.91900634765625,175.2100067138672,176.1649932861328,174.43699645996094,182.75,173.00399780273438,173.19000244140625,167.01499938964844,169.3000030517578,161.91000366210938,156.5,150.28399658203125,139.10000610351562,140.89999389648438,142.25,137.67999267578125,137.156005859375,134.0,129.9499969482422,138.83900451660156,136.5500030517578,135.5,137.39999389648438,134.94000244140625,135.07000732421875,144.75999450683594,143.88999938964844,145.35000610351562,149.5500030517578,145.8300018310547,150.9600067138672,150.60000610351562,148.57000732421875,142.14999389648438,145.8699951171875,149.25,149.1999969482422,150.9499969482422,148.99000549316406,150.3800048828125,152.52000427246094,149.75,149.75999450683594,152.6699981689453,151.22999572753906,148.61500549316406,149.75,145.5449981689453,154.5,153.30999755859375,150.0800018310547,148.14999389648438,140.42999267578125,143.3000030517578,148.99000549316406,147.69500732421875,143.86000061035156,139.17999267578125,139.69000244140625,131.36000061035156,132.75,136.7100067138672,141.2899932861328,139.8000030517578,139.1300048828125,141.2550048828125,141.30999755859375,143.64599609375,141.75,143.85000610351562,147.72799682617188,145.10000610351562,146.6699981689453,148.99000549316406,148.74000549316406,149.36500549316406,147.5399932861328,148.86000061035156,146.66000366210938,151.99000549316406,145.0,144.02000427246094,143.79100036621094,142.0,144.89999389648438,147.0,158.76400756835938,159.33999633789062,152.25100708007812,154.41000366210938,155.94000244140625,154.83999633789062,156.5,158.0500030517578,159.72000122070312,163.22999572753906,163.0,166.9499969482422,160.25,160.66000366210938,162.32000732421875,165.25999450683594,169.3000030517578,162.24000549316406,164.0,170.0290069580078,171.5500030517578,174.52999877929688,175.0,172.51600646972656,170.10000610351562,168.10000610351562,170.30999755859375,171.99000549316406,165.6699981689453,161.38999938964844,170.0,170.10000610351562,170.0,172.69400024414062,173.0,175.24000549316406,171.89999389648438,167.5,172.57000732421875,170.05999755859375,169.07400512695312,169.3000030517578,166.69000244140625,170.39999389648438,170.74000549316406,170.1999969482422,171.38999938964844,170.5,174.9499969482422,171.88999938964844,175.9499969482422,186.14999389648438,203.35000610351562,201.44000244140625,190.22999572753906,195.1999969482422,192.46499633789062,206.1999969482422,205.58999633789062,207.0,199.33999633789062,196.60000610351562,190.44000244140625,181.14300537109375,175.6300048828125,167.75999450683594,176.8800048828125,176.40499877929688,174.00999450683594,161.36000061035156,168.97999572753906,167.27499389648438,185.61000061035156,186.0,182.08999633789062,178.14999389648438,178.25,168.29800415039062,167.63999938964844,166.25,154.6199951171875,151.16000366210938,159.5,165.67999267578125,170.5,169.80599975585938,171.32000732421875,169.52000427246094,167.05999755859375,168.77999877929688,165.2969970703125,174.1540069580078,169.88299560546875,160.2899932861328,159.17999267578125,159.75999450683594,160.7100067138672,170.24000549316406,170.23300170898438,165.75,156.91000366210938,157.0,157.80799865722656,156.81500244140625,150.0,143.89999389648438,149.28500366210938,143.47999572753906,138.5449981689453,144.80299377441406,155.35000610351562,156.31300354003906,147.97000122070312,150.13999938964844,156.7899932861328,154.0,165.3699951171875,165.2449951171875,175.3090057373047,166.6300048828125,172.9199981689453,178.2949981689453,184.89999389648438,180.25999450683594,172.1300048828125,165.92999267578125,141.3000030517578,159.25999450683594,155.02499389648438,150.52999877929688,152.47999572753906,158.3300018310547,150.77000427246094,145.0,131.6300048828125,145.42999267578125,145.22000122070312,154.1300048828125,143.41000366210938,140.0,148.14500427246094,153.7899932861328,156.07000732421875,164.57000732421875,163.61000061035156,163.63999938964844,164.80999755859375,169.94000244140625,167.22000122070312,172.11000061035156,173.13099670410156,173.5399932861328,173.05999755859375,175.02000427246094,177.19000244140625,167.0500030517578,163.19000244140625,162.52000427246094,159.83999633789062,163.6999969482422,160.83999633789062,171.66000366210938,169.27000427246094,165.74000549316406,172.61000061035156,168.97999572753906,157.83999633789062,154.3300018310547,158.39999389648438,153.82000732421875,154.00999450683594,158.8800048828125,153.2100067138672,154.08999633789062,152.5500030517578,152.19000244140625,142.6999969482422,131.75999450683594,122.94999694824219,114.52999877929688,113.66000366210938,119.95999908447266,121.0,119.97000122070312,116.11000061035156,108.18000030517578,115.45999908447266,113.54499816894531,111.27999877929688,105.88999938964844,109.73999786376953,116.0,120.5,121.05000305175781,117.12999725341797,118.07099914550781,123.33000183105469,119.76000213623047,121.43000030517578,122.30999755859375,111.80000305175781,102.8499984741211,99.54000091552734,100.0199966430664,96.19000244140625,93.52999877929688,102.69000244140625,99.0,100.0,97.5199966430664,103.95999908447266,103.33999633789062,96.83000183105469,92.48999786376953,89.08999633789062,88.87999725341797,95.29000091552734,93.66000366210938,96.2300033569336,96.0,95.30000305175781,93.75,94.27999877929688,92.55000305175781,96.77999877929688,99.69999694824219,103.11000061035156,106.9800033569336,108.30999755859375,103.77999877929688,102.37999725341797,105.79000091552734,108.16999816894531,108.19499969482422,110.0,111.66999816894531,108.2249984741211,114.30999755859375,115.5199966430664,118.15499877929688,115.0,119.33000183105469,121.30000305175781,122.80000305175781,123.55000305175781,124.2300033569336,121.62999725341797,121.5,118.18499755859375,110.36000061035156,112.41000366210938,110.93000030517578,115.88999938964844,117.05999755859375,111.7699966430664,114.5,113.48999786376953,111.0999984741211,114.31999969482422,114.08999633789062,112.8499984741211,114.0,120.01799774169922,124.25,119.69999694824219,121.62999725341797,125.29000091552734,121.11000061035156,116.87000274658203,117.93000030517578,116.37000274658203,112.66999816894531,102.19999694824219,101.77999877929688,106.04000091552734,106.70099639892578,109.19000244140625,104.76000213623047,105.48999786376953,109.13999938964844,110.5199966430664,112.0,108.87000274658203,108.55000305175781,110.98799896240234,107.47000122070312,107.30000305175781,115.0,112.33000183105469,120.02999877929688,116.23500061035156,116.3499984741211,116.76000213623047,118.33000183105469,115.37000274658203,117.0,116.05000305175781,111.19000244140625,113.05999755859375,110.96499633789062,102.6449966430664,94.08000183105469,94.99500274658203,96.76000213623047,95.52999877929688,97.75,100.91000366210938,103.44999694824219,107.73999786376953,109.2699966430664,107.69999694824219,101.83000183105469,100.83999633789062,97.01000213623047,93.52999877929688,95.55999755859375,96.97000122070312,97.0,96.0999984741211,95.86000061035156,101.48999786376953,99.25,100.0,98.25,88.80500030517578,92.97000122070312,93.83999633789062,93.76000213623047,100.37000274658203,93.54000091552734,91.5199966430664,89.86000061035156,89.51000213623047,86.70999908447266,87.48999786376953,85.54000091552734,84.69999694824219,84.77999877929688,83.25,82.97000122070312,83.61000061035156,87.38500213623047,85.88999938964844,88.4800033569336,88.5199966430664,90.25499725341797,88.86000061035156,89.0,95.30999755859375,97.5,99.91500091552734,101.41000366210938,99.83999633789062,99.01000213623047,101.98999786376953,104.69999694824219,100.36000061035156,106.30000305175781,108.86000061035156,114.12999725341797,109.4800033569336,111.11000061035156,116.25,116.04000091552734,117.41000366210938,117.91000366210938,119.38999938964844,118.0,112.25,110.0,116.29000091552734,130.0,135.64999389648438,137.43499755859375,129.77000427246094,128.13999938964844,128.2100067138672,123.04000091552734,123.94999694824219,125.11000061035156,122.375,119.66999816894531,123.18000030517578,126.3550033569336,125.73999786376953,126.9000015258789,125.05999755859375,119.73500061035156,115.72200012207031,118.94000244140625,113.86000061035156,113.94999694824219,119.71499633789062,118.05999755859375,120.0,123.88999938964844,122.51000213623047,119.5,117.98999786376953,117.97000122070312,118.33999633789062,120.80000305175781,123.30000305175781,123.0,121.68000030517578,117.87000274658203,113.33999633789062,108.69000244140625,113.55999755859375,114.80000305175781,113.18000030517578,113.88999938964844,115.41999816894531,119.83000183105469,118.1449966430664,118.37000274658203,114.95500183105469,115.52999877929688,115.30999755859375,113.5,114.44000244140625,114.5999984741211,119.26000213623047,120.23999786376953,120.8499984741211,118.94000244140625,120.01000213623047,123.16000366210938,126.5999984741211,109.8499984741211,113.13999938964844,111.36000061035156,105.05999755859375,105.72000122070312,106.06999969482422,108.33999633789062,110.81999969482422,106.26000213623047,109.0,105.45999908447266,106.0999984741211,105.18000030517578,107.7249984741211,105.5999984741211,109.83999633789062,112.93000030517578,115.12000274658203,115.91999816894531,118.13999938964844,114.97000122070312,120.25,119.36499786376953,124.61000061035156,125.38999938964844,122.95999908447266,128.67999267578125,126.37000274658203,125.08999633789062,126.58000183105469,125.98999786376953,122.9000015258789,124.41000366210938,127.38999938964844,127.63999938964844,127.25,129.27999877929688,131.84500122070312,129.1699981689453,128.16000366210938,130.17999267578125,129.4499969482422,139.35000610351562,138.9600067138672,140.25,142.2899932861328,144.0,145.75,143.58999633789062,147.0,147.05999755859375,147.61000061035156,147.8300018310547,151.88999938964844,150.22999572753906,153.86000061035156,149.6199951171875,146.4499969482422,140.94000244140625,140.47000122070312,142.0,140.52000427246094,140.13999938964844,139.8699951171875,134.14999389648438,133.55999755859375,132.5,129.0,129.22000122070312,124.93000030517578,126.15499877929688,124.25,126.9000015258789,128.22999572753906,125.04000091552734,127.0,126.55000305175781,130.47000122070312,130.60000610351562,133.6999969482422,141.14999389648438,140.77999877929688,139.25,143.94000244140625,146.22000122070312,146.8800048828125,146.0,144.61000061035156,143.5850067138672,141.92999267578125,141.86000061035156,142.75999450683594,135.55499267578125,133.7100067138672,130.8000030517578,132.77999877929688,133.8000030517578,133.64999389648438,138.0500030517578,136.5500030517578,132.1699981689453,128.75,126.54000091552734,123.0,124.0,127.69000244140625,132.1199951171875,130.2899932861328,127.61000061035156,125.19000244140625,123.76000213623047,123.0199966430664,122.38999938964844,119.48999786376953,116.4800033569336,121.18000030517578,120.75,118.13999938964844,116.20999908447266,117.1500015258789,117.12999725341797,118.25,122.51000213623047,117.9800033569336,123.21499633789062,118.25,119.43000030517578,118.3499984741211,114.5250015258789,117.51000213623047,122.3550033569336,128.0,127.12000274658203,126.6500015258789,127.4000015258789,128.0,127.75,129.0500030517578,127.5,128.7899932861328,127.0,127.0,125.5,134.0,132.67999267578125,135.58999633789062,135.50999450683594,138.19000244140625,141.36000061035156,137.89999389648438,142.9499969482422,145.0,147.25999450683594,147.16000366210938,147.5,146.5,142.3699951171875,141.8800048828125,141.0,139.13499450683594,136.5500030517578,136.7100067138672,134.42999267578125,132.7100067138672,132.86000061035156,134.25,137.30999755859375,138.52000427246094,139.1999969482422,140.7100067138672,139.35000610351562,135.89999389648438,132.83999633789062,137.0,138.60000610351562,141.15499877929688,142.75,143.80999755859375,143.1999969482422,142.11000061035156,150.0,150.5399932861328,148.64500427246094,144.8000030517578,143.99000549316406,146.08999633789062,145.10000610351562,145.1199951171875,149.25,145.83999633789062,148.67999267578125,149.2100067138672,146.16000366210938,148.91000366210938,156.10000610351562,150.30999755859375,145.97999572753906,151.02000427246094,153.27000427246094,149.9600067138672,150.0,152.02999877929688,153.39999389648438,157.22999572753906,159.89999389648438,157.1999969482422,160.10000610351562,165.0,166.0,163.75999450683594,163.0,162.4199981689453,165.74000549316406,166.38999938964844,161.94500732421875,161.49000549316406,162.38999938964844,165.80999755859375,167.0,167.86000061035156,169.69000244140625,169.11000061035156,166.57000732421875,166.42999267578125,160.9499969482422,158.75,161.22000122070312,159.14999389648438,160.36000061035156,161.5500030517578,159.6300048828125,159.0,162.4199981689453,161.80999755859375,155.8300018310547,158.4499969482422,159.60000610351562,159.5399932861328,156.19000244140625,157.24000549316406,164.47500610351562,161.50999450683594,163.67999267578125,164.75,160.55999755859375,157.5800018310547,157.2100067138672,161.80999755859375,161.0,161.80999755859375,157.10000610351562,146.60000610351562,147.75,147.0500030517578,149.39999389648438,147.57000732421875,146.33999633789062,146.80999755859375,146.17999267578125,145.7100067138672,143.94000244140625,142.5800018310547,142.5,146.0,144.8800048828125,145.39999389648438,145.77999877929688,145.74000549316406,145.82000732421875,147.97999572753906,145.50999450683594,146.1999969482422,146.00999450683594,147.7949981689453],\"type\":\"scatter\"}],                        {\"height\":500,\"width\":1000,\"template\":{\"data\":{\"barpolar\":[{\"marker\":{\"line\":{\"color\":\"white\",\"width\":0.5},\"pattern\":{\"fillmode\":\"overlay\",\"size\":10,\"solidity\":0.2}},\"type\":\"barpolar\"}],\"bar\":[{\"error_x\":{\"color\":\"#2a3f5f\"},\"error_y\":{\"color\":\"#2a3f5f\"},\"marker\":{\"line\":{\"color\":\"white\",\"width\":0.5},\"pattern\":{\"fillmode\":\"overlay\",\"size\":10,\"solidity\":0.2}},\"type\":\"bar\"}],\"carpet\":[{\"aaxis\":{\"endlinecolor\":\"#2a3f5f\",\"gridcolor\":\"#C8D4E3\",\"linecolor\":\"#C8D4E3\",\"minorgridcolor\":\"#C8D4E3\",\"startlinecolor\":\"#2a3f5f\"},\"baxis\":{\"endlinecolor\":\"#2a3f5f\",\"gridcolor\":\"#C8D4E3\",\"linecolor\":\"#C8D4E3\",\"minorgridcolor\":\"#C8D4E3\",\"startlinecolor\":\"#2a3f5f\"},\"type\":\"carpet\"}],\"choropleth\":[{\"colorbar\":{\"outlinewidth\":0,\"ticks\":\"\"},\"type\":\"choropleth\"}],\"contourcarpet\":[{\"colorbar\":{\"outlinewidth\":0,\"ticks\":\"\"},\"type\":\"contourcarpet\"}],\"contour\":[{\"colorbar\":{\"outlinewidth\":0,\"ticks\":\"\"},\"colorscale\":[[0.0,\"#0d0887\"],[0.1111111111111111,\"#46039f\"],[0.2222222222222222,\"#7201a8\"],[0.3333333333333333,\"#9c179e\"],[0.4444444444444444,\"#bd3786\"],[0.5555555555555556,\"#d8576b\"],[0.6666666666666666,\"#ed7953\"],[0.7777777777777778,\"#fb9f3a\"],[0.8888888888888888,\"#fdca26\"],[1.0,\"#f0f921\"]],\"type\":\"contour\"}],\"heatmapgl\":[{\"colorbar\":{\"outlinewidth\":0,\"ticks\":\"\"},\"colorscale\":[[0.0,\"#0d0887\"],[0.1111111111111111,\"#46039f\"],[0.2222222222222222,\"#7201a8\"],[0.3333333333333333,\"#9c179e\"],[0.4444444444444444,\"#bd3786\"],[0.5555555555555556,\"#d8576b\"],[0.6666666666666666,\"#ed7953\"],[0.7777777777777778,\"#fb9f3a\"],[0.8888888888888888,\"#fdca26\"],[1.0,\"#f0f921\"]],\"type\":\"heatmapgl\"}],\"heatmap\":[{\"colorbar\":{\"outlinewidth\":0,\"ticks\":\"\"},\"colorscale\":[[0.0,\"#0d0887\"],[0.1111111111111111,\"#46039f\"],[0.2222222222222222,\"#7201a8\"],[0.3333333333333333,\"#9c179e\"],[0.4444444444444444,\"#bd3786\"],[0.5555555555555556,\"#d8576b\"],[0.6666666666666666,\"#ed7953\"],[0.7777777777777778,\"#fb9f3a\"],[0.8888888888888888,\"#fdca26\"],[1.0,\"#f0f921\"]],\"type\":\"heatmap\"}],\"histogram2dcontour\":[{\"colorbar\":{\"outlinewidth\":0,\"ticks\":\"\"},\"colorscale\":[[0.0,\"#0d0887\"],[0.1111111111111111,\"#46039f\"],[0.2222222222222222,\"#7201a8\"],[0.3333333333333333,\"#9c179e\"],[0.4444444444444444,\"#bd3786\"],[0.5555555555555556,\"#d8576b\"],[0.6666666666666666,\"#ed7953\"],[0.7777777777777778,\"#fb9f3a\"],[0.8888888888888888,\"#fdca26\"],[1.0,\"#f0f921\"]],\"type\":\"histogram2dcontour\"}],\"histogram2d\":[{\"colorbar\":{\"outlinewidth\":0,\"ticks\":\"\"},\"colorscale\":[[0.0,\"#0d0887\"],[0.1111111111111111,\"#46039f\"],[0.2222222222222222,\"#7201a8\"],[0.3333333333333333,\"#9c179e\"],[0.4444444444444444,\"#bd3786\"],[0.5555555555555556,\"#d8576b\"],[0.6666666666666666,\"#ed7953\"],[0.7777777777777778,\"#fb9f3a\"],[0.8888888888888888,\"#fdca26\"],[1.0,\"#f0f921\"]],\"type\":\"histogram2d\"}],\"histogram\":[{\"marker\":{\"pattern\":{\"fillmode\":\"overlay\",\"size\":10,\"solidity\":0.2}},\"type\":\"histogram\"}],\"mesh3d\":[{\"colorbar\":{\"outlinewidth\":0,\"ticks\":\"\"},\"type\":\"mesh3d\"}],\"parcoords\":[{\"line\":{\"colorbar\":{\"outlinewidth\":0,\"ticks\":\"\"}},\"type\":\"parcoords\"}],\"pie\":[{\"automargin\":true,\"type\":\"pie\"}],\"scatter3d\":[{\"line\":{\"colorbar\":{\"outlinewidth\":0,\"ticks\":\"\"}},\"marker\":{\"colorbar\":{\"outlinewidth\":0,\"ticks\":\"\"}},\"type\":\"scatter3d\"}],\"scattercarpet\":[{\"marker\":{\"colorbar\":{\"outlinewidth\":0,\"ticks\":\"\"}},\"type\":\"scattercarpet\"}],\"scattergeo\":[{\"marker\":{\"colorbar\":{\"outlinewidth\":0,\"ticks\":\"\"}},\"type\":\"scattergeo\"}],\"scattergl\":[{\"marker\":{\"colorbar\":{\"outlinewidth\":0,\"ticks\":\"\"}},\"type\":\"scattergl\"}],\"scattermapbox\":[{\"marker\":{\"colorbar\":{\"outlinewidth\":0,\"ticks\":\"\"}},\"type\":\"scattermapbox\"}],\"scatterpolargl\":[{\"marker\":{\"colorbar\":{\"outlinewidth\":0,\"ticks\":\"\"}},\"type\":\"scatterpolargl\"}],\"scatterpolar\":[{\"marker\":{\"colorbar\":{\"outlinewidth\":0,\"ticks\":\"\"}},\"type\":\"scatterpolar\"}],\"scatter\":[{\"fillpattern\":{\"fillmode\":\"overlay\",\"size\":10,\"solidity\":0.2},\"type\":\"scatter\"}],\"scatterternary\":[{\"marker\":{\"colorbar\":{\"outlinewidth\":0,\"ticks\":\"\"}},\"type\":\"scatterternary\"}],\"surface\":[{\"colorbar\":{\"outlinewidth\":0,\"ticks\":\"\"},\"colorscale\":[[0.0,\"#0d0887\"],[0.1111111111111111,\"#46039f\"],[0.2222222222222222,\"#7201a8\"],[0.3333333333333333,\"#9c179e\"],[0.4444444444444444,\"#bd3786\"],[0.5555555555555556,\"#d8576b\"],[0.6666666666666666,\"#ed7953\"],[0.7777777777777778,\"#fb9f3a\"],[0.8888888888888888,\"#fdca26\"],[1.0,\"#f0f921\"]],\"type\":\"surface\"}],\"table\":[{\"cells\":{\"fill\":{\"color\":\"#EBF0F8\"},\"line\":{\"color\":\"white\"}},\"header\":{\"fill\":{\"color\":\"#C8D4E3\"},\"line\":{\"color\":\"white\"}},\"type\":\"table\"}]},\"layout\":{\"annotationdefaults\":{\"arrowcolor\":\"#2a3f5f\",\"arrowhead\":0,\"arrowwidth\":1},\"autotypenumbers\":\"strict\",\"coloraxis\":{\"colorbar\":{\"outlinewidth\":0,\"ticks\":\"\"}},\"colorscale\":{\"diverging\":[[0,\"#8e0152\"],[0.1,\"#c51b7d\"],[0.2,\"#de77ae\"],[0.3,\"#f1b6da\"],[0.4,\"#fde0ef\"],[0.5,\"#f7f7f7\"],[0.6,\"#e6f5d0\"],[0.7,\"#b8e186\"],[0.8,\"#7fbc41\"],[0.9,\"#4d9221\"],[1,\"#276419\"]],\"sequential\":[[0.0,\"#0d0887\"],[0.1111111111111111,\"#46039f\"],[0.2222222222222222,\"#7201a8\"],[0.3333333333333333,\"#9c179e\"],[0.4444444444444444,\"#bd3786\"],[0.5555555555555556,\"#d8576b\"],[0.6666666666666666,\"#ed7953\"],[0.7777777777777778,\"#fb9f3a\"],[0.8888888888888888,\"#fdca26\"],[1.0,\"#f0f921\"]],\"sequentialminus\":[[0.0,\"#0d0887\"],[0.1111111111111111,\"#46039f\"],[0.2222222222222222,\"#7201a8\"],[0.3333333333333333,\"#9c179e\"],[0.4444444444444444,\"#bd3786\"],[0.5555555555555556,\"#d8576b\"],[0.6666666666666666,\"#ed7953\"],[0.7777777777777778,\"#fb9f3a\"],[0.8888888888888888,\"#fdca26\"],[1.0,\"#f0f921\"]]},\"colorway\":[\"#636efa\",\"#EF553B\",\"#00cc96\",\"#ab63fa\",\"#FFA15A\",\"#19d3f3\",\"#FF6692\",\"#B6E880\",\"#FF97FF\",\"#FECB52\"],\"font\":{\"color\":\"#2a3f5f\"},\"geo\":{\"bgcolor\":\"white\",\"lakecolor\":\"white\",\"landcolor\":\"white\",\"showlakes\":true,\"showland\":true,\"subunitcolor\":\"#C8D4E3\"},\"hoverlabel\":{\"align\":\"left\"},\"hovermode\":\"closest\",\"mapbox\":{\"style\":\"light\"},\"paper_bgcolor\":\"white\",\"plot_bgcolor\":\"white\",\"polar\":{\"angularaxis\":{\"gridcolor\":\"#EBF0F8\",\"linecolor\":\"#EBF0F8\",\"ticks\":\"\"},\"bgcolor\":\"white\",\"radialaxis\":{\"gridcolor\":\"#EBF0F8\",\"linecolor\":\"#EBF0F8\",\"ticks\":\"\"}},\"scene\":{\"xaxis\":{\"backgroundcolor\":\"white\",\"gridcolor\":\"#DFE8F3\",\"gridwidth\":2,\"linecolor\":\"#EBF0F8\",\"showbackground\":true,\"ticks\":\"\",\"zerolinecolor\":\"#EBF0F8\"},\"yaxis\":{\"backgroundcolor\":\"white\",\"gridcolor\":\"#DFE8F3\",\"gridwidth\":2,\"linecolor\":\"#EBF0F8\",\"showbackground\":true,\"ticks\":\"\",\"zerolinecolor\":\"#EBF0F8\"},\"zaxis\":{\"backgroundcolor\":\"white\",\"gridcolor\":\"#DFE8F3\",\"gridwidth\":2,\"linecolor\":\"#EBF0F8\",\"showbackground\":true,\"ticks\":\"\",\"zerolinecolor\":\"#EBF0F8\"}},\"shapedefaults\":{\"line\":{\"color\":\"#2a3f5f\"}},\"ternary\":{\"aaxis\":{\"gridcolor\":\"#DFE8F3\",\"linecolor\":\"#A2B1C6\",\"ticks\":\"\"},\"baxis\":{\"gridcolor\":\"#DFE8F3\",\"linecolor\":\"#A2B1C6\",\"ticks\":\"\"},\"bgcolor\":\"white\",\"caxis\":{\"gridcolor\":\"#DFE8F3\",\"linecolor\":\"#A2B1C6\",\"ticks\":\"\"}},\"title\":{\"x\":0.05},\"xaxis\":{\"automargin\":true,\"gridcolor\":\"#EBF0F8\",\"linecolor\":\"#EBF0F8\",\"ticks\":\"\",\"title\":{\"standoff\":15},\"zerolinecolor\":\"#EBF0F8\",\"zerolinewidth\":2},\"yaxis\":{\"automargin\":true,\"gridcolor\":\"#EBF0F8\",\"linecolor\":\"#EBF0F8\",\"ticks\":\"\",\"title\":{\"standoff\":15},\"zerolinecolor\":\"#EBF0F8\",\"zerolinewidth\":2}}},\"title\":{\"text\":\"ABNB\"},\"xaxis\":{\"title\":{\"text\":\"date\"}},\"yaxis\":{\"title\":{\"text\":\"Stock price\"}}},                        {\"responsive\": true}                    ).then(function(){\n",
       "                            \n",
       "var gd = document.getElementById('e73fb8cd-2b88-48ec-a85a-f48d5aad1088');\n",
       "var x = new MutationObserver(function (mutations, observer) {{\n",
       "        var display = window.getComputedStyle(gd).display;\n",
       "        if (!display || display === 'none') {{\n",
       "            console.log([gd, 'removed!']);\n",
       "            Plotly.purge(gd);\n",
       "            observer.disconnect();\n",
       "        }}\n",
       "}});\n",
       "\n",
       "// Listen for the removal of the full notebook cells\n",
       "var notebookContainer = gd.closest('#notebook-container');\n",
       "if (notebookContainer) {{\n",
       "    x.observe(notebookContainer, {childList: true});\n",
       "}}\n",
       "\n",
       "// Listen for the clearing of the current output cell\n",
       "var outputEl = gd.closest('.output');\n",
       "if (outputEl) {{\n",
       "    x.observe(outputEl, {childList: true});\n",
       "}}\n",
       "\n",
       "                        })                };                });            </script>        </div>"
      ]
     },
     "metadata": {},
     "output_type": "display_data"
    }
   ],
   "source": [
    "fig = go.Figure(layout=go.Layout(\n",
    "     \n",
    "        width=1000,\n",
    "        height=500,\n",
    "    ))\n",
    "fig.add_trace(go.Scatter(x=x_val, y=y_val,\n",
    "                    mode='lines',\n",
    "                    name='lines'))\n",
    "\n",
    "\n",
    "\n",
    "# Edit the layout\n",
    "fig.update_layout(title='ABNB',\n",
    "                  template=\"plotly_white\",\n",
    "                   xaxis_title='date',\n",
    "                   yaxis_title='Stock price')\n",
    "\n",
    "\n",
    "fig.show()\n"
   ]
  },
  {
   "cell_type": "code",
   "execution_count": null,
   "id": "2f915841-4e8c-444a-a72c-08e1f5925d98",
   "metadata": {},
   "outputs": [],
   "source": []
  }
 ],
 "metadata": {
  "kernelspec": {
   "display_name": "Python 3 (ipykernel)",
   "language": "python",
   "name": "python3"
  },
  "language_info": {
   "codemirror_mode": {
    "name": "ipython",
    "version": 3
   },
   "file_extension": ".py",
   "mimetype": "text/x-python",
   "name": "python",
   "nbconvert_exporter": "python",
   "pygments_lexer": "ipython3",
   "version": "3.10.12"
  }
 },
 "nbformat": 4,
 "nbformat_minor": 5
}
