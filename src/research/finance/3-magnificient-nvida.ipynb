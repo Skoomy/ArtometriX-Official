{
 "cells": [
  {
   "cell_type": "markdown",
   "id": "54f4471f-9182-47e1-868b-703365a4d6d7",
   "metadata": {},
   "source": [
    "## NVIDA \n",
    "\n",
    "\n"
   ]
  },
  {
   "cell_type": "markdown",
   "id": "fab53816-7df5-48b0-a90f-336d4e5dc125",
   "metadata": {},
   "source": [
    "nvdia vs Intel "
   ]
  },
  {
   "cell_type": "code",
   "execution_count": null,
   "id": "5a5cd6d4-05fc-432c-9264-61cb9819b28a",
   "metadata": {},
   "outputs": [],
   "source": [
    "Bubble plot of capitalization "
   ]
  }
 ],
 "metadata": {
  "kernelspec": {
   "display_name": "Python 3 (ipykernel)",
   "language": "python",
   "name": "python3"
  },
  "language_info": {
   "codemirror_mode": {
    "name": "ipython",
    "version": 3
   },
   "file_extension": ".py",
   "mimetype": "text/x-python",
   "name": "python",
   "nbconvert_exporter": "python",
   "pygments_lexer": "ipython3",
   "version": "3.10.12"
  }
 },
 "nbformat": 4,
 "nbformat_minor": 5
}
