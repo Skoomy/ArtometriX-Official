{
 "cells": [
  {
   "cell_type": "markdown",
   "id": "cc713bc6-080e-4fa6-bace-50d3fab7547e",
   "metadata": {},
   "source": [
    "https://www.data-in-brief.com/article/S2352-3409(16)30128-7/fulltext\n",
    "\n",
    "> Determining firms׳ utility functions and competitive roles from data on market shares using Lotka–Volterra models\n",
    "\n",
    "\n",
    "Lotka-volterra Model (Prey predator)\n",
    "\n",
    "\n",
    "## References \n",
    "\n",
    "https://www.sciencedirect.com/science/article/pii/S0040162516000184\n"
   ]
  }
 ],
 "metadata": {
  "kernelspec": {
   "display_name": "Python 3 (ipykernel)",
   "language": "python",
   "name": "python3"
  },
  "language_info": {
   "codemirror_mode": {
    "name": "ipython",
    "version": 3
   },
   "file_extension": ".py",
   "mimetype": "text/x-python",
   "name": "python",
   "nbconvert_exporter": "python",
   "pygments_lexer": "ipython3",
   "version": "3.8.17"
  }
 },
 "nbformat": 4,
 "nbformat_minor": 5
}
