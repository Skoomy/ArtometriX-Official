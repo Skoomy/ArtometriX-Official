{
 "cells": [
  {
   "cell_type": "markdown",
   "id": "525fd560-9624-48f2-95fd-e5c45404124a",
   "metadata": {},
   "source": [
    "\n",
    "Nice article \n",
    "\n",
    "- https://www.linkedin.com/pulse/trust-word-mouth-customer-retention-adamou-boubacar-amadou\n",
    "\n",
    "- https://amplitude.com/blog/retention-rate-meaning-use-cases-and-more\n",
    "- \n",
    "\n",
    "Keywords: \n",
    "- customer lifetime value\n",
    "- customer retention rate\n",
    "- Churn rate"
   ]
  }
 ],
 "metadata": {
  "kernelspec": {
   "display_name": "Python 3 (ipykernel)",
   "language": "python",
   "name": "python3"
  },
  "language_info": {
   "codemirror_mode": {
    "name": "ipython",
    "version": 3
   },
   "file_extension": ".py",
   "mimetype": "text/x-python",
   "name": "python",
   "nbconvert_exporter": "python",
   "pygments_lexer": "ipython3",
   "version": "3.8.17"
  }
 },
 "nbformat": 4,
 "nbformat_minor": 5
}
